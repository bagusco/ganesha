{
 "cells": [
  {
   "cell_type": "markdown",
   "metadata": {},
   "source": [
    "# PEMODELAN REGRESI LOGISTIK"
   ]
  },
  {
   "cell_type": "markdown",
   "metadata": {},
   "source": [
    "## Tahap 1: Membaca Data"
   ]
  },
  {
   "cell_type": "code",
   "execution_count": 1,
   "metadata": {},
   "outputs": [],
   "source": [
    "#import library\n",
    "import pandas as pd"
   ]
  },
  {
   "cell_type": "code",
   "execution_count": 2,
   "metadata": {
    "scrolled": true
   },
   "outputs": [
    {
     "data": {
      "text/html": [
       "<div>\n",
       "<style scoped>\n",
       "    .dataframe tbody tr th:only-of-type {\n",
       "        vertical-align: middle;\n",
       "    }\n",
       "\n",
       "    .dataframe tbody tr th {\n",
       "        vertical-align: top;\n",
       "    }\n",
       "\n",
       "    .dataframe thead th {\n",
       "        text-align: right;\n",
       "    }\n",
       "</style>\n",
       "<table border=\"1\" class=\"dataframe\">\n",
       "  <thead>\n",
       "    <tr style=\"text-align: right;\">\n",
       "      <th></th>\n",
       "      <th>No</th>\n",
       "      <th>Saldo</th>\n",
       "      <th>Frek ATM</th>\n",
       "      <th>Jenis Kelamin</th>\n",
       "      <th>tempat tinggal</th>\n",
       "      <th>Frek Supermarket</th>\n",
       "      <th>Frek Dept Store</th>\n",
       "      <th>Usia</th>\n",
       "      <th>Tertarik</th>\n",
       "    </tr>\n",
       "  </thead>\n",
       "  <tbody>\n",
       "    <tr>\n",
       "      <th>0</th>\n",
       "      <td>1</td>\n",
       "      <td>5.494</td>\n",
       "      <td>9</td>\n",
       "      <td>Perempuan</td>\n",
       "      <td>rural</td>\n",
       "      <td>2</td>\n",
       "      <td>2</td>\n",
       "      <td>44</td>\n",
       "      <td>0</td>\n",
       "    </tr>\n",
       "    <tr>\n",
       "      <th>1</th>\n",
       "      <td>2</td>\n",
       "      <td>4.700</td>\n",
       "      <td>3</td>\n",
       "      <td>Perempuan</td>\n",
       "      <td>urban</td>\n",
       "      <td>2</td>\n",
       "      <td>4</td>\n",
       "      <td>39</td>\n",
       "      <td>0</td>\n",
       "    </tr>\n",
       "    <tr>\n",
       "      <th>2</th>\n",
       "      <td>3</td>\n",
       "      <td>4.496</td>\n",
       "      <td>5</td>\n",
       "      <td>Laki-Laki</td>\n",
       "      <td>rural</td>\n",
       "      <td>3</td>\n",
       "      <td>2</td>\n",
       "      <td>36</td>\n",
       "      <td>0</td>\n",
       "    </tr>\n",
       "    <tr>\n",
       "      <th>3</th>\n",
       "      <td>4</td>\n",
       "      <td>4.360</td>\n",
       "      <td>5</td>\n",
       "      <td>Perempuan</td>\n",
       "      <td>urban</td>\n",
       "      <td>8</td>\n",
       "      <td>2</td>\n",
       "      <td>37</td>\n",
       "      <td>0</td>\n",
       "    </tr>\n",
       "    <tr>\n",
       "      <th>4</th>\n",
       "      <td>5</td>\n",
       "      <td>18.866</td>\n",
       "      <td>9</td>\n",
       "      <td>Laki-Laki</td>\n",
       "      <td>rural</td>\n",
       "      <td>2</td>\n",
       "      <td>3</td>\n",
       "      <td>30</td>\n",
       "      <td>1</td>\n",
       "    </tr>\n",
       "  </tbody>\n",
       "</table>\n",
       "</div>"
      ],
      "text/plain": [
       "   No   Saldo  Frek ATM Jenis Kelamin tempat tinggal  Frek Supermarket  \\\n",
       "0   1   5.494         9     Perempuan          rural                 2   \n",
       "1   2   4.700         3     Perempuan          urban                 2   \n",
       "2   3   4.496         5     Laki-Laki          rural                 3   \n",
       "3   4   4.360         5     Perempuan          urban                 8   \n",
       "4   5  18.866         9     Laki-Laki          rural                 2   \n",
       "\n",
       "   Frek Dept Store  Usia  Tertarik  \n",
       "0                2    44         0  \n",
       "1                4    39         0  \n",
       "2                2    36         0  \n",
       "3                2    37         0  \n",
       "4                3    30         1  "
      ]
     },
     "execution_count": 2,
     "metadata": {},
     "output_type": "execute_result"
    }
   ],
   "source": [
    "#import data\n",
    "datapilot = pd.read_csv('D:\\data propensity.csv',delimiter=',') \n",
    "\n",
    "#menampilkan beberapa baris pertama datapilot\n",
    "datapilot.head()"
   ]
  },
  {
   "cell_type": "markdown",
   "metadata": {},
   "source": [
    "## Tahap 2: Melihat hubungan antara prediktor dengan variabel target"
   ]
  },
  {
   "cell_type": "code",
   "execution_count": 3,
   "metadata": {},
   "outputs": [
    {
     "data": {
      "text/html": [
       "<div>\n",
       "<style scoped>\n",
       "    .dataframe tbody tr th:only-of-type {\n",
       "        vertical-align: middle;\n",
       "    }\n",
       "\n",
       "    .dataframe tbody tr th {\n",
       "        vertical-align: top;\n",
       "    }\n",
       "\n",
       "    .dataframe thead th {\n",
       "        text-align: right;\n",
       "    }\n",
       "</style>\n",
       "<table border=\"1\" class=\"dataframe\">\n",
       "  <thead>\n",
       "    <tr style=\"text-align: right;\">\n",
       "      <th>Tertarik</th>\n",
       "      <th>0</th>\n",
       "      <th>1</th>\n",
       "    </tr>\n",
       "    <tr>\n",
       "      <th>Jenis Kelamin</th>\n",
       "      <th></th>\n",
       "      <th></th>\n",
       "    </tr>\n",
       "  </thead>\n",
       "  <tbody>\n",
       "    <tr>\n",
       "      <th>Laki-Laki</th>\n",
       "      <td>2962</td>\n",
       "      <td>765</td>\n",
       "    </tr>\n",
       "    <tr>\n",
       "      <th>Perempuan</th>\n",
       "      <td>3027</td>\n",
       "      <td>746</td>\n",
       "    </tr>\n",
       "  </tbody>\n",
       "</table>\n",
       "</div>"
      ],
      "text/plain": [
       "Tertarik          0    1\n",
       "Jenis Kelamin           \n",
       "Laki-Laki      2962  765\n",
       "Perempuan      3027  746"
      ]
     },
     "execution_count": 3,
     "metadata": {},
     "output_type": "execute_result"
    }
   ],
   "source": [
    "#crosstab antara Jenis Kelamin dengan variabel Tertarik\n",
    "pd.crosstab(datapilot['Jenis Kelamin'],datapilot['Tertarik'])"
   ]
  },
  {
   "cell_type": "code",
   "execution_count": 4,
   "metadata": {},
   "outputs": [
    {
     "data": {
      "text/html": [
       "<div>\n",
       "<style scoped>\n",
       "    .dataframe tbody tr th:only-of-type {\n",
       "        vertical-align: middle;\n",
       "    }\n",
       "\n",
       "    .dataframe tbody tr th {\n",
       "        vertical-align: top;\n",
       "    }\n",
       "\n",
       "    .dataframe thead th {\n",
       "        text-align: right;\n",
       "    }\n",
       "</style>\n",
       "<table border=\"1\" class=\"dataframe\">\n",
       "  <thead>\n",
       "    <tr style=\"text-align: right;\">\n",
       "      <th>Tertarik</th>\n",
       "      <th>0</th>\n",
       "      <th>1</th>\n",
       "    </tr>\n",
       "    <tr>\n",
       "      <th>Jenis Kelamin</th>\n",
       "      <th></th>\n",
       "      <th></th>\n",
       "    </tr>\n",
       "  </thead>\n",
       "  <tbody>\n",
       "    <tr>\n",
       "      <th>Laki-Laki</th>\n",
       "      <td>0.794741</td>\n",
       "      <td>0.205259</td>\n",
       "    </tr>\n",
       "    <tr>\n",
       "      <th>Perempuan</th>\n",
       "      <td>0.802279</td>\n",
       "      <td>0.197721</td>\n",
       "    </tr>\n",
       "  </tbody>\n",
       "</table>\n",
       "</div>"
      ],
      "text/plain": [
       "Tertarik              0         1\n",
       "Jenis Kelamin                    \n",
       "Laki-Laki      0.794741  0.205259\n",
       "Perempuan      0.802279  0.197721"
      ]
     },
     "execution_count": 4,
     "metadata": {},
     "output_type": "execute_result"
    }
   ],
   "source": [
    "#crosstab antara Jenis Kelamin dengan variabel Tertarik  (persen baris)\n",
    "pd.crosstab(datapilot['Jenis Kelamin'],datapilot['Tertarik'],normalize='index')"
   ]
  },
  {
   "cell_type": "code",
   "execution_count": 5,
   "metadata": {},
   "outputs": [
    {
     "data": {
      "text/plain": [
       "<BarContainer object of 2 artists>"
      ]
     },
     "execution_count": 5,
     "metadata": {},
     "output_type": "execute_result"
    }
   ],
   "source": [
    "cross= pd.crosstab(datapilot['Jenis Kelamin'],datapilot['Tertarik'],normalize='index')\n",
    "\n",
    "#import library\n",
    "import matplotlib.pyplot as plt\n",
    "\n",
    "#menampilkan bar plot\n",
    "plt.bar(cross.index,cross[1])"
   ]
  },
  {
   "cell_type": "code",
   "execution_count": 6,
   "metadata": {},
   "outputs": [
    {
     "data": {
      "text/plain": [
       "<BarContainer object of 2 artists>"
      ]
     },
     "execution_count": 6,
     "metadata": {},
     "output_type": "execute_result"
    },
    {
     "data": {
      "image/png": "[encoded data removed]",
      "text/plain": [
       "<Figure size 432x288 with 1 Axes>"
      ]
     },
     "metadata": {
      "needs_background": "light"
     },
     "output_type": "display_data"
    }
   ],
   "source": [
    "cross= pd.crosstab(datapilot['Jenis Kelamin'],datapilot['Tertarik'],normalize='index')\n",
    "\n",
    "plt.bar(cross.index,cross[1])\n",
    "plt.bar(cross.index,cross[0],bottom=cross[1])"
   ]
  },
  {
   "cell_type": "code",
   "execution_count": 7,
   "metadata": {
    "scrolled": true
   },
   "outputs": [
    {
     "data": {
      "text/html": [
       "<div>\n",
       "<style scoped>\n",
       "    .dataframe tbody tr th:only-of-type {\n",
       "        vertical-align: middle;\n",
       "    }\n",
       "\n",
       "    .dataframe tbody tr th {\n",
       "        vertical-align: top;\n",
       "    }\n",
       "\n",
       "    .dataframe thead th {\n",
       "        text-align: right;\n",
       "    }\n",
       "</style>\n",
       "<table border=\"1\" class=\"dataframe\">\n",
       "  <thead>\n",
       "    <tr style=\"text-align: right;\">\n",
       "      <th></th>\n",
       "      <th>No</th>\n",
       "      <th>Saldo</th>\n",
       "      <th>Frek ATM</th>\n",
       "      <th>Jenis Kelamin</th>\n",
       "      <th>tempat tinggal</th>\n",
       "      <th>Frek Supermarket</th>\n",
       "      <th>Frek Dept Store</th>\n",
       "      <th>Usia</th>\n",
       "      <th>Tertarik</th>\n",
       "      <th>Frek ATM bin</th>\n",
       "    </tr>\n",
       "  </thead>\n",
       "  <tbody>\n",
       "    <tr>\n",
       "      <th>0</th>\n",
       "      <td>1</td>\n",
       "      <td>5.494</td>\n",
       "      <td>9</td>\n",
       "      <td>Perempuan</td>\n",
       "      <td>rural</td>\n",
       "      <td>2</td>\n",
       "      <td>2</td>\n",
       "      <td>44</td>\n",
       "      <td>0</td>\n",
       "      <td>2</td>\n",
       "    </tr>\n",
       "    <tr>\n",
       "      <th>1</th>\n",
       "      <td>2</td>\n",
       "      <td>4.700</td>\n",
       "      <td>3</td>\n",
       "      <td>Perempuan</td>\n",
       "      <td>urban</td>\n",
       "      <td>2</td>\n",
       "      <td>4</td>\n",
       "      <td>39</td>\n",
       "      <td>0</td>\n",
       "      <td>1</td>\n",
       "    </tr>\n",
       "    <tr>\n",
       "      <th>2</th>\n",
       "      <td>3</td>\n",
       "      <td>4.496</td>\n",
       "      <td>5</td>\n",
       "      <td>Laki-Laki</td>\n",
       "      <td>rural</td>\n",
       "      <td>3</td>\n",
       "      <td>2</td>\n",
       "      <td>36</td>\n",
       "      <td>0</td>\n",
       "      <td>2</td>\n",
       "    </tr>\n",
       "    <tr>\n",
       "      <th>3</th>\n",
       "      <td>4</td>\n",
       "      <td>4.360</td>\n",
       "      <td>5</td>\n",
       "      <td>Perempuan</td>\n",
       "      <td>urban</td>\n",
       "      <td>8</td>\n",
       "      <td>2</td>\n",
       "      <td>37</td>\n",
       "      <td>0</td>\n",
       "      <td>2</td>\n",
       "    </tr>\n",
       "    <tr>\n",
       "      <th>4</th>\n",
       "      <td>5</td>\n",
       "      <td>18.866</td>\n",
       "      <td>9</td>\n",
       "      <td>Laki-Laki</td>\n",
       "      <td>rural</td>\n",
       "      <td>2</td>\n",
       "      <td>3</td>\n",
       "      <td>30</td>\n",
       "      <td>1</td>\n",
       "      <td>2</td>\n",
       "    </tr>\n",
       "  </tbody>\n",
       "</table>\n",
       "</div>"
      ],
      "text/plain": [
       "   No   Saldo  Frek ATM Jenis Kelamin tempat tinggal  Frek Supermarket  \\\n",
       "0   1   5.494         9     Perempuan          rural                 2   \n",
       "1   2   4.700         3     Perempuan          urban                 2   \n",
       "2   3   4.496         5     Laki-Laki          rural                 3   \n",
       "3   4   4.360         5     Perempuan          urban                 8   \n",
       "4   5  18.866         9     Laki-Laki          rural                 2   \n",
       "\n",
       "   Frek Dept Store  Usia  Tertarik  Frek ATM bin  \n",
       "0                2    44         0             2  \n",
       "1                4    39         0             1  \n",
       "2                2    36         0             2  \n",
       "3                2    37         0             2  \n",
       "4                3    30         1             2  "
      ]
     },
     "execution_count": 7,
     "metadata": {},
     "output_type": "execute_result"
    }
   ],
   "source": [
    "#Binning frekuensi ATM\n",
    "bins = [-1,3,10,40]\n",
    "label = [1,2,3]\n",
    "datapilot['Frek ATM bin']= pd.cut(datapilot['Frek ATM'],bins=bins, labels=label).astype(int)\n",
    "datapilot.head()"
   ]
  },
  {
   "cell_type": "code",
   "execution_count": 10,
   "metadata": {},
   "outputs": [
    {
     "data": {
      "text/plain": [
       "<BarContainer object of 3 artists>"
      ]
     },
     "execution_count": 10,
     "metadata": {},
     "output_type": "execute_result"
    },
    {
     "data": {
      "image/png": "[encoded data removed]",
      "text/plain": [
       "<Figure size 432x288 with 1 Axes>"
      ]
     },
     "metadata": {
      "needs_background": "light"
     },
     "output_type": "display_data"
    }
   ],
   "source": [
    "cross= pd.crosstab(datapilot['Frek ATM bin'],datapilot['Tertarik'],normalize='index')\n",
    "\n",
    "plt.bar(cross.index,cross[1])\n",
    "plt.bar(cross.index,cross[0],bottom=cross[1])"
   ]
  },
  {
   "cell_type": "markdown",
   "metadata": {},
   "source": [
    "### Tugas 1"
   ]
  },
  {
   "cell_type": "markdown",
   "metadata": {},
   "source": [
    "1. Lakukan binning terhadap variabel Usia\n",
    "   Kategori 1 : Usia <= 25;\n",
    "   Kategori 2 : 25 < Usia <= 30;\n",
    "   Kategori 3 : 30 < Usia <= 35;\n",
    "   Kategori 4 : 35 < Usia <= 40;\n",
    "   Kategori 5 : 40 < Usia <= 45;\n",
    "   Kategori 6 : Lainnya,\n",
    "   Kemudian buat bar plot untuk melihat peluang ketertarikan di masing-masing kelompok! Informasi apa yang bisa anda dapatkan.\n",
    "2. Lakukan binning terhadap variabel Frekuensi Supermarket, \n",
    "   Kategori 1 : Frek = 0;\n",
    "   Kategori 2 : Frek = 1;\n",
    "   Kategori 3 : Frek = 2;\n",
    "   Kategori 4 : Frek = 3;\n",
    "   Kategori 5 : Frek = 4;\n",
    "   Kategori 6 : Frek = 5;\n",
    "   Kategori 7 : Frek > 5.\n",
    "   lalu buat bar plot untuk melihat peluang ketertarikan di masing-masing kelompok! Informasi apa yang bisa anda dapatkan.\n",
    "3. Lakukan binning terhadap variabel Frekuensi Departemen Store, \n",
    "   Kategori 1 : Frek = 0;\n",
    "   Kategori 2 : Frek = 1;\n",
    "   Kategori 3 : Frek = 2;\n",
    "   Kategori 4 : Frek = 3;\n",
    "   Kategori 5 : Frek = 4;\n",
    "   Kategori 6 : Frek = 5;\n",
    "   Kategori 7 : Frek > 5.\n",
    "   lalu buat bar plot untuk melihat peluang ketertarikan di masing-masing kelompok! Informasi apa yang bisa anda dapatkan.\n",
    "4. Lakukan binning terhadap variabel Saldo\n",
    "   Kategori 1 : Saldo <= 3;\n",
    "   Kategori 2 : 3 < Saldo <= 5;\n",
    "   Kategori 3 : 5 < Saldo <= 8;\n",
    "   Kategori 4 : 8 < Saldo <= 10;\n",
    "   Kategori 5 : 10 < Saldo <= 20;\n",
    "   Kategori 6 : 20 < Saldo <= 50;\n",
    "   Kategori 7 : Saldo > 50;\n",
    "   Kemudian buat bar plot untuk melihat peluang ketertarikan di masing-masing kelompok! Informasi apa yang bisa anda dapatkan."
   ]
  },
  {
   "cell_type": "markdown",
   "metadata": {},
   "source": [
    "## Tahap 3: Membuat data training dan data testing"
   ]
  },
  {
   "cell_type": "code",
   "execution_count": 11,
   "metadata": {},
   "outputs": [],
   "source": [
    "#membuat variabel dummy variabel yang memiliki type string\n",
    "datapilot['jk']=datapilot['Jenis Kelamin'].astype('category').cat.codes\n",
    "datapilot['dtempat']=datapilot['tempat tinggal'].astype('category').cat.codes\n",
    "\n",
    "\n",
    "#memisahkan variabel X dan variabel Y ke dataframe berbeda\n",
    "x=datapilot[['Saldo','Frek ATM', 'jk','dtempat','Frek Supermarket','Frek Dept Store','Usia']]\n",
    "y=datapilot['Tertarik']"
   ]
  },
  {
   "cell_type": "code",
   "execution_count": 12,
   "metadata": {},
   "outputs": [],
   "source": [
    "#membuat dataset training (70%) dan testing (30%) secara random\n",
    "from sklearn.model_selection import train_test_split\n",
    "x_train, x_test, y_train, y_test = train_test_split(x,y,test_size=0.3,random_state=101)"
   ]
  },
  {
   "cell_type": "code",
   "execution_count": 13,
   "metadata": {},
   "outputs": [
    {
     "data": {
      "text/html": [
       "<div>\n",
       "<style scoped>\n",
       "    .dataframe tbody tr th:only-of-type {\n",
       "        vertical-align: middle;\n",
       "    }\n",
       "\n",
       "    .dataframe tbody tr th {\n",
       "        vertical-align: top;\n",
       "    }\n",
       "\n",
       "    .dataframe thead th {\n",
       "        text-align: right;\n",
       "    }\n",
       "</style>\n",
       "<table border=\"1\" class=\"dataframe\">\n",
       "  <thead>\n",
       "    <tr style=\"text-align: right;\">\n",
       "      <th></th>\n",
       "      <th>Saldo</th>\n",
       "      <th>Frek ATM</th>\n",
       "      <th>jk</th>\n",
       "      <th>dtempat</th>\n",
       "      <th>Frek Supermarket</th>\n",
       "      <th>Frek Dept Store</th>\n",
       "      <th>Usia</th>\n",
       "    </tr>\n",
       "  </thead>\n",
       "  <tbody>\n",
       "    <tr>\n",
       "      <th>0</th>\n",
       "      <td>5.494</td>\n",
       "      <td>9</td>\n",
       "      <td>1</td>\n",
       "      <td>0</td>\n",
       "      <td>2</td>\n",
       "      <td>2</td>\n",
       "      <td>44</td>\n",
       "    </tr>\n",
       "    <tr>\n",
       "      <th>1</th>\n",
       "      <td>4.700</td>\n",
       "      <td>3</td>\n",
       "      <td>1</td>\n",
       "      <td>1</td>\n",
       "      <td>2</td>\n",
       "      <td>4</td>\n",
       "      <td>39</td>\n",
       "    </tr>\n",
       "    <tr>\n",
       "      <th>2</th>\n",
       "      <td>4.496</td>\n",
       "      <td>5</td>\n",
       "      <td>0</td>\n",
       "      <td>0</td>\n",
       "      <td>3</td>\n",
       "      <td>2</td>\n",
       "      <td>36</td>\n",
       "    </tr>\n",
       "    <tr>\n",
       "      <th>3</th>\n",
       "      <td>4.360</td>\n",
       "      <td>5</td>\n",
       "      <td>1</td>\n",
       "      <td>1</td>\n",
       "      <td>8</td>\n",
       "      <td>2</td>\n",
       "      <td>37</td>\n",
       "    </tr>\n",
       "    <tr>\n",
       "      <th>4</th>\n",
       "      <td>18.866</td>\n",
       "      <td>9</td>\n",
       "      <td>0</td>\n",
       "      <td>0</td>\n",
       "      <td>2</td>\n",
       "      <td>3</td>\n",
       "      <td>30</td>\n",
       "    </tr>\n",
       "  </tbody>\n",
       "</table>\n",
       "</div>"
      ],
      "text/plain": [
       "    Saldo  Frek ATM  jk  dtempat  Frek Supermarket  Frek Dept Store  Usia\n",
       "0   5.494         9   1        0                 2                2    44\n",
       "1   4.700         3   1        1                 2                4    39\n",
       "2   4.496         5   0        0                 3                2    36\n",
       "3   4.360         5   1        1                 8                2    37\n",
       "4  18.866         9   0        0                 2                3    30"
      ]
     },
     "execution_count": 13,
     "metadata": {},
     "output_type": "execute_result"
    }
   ],
   "source": [
    "#menampilkan beberapa baris awal dari varabel x yang akan digunakan\n",
    "x.head()"
   ]
  },
  {
   "cell_type": "markdown",
   "metadata": {},
   "source": [
    "## Tahap 4: Membuat model regresi logistik berdasarkan data training"
   ]
  },
  {
   "cell_type": "code",
   "execution_count": 14,
   "metadata": {},
   "outputs": [
    {
     "data": {
      "text/plain": [
       "LogisticRegression(C=10000000000000000000000000000000000, class_weight=None,\n",
       "          dual=False, fit_intercept=True, intercept_scaling=1,\n",
       "          max_iter=100, multi_class='ovr', n_jobs=1, penalty='l2',\n",
       "          random_state=None, solver='liblinear', tol=0.0001, verbose=0,\n",
       "          warm_start=False)"
      ]
     },
     "execution_count": 14,
     "metadata": {},
     "output_type": "execute_result"
    }
   ],
   "source": [
    "#pembuatan model berdasarkan data training\n",
    "from sklearn.linear_model import LogisticRegression\n",
    "logistik = LogisticRegression(C=10000000000000000000000000000000000)\n",
    "\n",
    "#model data training\n",
    "logistik.fit(x_train,y_train)"
   ]
  },
  {
   "cell_type": "code",
   "execution_count": 15,
   "metadata": {},
   "outputs": [
    {
     "data": {
      "text/plain": [
       "array([10.47815807])"
      ]
     },
     "execution_count": 15,
     "metadata": {},
     "output_type": "execute_result"
    }
   ],
   "source": [
    "#menampilkan intercep yang dihasilkan oleh model\n",
    "logistik.intercept_"
   ]
  },
  {
   "cell_type": "code",
   "execution_count": 16,
   "metadata": {},
   "outputs": [
    {
     "data": {
      "text/plain": [
       "array([[ 0.21233064,  0.3627045 , -1.00685762,  0.00485796,  0.58500373,\n",
       "         0.73774127, -0.51995359]])"
      ]
     },
     "execution_count": 16,
     "metadata": {},
     "output_type": "execute_result"
    }
   ],
   "source": [
    "#menampilkan koefisiensetiap variabel prediktor\n",
    "logistik.coef_"
   ]
  },
  {
   "cell_type": "markdown",
   "metadata": {},
   "source": [
    "## Tahap 5: Evaluasi model"
   ]
  },
  {
   "cell_type": "code",
   "execution_count": 17,
   "metadata": {},
   "outputs": [
    {
     "data": {
      "text/plain": [
       "array([[4097,  109],\n",
       "       [ 198,  846]], dtype=int64)"
      ]
     },
     "execution_count": 17,
     "metadata": {},
     "output_type": "execute_result"
    }
   ],
   "source": [
    "#menampilkan matriks konfusi dari data training\n",
    "y_prediksi = logistik.predict (x_train)\n",
    "from sklearn import metrics\n",
    "klasifikasi = metrics.confusion_matrix(y_train,y_prediksi)\n",
    "klasifikasi"
   ]
  },
  {
   "cell_type": "code",
   "execution_count": 18,
   "metadata": {},
   "outputs": [
    {
     "name": "stdout",
     "output_type": "stream",
     "text": [
      "Accuracy: 0.9415238095238095\n",
      "Precision: 0.8858638743455497\n",
      "Recall: 0.8103448275862069\n",
      "Specificity: 0.8103448275862069\n"
     ]
    }
   ],
   "source": [
    "#melihat nilai akurasi, presisi, sensitifiti dan Specificity data training\n",
    "print(\"Accuracy:\",metrics.accuracy_score(y_train, y_prediksi))\n",
    "print(\"Precision:\",metrics.precision_score(y_train, y_prediksi))\n",
    "print(\"Recall:\",metrics.recall_score(y_train, y_prediksi))\n",
    "print(\"Specificity:\",metrics.recall_score(y_train, y_prediksi))"
   ]
  },
  {
   "cell_type": "code",
   "execution_count": 19,
   "metadata": {},
   "outputs": [
    {
     "data": {
      "text/html": [
       "<div>\n",
       "<style scoped>\n",
       "    .dataframe tbody tr th:only-of-type {\n",
       "        vertical-align: middle;\n",
       "    }\n",
       "\n",
       "    .dataframe tbody tr th {\n",
       "        vertical-align: top;\n",
       "    }\n",
       "\n",
       "    .dataframe thead th {\n",
       "        text-align: right;\n",
       "    }\n",
       "</style>\n",
       "<table border=\"1\" class=\"dataframe\">\n",
       "  <thead>\n",
       "    <tr style=\"text-align: right;\">\n",
       "      <th>col_0</th>\n",
       "      <th>0</th>\n",
       "      <th>1</th>\n",
       "    </tr>\n",
       "    <tr>\n",
       "      <th>Tertarik</th>\n",
       "      <th></th>\n",
       "      <th></th>\n",
       "    </tr>\n",
       "  </thead>\n",
       "  <tbody>\n",
       "    <tr>\n",
       "      <th>0</th>\n",
       "      <td>4097</td>\n",
       "      <td>109</td>\n",
       "    </tr>\n",
       "    <tr>\n",
       "      <th>1</th>\n",
       "      <td>198</td>\n",
       "      <td>846</td>\n",
       "    </tr>\n",
       "  </tbody>\n",
       "</table>\n",
       "</div>"
      ],
      "text/plain": [
       "col_0        0    1\n",
       "Tertarik           \n",
       "0         4097  109\n",
       "1          198  846"
      ]
     },
     "execution_count": 19,
     "metadata": {},
     "output_type": "execute_result"
    }
   ],
   "source": [
    "#cara lain mendapatkan matriks konfusi\n",
    "klasifikasi=pd.crosstab(y_train,y_prediksi)\n",
    "klasifikasi"
   ]
  },
  {
   "cell_type": "code",
   "execution_count": 20,
   "metadata": {
    "scrolled": true
   },
   "outputs": [
    {
     "data": {
      "image/png": "[encoded data removed]",
      "text/plain": [
       "<Figure size 432x288 with 1 Axes>"
      ]
     },
     "metadata": {
      "needs_background": "light"
     },
     "output_type": "display_data"
    }
   ],
   "source": [
    "# kurva ROC untuk data training\n",
    "y_pred_proba = logistik.predict_proba(x_train)[::,1]\n",
    "fpr, tpr, _ = metrics.roc_curve(y_train,  y_pred_proba)\n",
    "auc = metrics.roc_auc_score(y_train, y_pred_proba)\n",
    "plt.plot(fpr,tpr,label=\"data, auc=\"+str(auc))\n",
    "plt.legend(loc=4)\n",
    "plt.show()"
   ]
  },
  {
   "cell_type": "markdown",
   "metadata": {},
   "source": [
    "### Tugas 2"
   ]
  },
  {
   "cell_type": "markdown",
   "metadata": {},
   "source": [
    "1. Tampilkan matriks konfusi dan hasil evaluasi model untuk data testing.\n",
    "2. Tampilkan kurva ROC berdasarkan data testing."
   ]
  },
  {
   "cell_type": "markdown",
   "metadata": {},
   "source": [
    "## Tahap 6: Prediksi data pelanggan lain yang menjadi target dan menampilkan 500 pelanggan paling prospektif"
   ]
  },
  {
   "cell_type": "code",
   "execution_count": 22,
   "metadata": {},
   "outputs": [
    {
     "data": {
      "text/html": [
       "<div>\n",
       "<style scoped>\n",
       "    .dataframe tbody tr th:only-of-type {\n",
       "        vertical-align: middle;\n",
       "    }\n",
       "\n",
       "    .dataframe tbody tr th {\n",
       "        vertical-align: top;\n",
       "    }\n",
       "\n",
       "    .dataframe thead th {\n",
       "        text-align: right;\n",
       "    }\n",
       "</style>\n",
       "<table border=\"1\" class=\"dataframe\">\n",
       "  <thead>\n",
       "    <tr style=\"text-align: right;\">\n",
       "      <th></th>\n",
       "      <th>No</th>\n",
       "      <th>Saldo</th>\n",
       "      <th>Frek ATM</th>\n",
       "      <th>Jenis Kelamin</th>\n",
       "      <th>tempat tinggal</th>\n",
       "      <th>Frek Supermarket</th>\n",
       "      <th>Frek Dept Store</th>\n",
       "      <th>Usia</th>\n",
       "    </tr>\n",
       "  </thead>\n",
       "  <tbody>\n",
       "    <tr>\n",
       "      <th>0</th>\n",
       "      <td>7501</td>\n",
       "      <td>10.173</td>\n",
       "      <td>6</td>\n",
       "      <td>Laki-Laki</td>\n",
       "      <td>urban</td>\n",
       "      <td>3</td>\n",
       "      <td>7</td>\n",
       "      <td>33</td>\n",
       "    </tr>\n",
       "    <tr>\n",
       "      <th>1</th>\n",
       "      <td>7502</td>\n",
       "      <td>19.558</td>\n",
       "      <td>10</td>\n",
       "      <td>Laki-Laki</td>\n",
       "      <td>urban</td>\n",
       "      <td>3</td>\n",
       "      <td>6</td>\n",
       "      <td>37</td>\n",
       "    </tr>\n",
       "    <tr>\n",
       "      <th>2</th>\n",
       "      <td>7503</td>\n",
       "      <td>31.807</td>\n",
       "      <td>15</td>\n",
       "      <td>Laki-Laki</td>\n",
       "      <td>rural</td>\n",
       "      <td>6</td>\n",
       "      <td>7</td>\n",
       "      <td>40</td>\n",
       "    </tr>\n",
       "    <tr>\n",
       "      <th>3</th>\n",
       "      <td>7504</td>\n",
       "      <td>12.924</td>\n",
       "      <td>13</td>\n",
       "      <td>Laki-Laki</td>\n",
       "      <td>urban</td>\n",
       "      <td>5</td>\n",
       "      <td>1</td>\n",
       "      <td>38</td>\n",
       "    </tr>\n",
       "    <tr>\n",
       "      <th>4</th>\n",
       "      <td>7505</td>\n",
       "      <td>0.115</td>\n",
       "      <td>0</td>\n",
       "      <td>Laki-Laki</td>\n",
       "      <td>rural</td>\n",
       "      <td>3</td>\n",
       "      <td>0</td>\n",
       "      <td>45</td>\n",
       "    </tr>\n",
       "  </tbody>\n",
       "</table>\n",
       "</div>"
      ],
      "text/plain": [
       "     No   Saldo  Frek ATM Jenis Kelamin tempat tinggal  Frek Supermarket  \\\n",
       "0  7501  10.173         6     Laki-Laki          urban                 3   \n",
       "1  7502  19.558        10     Laki-Laki          urban                 3   \n",
       "2  7503  31.807        15     Laki-Laki          rural                 6   \n",
       "3  7504  12.924        13     Laki-Laki          urban                 5   \n",
       "4  7505   0.115         0     Laki-Laki          rural                 3   \n",
       "\n",
       "   Frek Dept Store  Usia  \n",
       "0                7    33  \n",
       "1                6    37  \n",
       "2                7    40  \n",
       "3                1    38  \n",
       "4                0    45  "
      ]
     },
     "execution_count": 22,
     "metadata": {},
     "output_type": "execute_result"
    }
   ],
   "source": [
    "#import data\n",
    "datalain = pd.read_csv('D:\\ingin diprediksi.csv',delimiter=',') \n",
    "datalain.head()"
   ]
  },
  {
   "cell_type": "code",
   "execution_count": 23,
   "metadata": {},
   "outputs": [],
   "source": [
    "#membuat dummy variabel untuk variabel yang bertype string\n",
    "datalain['jk']=datalain['Jenis Kelamin'].astype('category').cat.codes\n",
    "datalain['dtempat']=datalain['tempat tinggal'].astype('category').cat.codes\n",
    "\n",
    "#Pemilihan variabel X yang akan digunakan\n",
    "x_lain=datalain[['Saldo','Frek ATM', 'jk','dtempat','Frek Supermarket','Frek Dept Store','Usia']]"
   ]
  },
  {
   "cell_type": "code",
   "execution_count": 24,
   "metadata": {},
   "outputs": [
    {
     "data": {
      "text/plain": [
       "array([9.89849343e-01, 9.94546340e-01, 9.99973765e-01, ...,\n",
       "       1.61377300e-02, 8.26310861e-05, 1.78081138e-01])"
      ]
     },
     "execution_count": 24,
     "metadata": {},
     "output_type": "execute_result"
    }
   ],
   "source": [
    "#memprediksi nilai peluang ketertarikan pelanggan baru\n",
    "y_prediksilain = logistik.predict_proba(x_lain)[::,1]\n",
    "y_prediksilain"
   ]
  },
  {
   "cell_type": "code",
   "execution_count": 25,
   "metadata": {},
   "outputs": [
    {
     "data": {
      "text/html": [
       "<div>\n",
       "<style scoped>\n",
       "    .dataframe tbody tr th:only-of-type {\n",
       "        vertical-align: middle;\n",
       "    }\n",
       "\n",
       "    .dataframe tbody tr th {\n",
       "        vertical-align: top;\n",
       "    }\n",
       "\n",
       "    .dataframe thead th {\n",
       "        text-align: right;\n",
       "    }\n",
       "</style>\n",
       "<table border=\"1\" class=\"dataframe\">\n",
       "  <thead>\n",
       "    <tr style=\"text-align: right;\">\n",
       "      <th></th>\n",
       "      <th>No</th>\n",
       "      <th>0</th>\n",
       "    </tr>\n",
       "  </thead>\n",
       "  <tbody>\n",
       "    <tr>\n",
       "      <th>0</th>\n",
       "      <td>7501</td>\n",
       "      <td>0.989849</td>\n",
       "    </tr>\n",
       "    <tr>\n",
       "      <th>1</th>\n",
       "      <td>7502</td>\n",
       "      <td>0.994546</td>\n",
       "    </tr>\n",
       "    <tr>\n",
       "      <th>2</th>\n",
       "      <td>7503</td>\n",
       "      <td>0.999974</td>\n",
       "    </tr>\n",
       "    <tr>\n",
       "      <th>3</th>\n",
       "      <td>7504</td>\n",
       "      <td>0.863758</td>\n",
       "    </tr>\n",
       "    <tr>\n",
       "      <th>4</th>\n",
       "      <td>7505</td>\n",
       "      <td>0.000015</td>\n",
       "    </tr>\n",
       "  </tbody>\n",
       "</table>\n",
       "</div>"
      ],
      "text/plain": [
       "     No         0\n",
       "0  7501  0.989849\n",
       "1  7502  0.994546\n",
       "2  7503  0.999974\n",
       "3  7504  0.863758\n",
       "4  7505  0.000015"
      ]
     },
     "execution_count": 25,
     "metadata": {},
     "output_type": "execute_result"
    }
   ],
   "source": [
    "#menyimpan nilai prediksi peluang dan ID pelanggan \n",
    "datatarget= pd.concat([datalain['No'],pd.DataFrame(y_prediksilain)],axis=1)\n",
    "datatarget.head()"
   ]
  },
  {
   "cell_type": "code",
   "execution_count": 26,
   "metadata": {},
   "outputs": [
    {
     "name": "stdout",
     "output_type": "stream",
     "text": [
      "Index(['No', 0], dtype='object')\n"
     ]
    },
    {
     "data": {
      "text/html": [
       "<div>\n",
       "<style scoped>\n",
       "    .dataframe tbody tr th:only-of-type {\n",
       "        vertical-align: middle;\n",
       "    }\n",
       "\n",
       "    .dataframe tbody tr th {\n",
       "        vertical-align: top;\n",
       "    }\n",
       "\n",
       "    .dataframe thead th {\n",
       "        text-align: right;\n",
       "    }\n",
       "</style>\n",
       "<table border=\"1\" class=\"dataframe\">\n",
       "  <thead>\n",
       "    <tr style=\"text-align: right;\">\n",
       "      <th></th>\n",
       "      <th>No</th>\n",
       "      <th>peluang</th>\n",
       "    </tr>\n",
       "  </thead>\n",
       "  <tbody>\n",
       "    <tr>\n",
       "      <th>3927</th>\n",
       "      <td>11428</td>\n",
       "      <td>1.000000</td>\n",
       "    </tr>\n",
       "    <tr>\n",
       "      <th>735</th>\n",
       "      <td>8236</td>\n",
       "      <td>1.000000</td>\n",
       "    </tr>\n",
       "    <tr>\n",
       "      <th>2062</th>\n",
       "      <td>9563</td>\n",
       "      <td>1.000000</td>\n",
       "    </tr>\n",
       "    <tr>\n",
       "      <th>5143</th>\n",
       "      <td>12644</td>\n",
       "      <td>1.000000</td>\n",
       "    </tr>\n",
       "    <tr>\n",
       "      <th>3205</th>\n",
       "      <td>10706</td>\n",
       "      <td>1.000000</td>\n",
       "    </tr>\n",
       "    <tr>\n",
       "      <th>5457</th>\n",
       "      <td>12958</td>\n",
       "      <td>1.000000</td>\n",
       "    </tr>\n",
       "    <tr>\n",
       "      <th>2792</th>\n",
       "      <td>10293</td>\n",
       "      <td>1.000000</td>\n",
       "    </tr>\n",
       "    <tr>\n",
       "      <th>5484</th>\n",
       "      <td>12985</td>\n",
       "      <td>1.000000</td>\n",
       "    </tr>\n",
       "    <tr>\n",
       "      <th>4866</th>\n",
       "      <td>12367</td>\n",
       "      <td>1.000000</td>\n",
       "    </tr>\n",
       "    <tr>\n",
       "      <th>3311</th>\n",
       "      <td>10812</td>\n",
       "      <td>1.000000</td>\n",
       "    </tr>\n",
       "    <tr>\n",
       "      <th>3508</th>\n",
       "      <td>11009</td>\n",
       "      <td>1.000000</td>\n",
       "    </tr>\n",
       "    <tr>\n",
       "      <th>1173</th>\n",
       "      <td>8674</td>\n",
       "      <td>1.000000</td>\n",
       "    </tr>\n",
       "    <tr>\n",
       "      <th>1160</th>\n",
       "      <td>8661</td>\n",
       "      <td>1.000000</td>\n",
       "    </tr>\n",
       "    <tr>\n",
       "      <th>476</th>\n",
       "      <td>7977</td>\n",
       "      <td>1.000000</td>\n",
       "    </tr>\n",
       "    <tr>\n",
       "      <th>3193</th>\n",
       "      <td>10694</td>\n",
       "      <td>1.000000</td>\n",
       "    </tr>\n",
       "    <tr>\n",
       "      <th>2135</th>\n",
       "      <td>9636</td>\n",
       "      <td>1.000000</td>\n",
       "    </tr>\n",
       "    <tr>\n",
       "      <th>3738</th>\n",
       "      <td>11239</td>\n",
       "      <td>1.000000</td>\n",
       "    </tr>\n",
       "    <tr>\n",
       "      <th>4594</th>\n",
       "      <td>12095</td>\n",
       "      <td>1.000000</td>\n",
       "    </tr>\n",
       "    <tr>\n",
       "      <th>2125</th>\n",
       "      <td>9626</td>\n",
       "      <td>1.000000</td>\n",
       "    </tr>\n",
       "    <tr>\n",
       "      <th>4985</th>\n",
       "      <td>12486</td>\n",
       "      <td>1.000000</td>\n",
       "    </tr>\n",
       "    <tr>\n",
       "      <th>542</th>\n",
       "      <td>8043</td>\n",
       "      <td>1.000000</td>\n",
       "    </tr>\n",
       "    <tr>\n",
       "      <th>3623</th>\n",
       "      <td>11124</td>\n",
       "      <td>1.000000</td>\n",
       "    </tr>\n",
       "    <tr>\n",
       "      <th>6150</th>\n",
       "      <td>13651</td>\n",
       "      <td>1.000000</td>\n",
       "    </tr>\n",
       "    <tr>\n",
       "      <th>684</th>\n",
       "      <td>8185</td>\n",
       "      <td>1.000000</td>\n",
       "    </tr>\n",
       "    <tr>\n",
       "      <th>3739</th>\n",
       "      <td>11240</td>\n",
       "      <td>1.000000</td>\n",
       "    </tr>\n",
       "    <tr>\n",
       "      <th>5211</th>\n",
       "      <td>12712</td>\n",
       "      <td>1.000000</td>\n",
       "    </tr>\n",
       "    <tr>\n",
       "      <th>2105</th>\n",
       "      <td>9606</td>\n",
       "      <td>1.000000</td>\n",
       "    </tr>\n",
       "    <tr>\n",
       "      <th>2687</th>\n",
       "      <td>10188</td>\n",
       "      <td>1.000000</td>\n",
       "    </tr>\n",
       "    <tr>\n",
       "      <th>3208</th>\n",
       "      <td>10709</td>\n",
       "      <td>1.000000</td>\n",
       "    </tr>\n",
       "    <tr>\n",
       "      <th>6045</th>\n",
       "      <td>13546</td>\n",
       "      <td>1.000000</td>\n",
       "    </tr>\n",
       "    <tr>\n",
       "      <th>...</th>\n",
       "      <td>...</td>\n",
       "      <td>...</td>\n",
       "    </tr>\n",
       "    <tr>\n",
       "      <th>4812</th>\n",
       "      <td>12313</td>\n",
       "      <td>0.976104</td>\n",
       "    </tr>\n",
       "    <tr>\n",
       "      <th>1164</th>\n",
       "      <td>8665</td>\n",
       "      <td>0.975845</td>\n",
       "    </tr>\n",
       "    <tr>\n",
       "      <th>4195</th>\n",
       "      <td>11696</td>\n",
       "      <td>0.975536</td>\n",
       "    </tr>\n",
       "    <tr>\n",
       "      <th>690</th>\n",
       "      <td>8191</td>\n",
       "      <td>0.975502</td>\n",
       "    </tr>\n",
       "    <tr>\n",
       "      <th>1807</th>\n",
       "      <td>9308</td>\n",
       "      <td>0.975492</td>\n",
       "    </tr>\n",
       "    <tr>\n",
       "      <th>2842</th>\n",
       "      <td>10343</td>\n",
       "      <td>0.975063</td>\n",
       "    </tr>\n",
       "    <tr>\n",
       "      <th>3716</th>\n",
       "      <td>11217</td>\n",
       "      <td>0.974855</td>\n",
       "    </tr>\n",
       "    <tr>\n",
       "      <th>3768</th>\n",
       "      <td>11269</td>\n",
       "      <td>0.974780</td>\n",
       "    </tr>\n",
       "    <tr>\n",
       "      <th>3776</th>\n",
       "      <td>11277</td>\n",
       "      <td>0.974685</td>\n",
       "    </tr>\n",
       "    <tr>\n",
       "      <th>1996</th>\n",
       "      <td>9497</td>\n",
       "      <td>0.974474</td>\n",
       "    </tr>\n",
       "    <tr>\n",
       "      <th>98</th>\n",
       "      <td>7599</td>\n",
       "      <td>0.973989</td>\n",
       "    </tr>\n",
       "    <tr>\n",
       "      <th>1872</th>\n",
       "      <td>9373</td>\n",
       "      <td>0.973967</td>\n",
       "    </tr>\n",
       "    <tr>\n",
       "      <th>2269</th>\n",
       "      <td>9770</td>\n",
       "      <td>0.973866</td>\n",
       "    </tr>\n",
       "    <tr>\n",
       "      <th>3292</th>\n",
       "      <td>10793</td>\n",
       "      <td>0.973692</td>\n",
       "    </tr>\n",
       "    <tr>\n",
       "      <th>3518</th>\n",
       "      <td>11019</td>\n",
       "      <td>0.973467</td>\n",
       "    </tr>\n",
       "    <tr>\n",
       "      <th>3108</th>\n",
       "      <td>10609</td>\n",
       "      <td>0.973146</td>\n",
       "    </tr>\n",
       "    <tr>\n",
       "      <th>2554</th>\n",
       "      <td>10055</td>\n",
       "      <td>0.972340</td>\n",
       "    </tr>\n",
       "    <tr>\n",
       "      <th>6119</th>\n",
       "      <td>13620</td>\n",
       "      <td>0.971839</td>\n",
       "    </tr>\n",
       "    <tr>\n",
       "      <th>4602</th>\n",
       "      <td>12103</td>\n",
       "      <td>0.971307</td>\n",
       "    </tr>\n",
       "    <tr>\n",
       "      <th>1918</th>\n",
       "      <td>9419</td>\n",
       "      <td>0.970653</td>\n",
       "    </tr>\n",
       "    <tr>\n",
       "      <th>1969</th>\n",
       "      <td>9470</td>\n",
       "      <td>0.970404</td>\n",
       "    </tr>\n",
       "    <tr>\n",
       "      <th>1216</th>\n",
       "      <td>8717</td>\n",
       "      <td>0.970375</td>\n",
       "    </tr>\n",
       "    <tr>\n",
       "      <th>1777</th>\n",
       "      <td>9278</td>\n",
       "      <td>0.970225</td>\n",
       "    </tr>\n",
       "    <tr>\n",
       "      <th>3882</th>\n",
       "      <td>11383</td>\n",
       "      <td>0.970140</td>\n",
       "    </tr>\n",
       "    <tr>\n",
       "      <th>1603</th>\n",
       "      <td>9104</td>\n",
       "      <td>0.970134</td>\n",
       "    </tr>\n",
       "    <tr>\n",
       "      <th>3854</th>\n",
       "      <td>11355</td>\n",
       "      <td>0.970094</td>\n",
       "    </tr>\n",
       "    <tr>\n",
       "      <th>1310</th>\n",
       "      <td>8811</td>\n",
       "      <td>0.970075</td>\n",
       "    </tr>\n",
       "    <tr>\n",
       "      <th>763</th>\n",
       "      <td>8264</td>\n",
       "      <td>0.969976</td>\n",
       "    </tr>\n",
       "    <tr>\n",
       "      <th>3352</th>\n",
       "      <td>10853</td>\n",
       "      <td>0.969904</td>\n",
       "    </tr>\n",
       "    <tr>\n",
       "      <th>1583</th>\n",
       "      <td>9084</td>\n",
       "      <td>0.969688</td>\n",
       "    </tr>\n",
       "  </tbody>\n",
       "</table>\n",
       "<p>500 rows × 2 columns</p>\n",
       "</div>"
      ],
      "text/plain": [
       "         No   peluang\n",
       "3927  11428  1.000000\n",
       "735    8236  1.000000\n",
       "2062   9563  1.000000\n",
       "5143  12644  1.000000\n",
       "3205  10706  1.000000\n",
       "5457  12958  1.000000\n",
       "2792  10293  1.000000\n",
       "5484  12985  1.000000\n",
       "4866  12367  1.000000\n",
       "3311  10812  1.000000\n",
       "3508  11009  1.000000\n",
       "1173   8674  1.000000\n",
       "1160   8661  1.000000\n",
       "476    7977  1.000000\n",
       "3193  10694  1.000000\n",
       "2135   9636  1.000000\n",
       "3738  11239  1.000000\n",
       "4594  12095  1.000000\n",
       "2125   9626  1.000000\n",
       "4985  12486  1.000000\n",
       "542    8043  1.000000\n",
       "3623  11124  1.000000\n",
       "6150  13651  1.000000\n",
       "684    8185  1.000000\n",
       "3739  11240  1.000000\n",
       "5211  12712  1.000000\n",
       "2105   9606  1.000000\n",
       "2687  10188  1.000000\n",
       "3208  10709  1.000000\n",
       "6045  13546  1.000000\n",
       "...     ...       ...\n",
       "4812  12313  0.976104\n",
       "1164   8665  0.975845\n",
       "4195  11696  0.975536\n",
       "690    8191  0.975502\n",
       "1807   9308  0.975492\n",
       "2842  10343  0.975063\n",
       "3716  11217  0.974855\n",
       "3768  11269  0.974780\n",
       "3776  11277  0.974685\n",
       "1996   9497  0.974474\n",
       "98     7599  0.973989\n",
       "1872   9373  0.973967\n",
       "2269   9770  0.973866\n",
       "3292  10793  0.973692\n",
       "3518  11019  0.973467\n",
       "3108  10609  0.973146\n",
       "2554  10055  0.972340\n",
       "6119  13620  0.971839\n",
       "4602  12103  0.971307\n",
       "1918   9419  0.970653\n",
       "1969   9470  0.970404\n",
       "1216   8717  0.970375\n",
       "1777   9278  0.970225\n",
       "3882  11383  0.970140\n",
       "1603   9104  0.970134\n",
       "3854  11355  0.970094\n",
       "1310   8811  0.970075\n",
       "763    8264  0.969976\n",
       "3352  10853  0.969904\n",
       "1583   9084  0.969688\n",
       "\n",
       "[500 rows x 2 columns]"
      ]
     },
     "execution_count": 26,
     "metadata": {},
     "output_type": "execute_result"
    }
   ],
   "source": [
    "#menampilkan 500 pelanggan paling prospektif\n",
    "#sorting nilai peluang\n",
    "datatarget_urut=datatarget.sort_values(by=0,ascending=False)\n",
    "\n",
    "\n",
    "#print nama kolom\n",
    "print(datatarget_urut.columns)\n",
    "\n",
    "#rename nama kolom\n",
    "datatarget_urut.rename(columns={0:'peluang'},\n",
    "                 inplace=True)\n",
    "\n",
    "#mengambil 500 pelanggan yang paling prospektif dilihat dari peluang paling tinggi\n",
    "datatarget_urut.head(500)"
   ]
  },
  {
   "cell_type": "code",
   "execution_count": null,
   "metadata": {},
   "outputs": [],
   "source": []
  }
 ],
 "metadata": {
  "kernelspec": {
   "display_name": "Python 3",
   "language": "python",
   "name": "python3"
  },
  "language_info": {
   "codemirror_mode": {
    "name": "ipython",
    "version": 3
   },
   "file_extension": ".py",
   "mimetype": "text/x-python",
   "name": "python",
   "nbconvert_exporter": "python",
   "pygments_lexer": "ipython3",
   "version": "3.7.0"
  }
 },
 "nbformat": 4,
 "nbformat_minor": 2
}
