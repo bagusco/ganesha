{
 "cells": [
  {
   "cell_type": "markdown",
   "metadata": {},
   "source": [
    "# DECISSION TREE IN PYTHON"
   ]
  },
  {
   "cell_type": "markdown",
   "metadata": {},
   "source": [
    "## Tahap 1: Membaca Data"
   ]
  },
  {
   "cell_type": "code",
   "execution_count": 1,
   "metadata": {},
   "outputs": [],
   "source": [
    "#import library\n",
    "import pandas as pd"
   ]
  },
  {
   "cell_type": "code",
   "execution_count": 2,
   "metadata": {
    "scrolled": true
   },
   "outputs": [
    {
     "data": {
      "text/html": [
       "<div>\n",
       "<style scoped>\n",
       "    .dataframe tbody tr th:only-of-type {\n",
       "        vertical-align: middle;\n",
       "    }\n",
       "\n",
       "    .dataframe tbody tr th {\n",
       "        vertical-align: top;\n",
       "    }\n",
       "\n",
       "    .dataframe thead th {\n",
       "        text-align: right;\n",
       "    }\n",
       "</style>\n",
       "<table border=\"1\" class=\"dataframe\">\n",
       "  <thead>\n",
       "    <tr style=\"text-align: right;\">\n",
       "      <th></th>\n",
       "      <th>No</th>\n",
       "      <th>Saldo</th>\n",
       "      <th>Frek ATM</th>\n",
       "      <th>Jenis Kelamin</th>\n",
       "      <th>tempat tinggal</th>\n",
       "      <th>Frek Supermarket</th>\n",
       "      <th>Frek Dept Store</th>\n",
       "      <th>Usia</th>\n",
       "      <th>Tertarik</th>\n",
       "    </tr>\n",
       "  </thead>\n",
       "  <tbody>\n",
       "    <tr>\n",
       "      <th>0</th>\n",
       "      <td>1</td>\n",
       "      <td>5.494</td>\n",
       "      <td>9</td>\n",
       "      <td>Perempuan</td>\n",
       "      <td>rural</td>\n",
       "      <td>2</td>\n",
       "      <td>2</td>\n",
       "      <td>44</td>\n",
       "      <td>0</td>\n",
       "    </tr>\n",
       "    <tr>\n",
       "      <th>1</th>\n",
       "      <td>2</td>\n",
       "      <td>4.700</td>\n",
       "      <td>3</td>\n",
       "      <td>Perempuan</td>\n",
       "      <td>urban</td>\n",
       "      <td>2</td>\n",
       "      <td>4</td>\n",
       "      <td>39</td>\n",
       "      <td>0</td>\n",
       "    </tr>\n",
       "    <tr>\n",
       "      <th>2</th>\n",
       "      <td>3</td>\n",
       "      <td>4.496</td>\n",
       "      <td>5</td>\n",
       "      <td>Laki-Laki</td>\n",
       "      <td>rural</td>\n",
       "      <td>3</td>\n",
       "      <td>2</td>\n",
       "      <td>36</td>\n",
       "      <td>0</td>\n",
       "    </tr>\n",
       "    <tr>\n",
       "      <th>3</th>\n",
       "      <td>4</td>\n",
       "      <td>4.360</td>\n",
       "      <td>5</td>\n",
       "      <td>Perempuan</td>\n",
       "      <td>urban</td>\n",
       "      <td>8</td>\n",
       "      <td>2</td>\n",
       "      <td>37</td>\n",
       "      <td>0</td>\n",
       "    </tr>\n",
       "    <tr>\n",
       "      <th>4</th>\n",
       "      <td>5</td>\n",
       "      <td>18.866</td>\n",
       "      <td>9</td>\n",
       "      <td>Laki-Laki</td>\n",
       "      <td>rural</td>\n",
       "      <td>2</td>\n",
       "      <td>3</td>\n",
       "      <td>30</td>\n",
       "      <td>1</td>\n",
       "    </tr>\n",
       "  </tbody>\n",
       "</table>\n",
       "</div>"
      ],
      "text/plain": [
       "   No   Saldo  Frek ATM Jenis Kelamin tempat tinggal  Frek Supermarket  \\\n",
       "0   1   5.494         9     Perempuan          rural                 2   \n",
       "1   2   4.700         3     Perempuan          urban                 2   \n",
       "2   3   4.496         5     Laki-Laki          rural                 3   \n",
       "3   4   4.360         5     Perempuan          urban                 8   \n",
       "4   5  18.866         9     Laki-Laki          rural                 2   \n",
       "\n",
       "   Frek Dept Store  Usia  Tertarik  \n",
       "0                2    44         0  \n",
       "1                4    39         0  \n",
       "2                2    36         0  \n",
       "3                2    37         0  \n",
       "4                3    30         1  "
      ]
     },
     "execution_count": 2,
     "metadata": {},
     "output_type": "execute_result"
    }
   ],
   "source": [
    "#import data\n",
    "datapilot = pd.read_csv('D:\\data propensity.csv',delimiter=',') \n",
    "\n",
    "#menampilkan beberapa baris pertama datapilot\n",
    "datapilot.head()"
   ]
  },
  {
   "cell_type": "markdown",
   "metadata": {},
   "source": [
    "## Tahap 2: Melihat hubungan antara prediktor dengan variabel target"
   ]
  },
  {
   "cell_type": "code",
   "execution_count": 3,
   "metadata": {},
   "outputs": [
    {
     "data": {
      "text/html": [
       "<div>\n",
       "<style scoped>\n",
       "    .dataframe tbody tr th:only-of-type {\n",
       "        vertical-align: middle;\n",
       "    }\n",
       "\n",
       "    .dataframe tbody tr th {\n",
       "        vertical-align: top;\n",
       "    }\n",
       "\n",
       "    .dataframe thead th {\n",
       "        text-align: right;\n",
       "    }\n",
       "</style>\n",
       "<table border=\"1\" class=\"dataframe\">\n",
       "  <thead>\n",
       "    <tr style=\"text-align: right;\">\n",
       "      <th>Tertarik</th>\n",
       "      <th>0</th>\n",
       "      <th>1</th>\n",
       "    </tr>\n",
       "    <tr>\n",
       "      <th>Jenis Kelamin</th>\n",
       "      <th></th>\n",
       "      <th></th>\n",
       "    </tr>\n",
       "  </thead>\n",
       "  <tbody>\n",
       "    <tr>\n",
       "      <th>Laki-Laki</th>\n",
       "      <td>2962</td>\n",
       "      <td>765</td>\n",
       "    </tr>\n",
       "    <tr>\n",
       "      <th>Perempuan</th>\n",
       "      <td>3027</td>\n",
       "      <td>746</td>\n",
       "    </tr>\n",
       "  </tbody>\n",
       "</table>\n",
       "</div>"
      ],
      "text/plain": [
       "Tertarik          0    1\n",
       "Jenis Kelamin           \n",
       "Laki-Laki      2962  765\n",
       "Perempuan      3027  746"
      ]
     },
     "execution_count": 3,
     "metadata": {},
     "output_type": "execute_result"
    }
   ],
   "source": [
    "#crosstab antara Jenis Kelamin dengan variabel Tertarik\n",
    "pd.crosstab(datapilot['Jenis Kelamin'],datapilot['Tertarik'])"
   ]
  },
  {
   "cell_type": "code",
   "execution_count": 4,
   "metadata": {},
   "outputs": [
    {
     "data": {
      "text/html": [
       "<div>\n",
       "<style scoped>\n",
       "    .dataframe tbody tr th:only-of-type {\n",
       "        vertical-align: middle;\n",
       "    }\n",
       "\n",
       "    .dataframe tbody tr th {\n",
       "        vertical-align: top;\n",
       "    }\n",
       "\n",
       "    .dataframe thead th {\n",
       "        text-align: right;\n",
       "    }\n",
       "</style>\n",
       "<table border=\"1\" class=\"dataframe\">\n",
       "  <thead>\n",
       "    <tr style=\"text-align: right;\">\n",
       "      <th>Tertarik</th>\n",
       "      <th>0</th>\n",
       "      <th>1</th>\n",
       "    </tr>\n",
       "    <tr>\n",
       "      <th>Jenis Kelamin</th>\n",
       "      <th></th>\n",
       "      <th></th>\n",
       "    </tr>\n",
       "  </thead>\n",
       "  <tbody>\n",
       "    <tr>\n",
       "      <th>Laki-Laki</th>\n",
       "      <td>0.794741</td>\n",
       "      <td>0.205259</td>\n",
       "    </tr>\n",
       "    <tr>\n",
       "      <th>Perempuan</th>\n",
       "      <td>0.802279</td>\n",
       "      <td>0.197721</td>\n",
       "    </tr>\n",
       "  </tbody>\n",
       "</table>\n",
       "</div>"
      ],
      "text/plain": [
       "Tertarik              0         1\n",
       "Jenis Kelamin                    \n",
       "Laki-Laki      0.794741  0.205259\n",
       "Perempuan      0.802279  0.197721"
      ]
     },
     "execution_count": 4,
     "metadata": {},
     "output_type": "execute_result"
    }
   ],
   "source": [
    "#crosstab antara Jenis Kelamin dengan variabel Tertarik  (persen baris)\n",
    "pd.crosstab(datapilot['Jenis Kelamin'],datapilot['Tertarik'],normalize='index')"
   ]
  },
  {
   "cell_type": "code",
   "execution_count": 6,
   "metadata": {},
   "outputs": [
    {
     "data": {
      "image/png": "[encoded data removed]",
      "text/plain": [
       "<Figure size 432x288 with 1 Axes>"
      ]
     },
     "metadata": {
      "needs_background": "light"
     },
     "output_type": "display_data"
    }
   ],
   "source": [
    "cross= pd.crosstab(datapilot['Jenis Kelamin'],datapilot['Tertarik'],normalize='index')\n",
    "\n",
    "#import library\n",
    "import matplotlib.pyplot as plt\n",
    "\n",
    "#menampilkan bar plot\n",
    "plt.bar(cross.index,cross[1])\n",
    "plt.show()"
   ]
  },
  {
   "cell_type": "code",
   "execution_count": 7,
   "metadata": {},
   "outputs": [
    {
     "data": {
      "image/png": "[encoded data removed]",
      "text/plain": [
       "<Figure size 432x288 with 1 Axes>"
      ]
     },
     "metadata": {
      "needs_background": "light"
     },
     "output_type": "display_data"
    }
   ],
   "source": [
    "cross= pd.crosstab(datapilot['tempat tinggal'],datapilot['Tertarik'],normalize='index')\n",
    "\n",
    "plt.bar(cross.index,cross[1])\n",
    "plt.bar(cross.index,cross[0],bottom=cross[1])\n",
    "plt.show()"
   ]
  },
  {
   "cell_type": "code",
   "execution_count": 8,
   "metadata": {
    "scrolled": true
   },
   "outputs": [
    {
     "data": {
      "text/html": [
       "<div>\n",
       "<style scoped>\n",
       "    .dataframe tbody tr th:only-of-type {\n",
       "        vertical-align: middle;\n",
       "    }\n",
       "\n",
       "    .dataframe tbody tr th {\n",
       "        vertical-align: top;\n",
       "    }\n",
       "\n",
       "    .dataframe thead th {\n",
       "        text-align: right;\n",
       "    }\n",
       "</style>\n",
       "<table border=\"1\" class=\"dataframe\">\n",
       "  <thead>\n",
       "    <tr style=\"text-align: right;\">\n",
       "      <th></th>\n",
       "      <th>No</th>\n",
       "      <th>Saldo</th>\n",
       "      <th>Frek ATM</th>\n",
       "      <th>Jenis Kelamin</th>\n",
       "      <th>tempat tinggal</th>\n",
       "      <th>Frek Supermarket</th>\n",
       "      <th>Frek Dept Store</th>\n",
       "      <th>Usia</th>\n",
       "      <th>Tertarik</th>\n",
       "      <th>Frek ATM bin</th>\n",
       "    </tr>\n",
       "  </thead>\n",
       "  <tbody>\n",
       "    <tr>\n",
       "      <th>0</th>\n",
       "      <td>1</td>\n",
       "      <td>5.494</td>\n",
       "      <td>9</td>\n",
       "      <td>Perempuan</td>\n",
       "      <td>rural</td>\n",
       "      <td>2</td>\n",
       "      <td>2</td>\n",
       "      <td>44</td>\n",
       "      <td>0</td>\n",
       "      <td>2</td>\n",
       "    </tr>\n",
       "    <tr>\n",
       "      <th>1</th>\n",
       "      <td>2</td>\n",
       "      <td>4.700</td>\n",
       "      <td>3</td>\n",
       "      <td>Perempuan</td>\n",
       "      <td>urban</td>\n",
       "      <td>2</td>\n",
       "      <td>4</td>\n",
       "      <td>39</td>\n",
       "      <td>0</td>\n",
       "      <td>1</td>\n",
       "    </tr>\n",
       "    <tr>\n",
       "      <th>2</th>\n",
       "      <td>3</td>\n",
       "      <td>4.496</td>\n",
       "      <td>5</td>\n",
       "      <td>Laki-Laki</td>\n",
       "      <td>rural</td>\n",
       "      <td>3</td>\n",
       "      <td>2</td>\n",
       "      <td>36</td>\n",
       "      <td>0</td>\n",
       "      <td>2</td>\n",
       "    </tr>\n",
       "    <tr>\n",
       "      <th>3</th>\n",
       "      <td>4</td>\n",
       "      <td>4.360</td>\n",
       "      <td>5</td>\n",
       "      <td>Perempuan</td>\n",
       "      <td>urban</td>\n",
       "      <td>8</td>\n",
       "      <td>2</td>\n",
       "      <td>37</td>\n",
       "      <td>0</td>\n",
       "      <td>2</td>\n",
       "    </tr>\n",
       "    <tr>\n",
       "      <th>4</th>\n",
       "      <td>5</td>\n",
       "      <td>18.866</td>\n",
       "      <td>9</td>\n",
       "      <td>Laki-Laki</td>\n",
       "      <td>rural</td>\n",
       "      <td>2</td>\n",
       "      <td>3</td>\n",
       "      <td>30</td>\n",
       "      <td>1</td>\n",
       "      <td>2</td>\n",
       "    </tr>\n",
       "  </tbody>\n",
       "</table>\n",
       "</div>"
      ],
      "text/plain": [
       "   No   Saldo  Frek ATM Jenis Kelamin tempat tinggal  Frek Supermarket  \\\n",
       "0   1   5.494         9     Perempuan          rural                 2   \n",
       "1   2   4.700         3     Perempuan          urban                 2   \n",
       "2   3   4.496         5     Laki-Laki          rural                 3   \n",
       "3   4   4.360         5     Perempuan          urban                 8   \n",
       "4   5  18.866         9     Laki-Laki          rural                 2   \n",
       "\n",
       "   Frek Dept Store  Usia  Tertarik  Frek ATM bin  \n",
       "0                2    44         0             2  \n",
       "1                4    39         0             1  \n",
       "2                2    36         0             2  \n",
       "3                2    37         0             2  \n",
       "4                3    30         1             2  "
      ]
     },
     "execution_count": 8,
     "metadata": {},
     "output_type": "execute_result"
    }
   ],
   "source": [
    "#Binning frekuensi ATM\n",
    "bins = [-1,3,10,40]\n",
    "label = [1,2,3]\n",
    "datapilot['Frek ATM bin']= pd.cut(datapilot['Frek ATM'],bins=bins, labels=label).astype(int)\n",
    "datapilot.head()"
   ]
  },
  {
   "cell_type": "code",
   "execution_count": 9,
   "metadata": {},
   "outputs": [
    {
     "data": {
      "text/plain": [
       "<BarContainer object of 3 artists>"
      ]
     },
     "execution_count": 9,
     "metadata": {},
     "output_type": "execute_result"
    },
    {
     "data": {
      "image/png": "[encoded data removed]",
      "text/plain": [
       "<Figure size 432x288 with 1 Axes>"
      ]
     },
     "metadata": {
      "needs_background": "light"
     },
     "output_type": "display_data"
    }
   ],
   "source": [
    "cross= pd.crosstab(datapilot['Frek ATM bin'],datapilot['Tertarik'],normalize='index')\n",
    "\n",
    "plt.bar(cross.index,cross[1])\n",
    "plt.bar(cross.index,cross[0],bottom=cross[1])"
   ]
  },
  {
   "cell_type": "code",
   "execution_count": 10,
   "metadata": {},
   "outputs": [
    {
     "data": {
      "image/png": "[encoded data removed]",
      "text/plain": [
       "<Figure size 432x288 with 1 Axes>"
      ]
     },
     "metadata": {
      "needs_background": "light"
     },
     "output_type": "display_data"
    }
   ],
   "source": [
    "cross= pd.crosstab(datapilot['Frek ATM bin'],datapilot['Tertarik'],normalize='index')\n",
    "\n",
    "plt.bar(cross.index,cross[1])\n",
    "plt.bar(cross.index,cross[0],bottom=cross[1])\n",
    "plt.show()"
   ]
  },
  {
   "cell_type": "markdown",
   "metadata": {},
   "source": [
    "## Tahap 3: Membuat data training dan data testing"
   ]
  },
  {
   "cell_type": "code",
   "execution_count": 11,
   "metadata": {},
   "outputs": [
    {
     "data": {
      "text/html": [
       "<div>\n",
       "<style scoped>\n",
       "    .dataframe tbody tr th:only-of-type {\n",
       "        vertical-align: middle;\n",
       "    }\n",
       "\n",
       "    .dataframe tbody tr th {\n",
       "        vertical-align: top;\n",
       "    }\n",
       "\n",
       "    .dataframe thead th {\n",
       "        text-align: right;\n",
       "    }\n",
       "</style>\n",
       "<table border=\"1\" class=\"dataframe\">\n",
       "  <thead>\n",
       "    <tr style=\"text-align: right;\">\n",
       "      <th></th>\n",
       "      <th>Saldo</th>\n",
       "      <th>Frek ATM</th>\n",
       "      <th>jk</th>\n",
       "      <th>dtempat</th>\n",
       "      <th>Frek Supermarket</th>\n",
       "      <th>Frek Dept Store</th>\n",
       "      <th>Usia</th>\n",
       "    </tr>\n",
       "  </thead>\n",
       "  <tbody>\n",
       "    <tr>\n",
       "      <th>0</th>\n",
       "      <td>5.494</td>\n",
       "      <td>9</td>\n",
       "      <td>1</td>\n",
       "      <td>0</td>\n",
       "      <td>2</td>\n",
       "      <td>2</td>\n",
       "      <td>44</td>\n",
       "    </tr>\n",
       "    <tr>\n",
       "      <th>1</th>\n",
       "      <td>4.700</td>\n",
       "      <td>3</td>\n",
       "      <td>1</td>\n",
       "      <td>1</td>\n",
       "      <td>2</td>\n",
       "      <td>4</td>\n",
       "      <td>39</td>\n",
       "    </tr>\n",
       "    <tr>\n",
       "      <th>2</th>\n",
       "      <td>4.496</td>\n",
       "      <td>5</td>\n",
       "      <td>0</td>\n",
       "      <td>0</td>\n",
       "      <td>3</td>\n",
       "      <td>2</td>\n",
       "      <td>36</td>\n",
       "    </tr>\n",
       "    <tr>\n",
       "      <th>3</th>\n",
       "      <td>4.360</td>\n",
       "      <td>5</td>\n",
       "      <td>1</td>\n",
       "      <td>1</td>\n",
       "      <td>8</td>\n",
       "      <td>2</td>\n",
       "      <td>37</td>\n",
       "    </tr>\n",
       "    <tr>\n",
       "      <th>4</th>\n",
       "      <td>18.866</td>\n",
       "      <td>9</td>\n",
       "      <td>0</td>\n",
       "      <td>0</td>\n",
       "      <td>2</td>\n",
       "      <td>3</td>\n",
       "      <td>30</td>\n",
       "    </tr>\n",
       "  </tbody>\n",
       "</table>\n",
       "</div>"
      ],
      "text/plain": [
       "    Saldo  Frek ATM  jk  dtempat  Frek Supermarket  Frek Dept Store  Usia\n",
       "0   5.494         9   1        0                 2                2    44\n",
       "1   4.700         3   1        1                 2                4    39\n",
       "2   4.496         5   0        0                 3                2    36\n",
       "3   4.360         5   1        1                 8                2    37\n",
       "4  18.866         9   0        0                 2                3    30"
      ]
     },
     "execution_count": 11,
     "metadata": {},
     "output_type": "execute_result"
    }
   ],
   "source": [
    "#membuat variabel dummy dari variabel yang memiliki type string\n",
    "datapilot['jk']=datapilot['Jenis Kelamin'].astype('category').cat.codes\n",
    "datapilot['dtempat']=datapilot['tempat tinggal'].astype('category').cat.codes\n",
    "\n",
    "\n",
    "#memisahkan data variabel X dan variabel Y\n",
    "x=datapilot[['Saldo','Frek ATM', 'jk','dtempat','Frek Supermarket','Frek Dept Store','Usia']]\n",
    "y=datapilot['Tertarik']\n",
    "x.head()"
   ]
  },
  {
   "cell_type": "code",
   "execution_count": 12,
   "metadata": {},
   "outputs": [],
   "source": [
    "#membagi data menjadi gugus data training (70%) dan testing (30%) secara random\n",
    "from sklearn.model_selection import train_test_split\n",
    "x_train, x_test, y_train, y_test = train_test_split(x,y,test_size=0.3,random_state=101)"
   ]
  },
  {
   "cell_type": "markdown",
   "metadata": {},
   "source": [
    "## Tahap 4: Membuat pohon klasifikasi berdasarkan data training"
   ]
  },
  {
   "cell_type": "code",
   "execution_count": 13,
   "metadata": {},
   "outputs": [],
   "source": [
    "#pembuatan model berdasarkan data training\n",
    "from sklearn.tree import DecisionTreeClassifier\n",
    "pohon = DecisionTreeClassifier(min_samples_split=500, max_depth=4) #min split dan max depthnya tidak default"
   ]
  },
  {
   "cell_type": "code",
   "execution_count": 14,
   "metadata": {},
   "outputs": [
    {
     "data": {
      "text/plain": [
       "DecisionTreeClassifier(class_weight=None, criterion='gini', max_depth=4,\n",
       "            max_features=None, max_leaf_nodes=None,\n",
       "            min_impurity_decrease=0.0, min_impurity_split=None,\n",
       "            min_samples_leaf=1, min_samples_split=500,\n",
       "            min_weight_fraction_leaf=0.0, presort=False, random_state=None,\n",
       "            splitter='best')"
      ]
     },
     "execution_count": 14,
     "metadata": {},
     "output_type": "execute_result"
    }
   ],
   "source": [
    "#model data training\n",
    "pohon.fit(x_train,y_train)"
   ]
  },
  {
   "cell_type": "code",
   "execution_count": 15,
   "metadata": {},
   "outputs": [],
   "source": [
    "#import library untuk menggambar/visualisasi pohon klasifikasi\n",
    "from sklearn import tree\n",
    "from sklearn.tree import export_graphviz\n",
    "import graphviz\n"
   ]
  },
  {
   "cell_type": "code",
   "execution_count": 16,
   "metadata": {},
   "outputs": [
    {
     "data": {
      "text/plain": [
       "No                    int64\n",
       "Saldo               float64\n",
       "Frek ATM              int64\n",
       "Jenis Kelamin        object\n",
       "tempat tinggal       object\n",
       "Frek Supermarket      int64\n",
       "Frek Dept Store       int64\n",
       "Usia                  int64\n",
       "Tertarik              int64\n",
       "Frek ATM bin          int32\n",
       "jk                     int8\n",
       "dtempat                int8\n",
       "dtype: object"
      ]
     },
     "execution_count": 16,
     "metadata": {},
     "output_type": "execute_result"
    }
   ],
   "source": [
    "#melihat type data dari masing-masing variabel\n",
    "datapilot.dtypes"
   ]
  },
  {
   "cell_type": "code",
   "execution_count": 17,
   "metadata": {},
   "outputs": [
    {
     "data": {
      "text/plain": [
       "0    0\n",
       "1    0\n",
       "2    0\n",
       "3    0\n",
       "4    1\n",
       "Name: Tertarik, dtype: object"
      ]
     },
     "execution_count": 17,
     "metadata": {},
     "output_type": "execute_result"
    }
   ],
   "source": [
    "#mengubah type data Int menjadi string\n",
    "y_baru=datapilot['Tertarik'].apply(str)\n",
    "y_baru.head()"
   ]
  },
  {
   "cell_type": "code",
   "execution_count": 18,
   "metadata": {},
   "outputs": [
    {
     "data": {
      "text/plain": [
       "dtype('O')"
      ]
     },
     "execution_count": 18,
     "metadata": {},
     "output_type": "execute_result"
    }
   ],
   "source": [
    "#melihat type data dari sebuah variabel\n",
    "y_baru.dtypes"
   ]
  },
  {
   "cell_type": "code",
   "execution_count": 19,
   "metadata": {},
   "outputs": [
    {
     "data": {
      "text/plain": [
       "['Saldo',\n",
       " 'Frek ATM',\n",
       " 'Jenis Kelamin',\n",
       " 'tempat tinggal',\n",
       " 'Frek Supermarket',\n",
       " 'Frek Dept Store',\n",
       " 'Usia']"
      ]
     },
     "execution_count": 19,
     "metadata": {},
     "output_type": "execute_result"
    }
   ],
   "source": [
    "#setting features name yang akan digunakan pada pembuatan pohon klasifikasi\n",
    "fitur = list(datapilot.columns[1:8])\n",
    "fitur"
   ]
  },
  {
   "cell_type": "code",
   "execution_count": 20,
   "metadata": {},
   "outputs": [
    {
     "data": {
      "image/svg+xml": [
       "<?xml version=\"1.0\" encoding=\"UTF-8\" standalone=\"no\"?>\r\n",
       "<!DOCTYPE svg PUBLIC \"-//W3C//DTD SVG 1.1//EN\"\r\n",
       " \"http://www.w3.org/Graphics/SVG/1.1/DTD/svg11.dtd\">\r\n",
       "<!-- Generated by graphviz version 2.38.0 (20140413.2041)\r\n",
       " -->\r\n",
       "<!-- Title: Tree Pages: 1 -->\r\n",
       "<svg width=\"594pt\" height=\"552pt\"\r\n",
       " viewBox=\"0.00 0.00 594.00 552.00\" xmlns=\"http://www.w3.org/2000/svg\" xmlns:xlink=\"http://www.w3.org/1999/xlink\">\r\n",
       "<g id=\"graph0\" class=\"graph\" transform=\"scale(1 1) rotate(0) translate(4 548)\">\r\n",
       "<title>Tree</title>\r\n",
       "<polygon fill=\"white\" stroke=\"none\" points=\"-4,4 -4,-548 590,-548 590,4 -4,4\"/>\r\n",
       "<!-- 0 -->\r\n",
       "<g id=\"node1\" class=\"node\"><title>0</title>\r\n",
       "<path fill=\"#e58139\" fill-opacity=\"0.752941\" stroke=\"black\" d=\"M362,-544C362,-544 240,-544 240,-544 234,-544 228,-538 228,-532 228,-532 228,-473 228,-473 228,-467 234,-461 240,-461 240,-461 362,-461 362,-461 368,-461 374,-467 374,-473 374,-473 374,-532 374,-532 374,-538 368,-544 362,-544\"/>\r\n",
       "<text text-anchor=\"start\" x=\"252.5\" y=\"-528.8\" font-family=\"Helvetica,sans-Serif\" font-size=\"14.00\">Saldo ≤ 11.823</text>\r\n",
       "<text text-anchor=\"start\" x=\"263.5\" y=\"-513.8\" font-family=\"Helvetica,sans-Serif\" font-size=\"14.00\">gini = 0.319</text>\r\n",
       "<text text-anchor=\"start\" x=\"249.5\" y=\"-498.8\" font-family=\"Helvetica,sans-Serif\" font-size=\"14.00\">samples = 5250</text>\r\n",
       "<text text-anchor=\"start\" x=\"236\" y=\"-483.8\" font-family=\"Helvetica,sans-Serif\" font-size=\"14.00\">value = [4206, 1044]</text>\r\n",
       "<text text-anchor=\"start\" x=\"272\" y=\"-468.8\" font-family=\"Helvetica,sans-Serif\" font-size=\"14.00\">class = 0</text>\r\n",
       "</g>\r\n",
       "<!-- 1 -->\r\n",
       "<g id=\"node2\" class=\"node\"><title>1</title>\r\n",
       "<path fill=\"#e58139\" fill-opacity=\"0.870588\" stroke=\"black\" d=\"M278,-425C278,-425 164,-425 164,-425 158,-425 152,-419 152,-413 152,-413 152,-354 152,-354 152,-348 158,-342 164,-342 164,-342 278,-342 278,-342 284,-342 290,-348 290,-354 290,-354 290,-413 290,-413 290,-419 284,-425 278,-425\"/>\r\n",
       "<text text-anchor=\"start\" x=\"185\" y=\"-409.8\" font-family=\"Helvetica,sans-Serif\" font-size=\"14.00\">Usia ≤ 30.5</text>\r\n",
       "<text text-anchor=\"start\" x=\"183.5\" y=\"-394.8\" font-family=\"Helvetica,sans-Serif\" font-size=\"14.00\">gini = 0.203</text>\r\n",
       "<text text-anchor=\"start\" x=\"169.5\" y=\"-379.8\" font-family=\"Helvetica,sans-Serif\" font-size=\"14.00\">samples = 4448</text>\r\n",
       "<text text-anchor=\"start\" x=\"160\" y=\"-364.8\" font-family=\"Helvetica,sans-Serif\" font-size=\"14.00\">value = [3939, 509]</text>\r\n",
       "<text text-anchor=\"start\" x=\"192\" y=\"-349.8\" font-family=\"Helvetica,sans-Serif\" font-size=\"14.00\">class = 0</text>\r\n",
       "</g>\r\n",
       "<!-- 0&#45;&gt;1 -->\r\n",
       "<g id=\"edge1\" class=\"edge\"><title>0&#45;&gt;1</title>\r\n",
       "<path fill=\"none\" stroke=\"black\" d=\"M273.244,-460.907C267.163,-452.014 260.664,-442.509 254.389,-433.331\"/>\r\n",
       "<polygon fill=\"black\" stroke=\"black\" points=\"257.24,-431.3 248.707,-425.021 251.462,-435.251 257.24,-431.3\"/>\r\n",
       "<text text-anchor=\"middle\" x=\"244.092\" y=\"-445.891\" font-family=\"Helvetica,sans-Serif\" font-size=\"14.00\">True</text>\r\n",
       "</g>\r\n",
       "<!-- 8 -->\r\n",
       "<g id=\"node9\" class=\"node\"><title>8</title>\r\n",
       "<path fill=\"#399de5\" fill-opacity=\"0.501961\" stroke=\"black\" d=\"M434,-425C434,-425 328,-425 328,-425 322,-425 316,-419 316,-413 316,-413 316,-354 316,-354 316,-348 322,-342 328,-342 328,-342 434,-342 434,-342 440,-342 446,-348 446,-354 446,-354 446,-413 446,-413 446,-419 440,-425 434,-425\"/>\r\n",
       "<text text-anchor=\"start\" x=\"332\" y=\"-409.8\" font-family=\"Helvetica,sans-Serif\" font-size=\"14.00\">Frek ATM ≤ 8.5</text>\r\n",
       "<text text-anchor=\"start\" x=\"343.5\" y=\"-394.8\" font-family=\"Helvetica,sans-Serif\" font-size=\"14.00\">gini = 0.444</text>\r\n",
       "<text text-anchor=\"start\" x=\"333.5\" y=\"-379.8\" font-family=\"Helvetica,sans-Serif\" font-size=\"14.00\">samples = 802</text>\r\n",
       "<text text-anchor=\"start\" x=\"324\" y=\"-364.8\" font-family=\"Helvetica,sans-Serif\" font-size=\"14.00\">value = [267, 535]</text>\r\n",
       "<text text-anchor=\"start\" x=\"352\" y=\"-349.8\" font-family=\"Helvetica,sans-Serif\" font-size=\"14.00\">class = 1</text>\r\n",
       "</g>\r\n",
       "<!-- 0&#45;&gt;8 -->\r\n",
       "<g id=\"edge8\" class=\"edge\"><title>0&#45;&gt;8</title>\r\n",
       "<path fill=\"none\" stroke=\"black\" d=\"M328.756,-460.907C334.837,-452.014 341.336,-442.509 347.611,-433.331\"/>\r\n",
       "<polygon fill=\"black\" stroke=\"black\" points=\"350.538,-435.251 353.293,-425.021 344.76,-431.3 350.538,-435.251\"/>\r\n",
       "<text text-anchor=\"middle\" x=\"357.908\" y=\"-445.891\" font-family=\"Helvetica,sans-Serif\" font-size=\"14.00\">False</text>\r\n",
       "</g>\r\n",
       "<!-- 2 -->\r\n",
       "<g id=\"node3\" class=\"node\"><title>2</title>\r\n",
       "<path fill=\"#399de5\" fill-opacity=\"0.764706\" stroke=\"black\" d=\"M114,-298.5C114,-298.5 16,-298.5 16,-298.5 10,-298.5 4,-292.5 4,-286.5 4,-286.5 4,-242.5 4,-242.5 4,-236.5 10,-230.5 16,-230.5 16,-230.5 114,-230.5 114,-230.5 120,-230.5 126,-236.5 126,-242.5 126,-242.5 126,-286.5 126,-286.5 126,-292.5 120,-298.5 114,-298.5\"/>\r\n",
       "<text text-anchor=\"start\" x=\"31.5\" y=\"-283.3\" font-family=\"Helvetica,sans-Serif\" font-size=\"14.00\">gini = 0.31</text>\r\n",
       "<text text-anchor=\"start\" x=\"17.5\" y=\"-268.3\" font-family=\"Helvetica,sans-Serif\" font-size=\"14.00\">samples = 282</text>\r\n",
       "<text text-anchor=\"start\" x=\"12\" y=\"-253.3\" font-family=\"Helvetica,sans-Serif\" font-size=\"14.00\">value = [54, 228]</text>\r\n",
       "<text text-anchor=\"start\" x=\"36\" y=\"-238.3\" font-family=\"Helvetica,sans-Serif\" font-size=\"14.00\">class = 1</text>\r\n",
       "</g>\r\n",
       "<!-- 1&#45;&gt;2 -->\r\n",
       "<g id=\"edge2\" class=\"edge\"><title>1&#45;&gt;2</title>\r\n",
       "<path fill=\"none\" stroke=\"black\" d=\"M166.877,-341.907C150.84,-329.88 133.313,-316.735 117.388,-304.791\"/>\r\n",
       "<polygon fill=\"black\" stroke=\"black\" points=\"119.323,-301.867 109.223,-298.667 115.123,-307.467 119.323,-301.867\"/>\r\n",
       "</g>\r\n",
       "<!-- 3 -->\r\n",
       "<g id=\"node4\" class=\"node\"><title>3</title>\r\n",
       "<path fill=\"#e58139\" fill-opacity=\"0.929412\" stroke=\"black\" d=\"M285.5,-306C285.5,-306 156.5,-306 156.5,-306 150.5,-306 144.5,-300 144.5,-294 144.5,-294 144.5,-235 144.5,-235 144.5,-229 150.5,-223 156.5,-223 156.5,-223 285.5,-223 285.5,-223 291.5,-223 297.5,-229 297.5,-235 297.5,-235 297.5,-294 297.5,-294 297.5,-300 291.5,-306 285.5,-306\"/>\r\n",
       "<text text-anchor=\"start\" x=\"152.5\" y=\"-290.8\" font-family=\"Helvetica,sans-Serif\" font-size=\"14.00\">Frek Dept Store ≤ 7.5</text>\r\n",
       "<text text-anchor=\"start\" x=\"183.5\" y=\"-275.8\" font-family=\"Helvetica,sans-Serif\" font-size=\"14.00\">gini = 0.126</text>\r\n",
       "<text text-anchor=\"start\" x=\"169.5\" y=\"-260.8\" font-family=\"Helvetica,sans-Serif\" font-size=\"14.00\">samples = 4166</text>\r\n",
       "<text text-anchor=\"start\" x=\"160\" y=\"-245.8\" font-family=\"Helvetica,sans-Serif\" font-size=\"14.00\">value = [3885, 281]</text>\r\n",
       "<text text-anchor=\"start\" x=\"192\" y=\"-230.8\" font-family=\"Helvetica,sans-Serif\" font-size=\"14.00\">class = 0</text>\r\n",
       "</g>\r\n",
       "<!-- 1&#45;&gt;3 -->\r\n",
       "<g id=\"edge3\" class=\"edge\"><title>1&#45;&gt;3</title>\r\n",
       "<path fill=\"none\" stroke=\"black\" d=\"M221,-341.907C221,-333.649 221,-324.864 221,-316.302\"/>\r\n",
       "<polygon fill=\"black\" stroke=\"black\" points=\"224.5,-316.021 221,-306.021 217.5,-316.021 224.5,-316.021\"/>\r\n",
       "</g>\r\n",
       "<!-- 4 -->\r\n",
       "<g id=\"node5\" class=\"node\"><title>4</title>\r\n",
       "<path fill=\"#e58139\" fill-opacity=\"0.937255\" stroke=\"black\" d=\"M213.5,-187C213.5,-187 72.5,-187 72.5,-187 66.5,-187 60.5,-181 60.5,-175 60.5,-175 60.5,-116 60.5,-116 60.5,-110 66.5,-104 72.5,-104 72.5,-104 213.5,-104 213.5,-104 219.5,-104 225.5,-110 225.5,-116 225.5,-116 225.5,-175 225.5,-175 225.5,-181 219.5,-187 213.5,-187\"/>\r\n",
       "<text text-anchor=\"start\" x=\"68.5\" y=\"-171.8\" font-family=\"Helvetica,sans-Serif\" font-size=\"14.00\">Frek Supermarket ≤ 6.5</text>\r\n",
       "<text text-anchor=\"start\" x=\"105.5\" y=\"-156.8\" font-family=\"Helvetica,sans-Serif\" font-size=\"14.00\">gini = 0.112</text>\r\n",
       "<text text-anchor=\"start\" x=\"91.5\" y=\"-141.8\" font-family=\"Helvetica,sans-Serif\" font-size=\"14.00\">samples = 4111</text>\r\n",
       "<text text-anchor=\"start\" x=\"82\" y=\"-126.8\" font-family=\"Helvetica,sans-Serif\" font-size=\"14.00\">value = [3867, 244]</text>\r\n",
       "<text text-anchor=\"start\" x=\"114\" y=\"-111.8\" font-family=\"Helvetica,sans-Serif\" font-size=\"14.00\">class = 0</text>\r\n",
       "</g>\r\n",
       "<!-- 3&#45;&gt;4 -->\r\n",
       "<g id=\"edge4\" class=\"edge\"><title>3&#45;&gt;4</title>\r\n",
       "<path fill=\"none\" stroke=\"black\" d=\"M193.938,-222.907C188.07,-214.105 181.802,-204.703 175.741,-195.612\"/>\r\n",
       "<polygon fill=\"black\" stroke=\"black\" points=\"178.473,-193.4 170.014,-187.021 172.649,-197.283 178.473,-193.4\"/>\r\n",
       "</g>\r\n",
       "<!-- 7 -->\r\n",
       "<g id=\"node8\" class=\"node\"><title>7</title>\r\n",
       "<path fill=\"#399de5\" fill-opacity=\"0.513725\" stroke=\"black\" d=\"M344.5,-179.5C344.5,-179.5 255.5,-179.5 255.5,-179.5 249.5,-179.5 243.5,-173.5 243.5,-167.5 243.5,-167.5 243.5,-123.5 243.5,-123.5 243.5,-117.5 249.5,-111.5 255.5,-111.5 255.5,-111.5 344.5,-111.5 344.5,-111.5 350.5,-111.5 356.5,-117.5 356.5,-123.5 356.5,-123.5 356.5,-167.5 356.5,-167.5 356.5,-173.5 350.5,-179.5 344.5,-179.5\"/>\r\n",
       "<text text-anchor=\"start\" x=\"266.5\" y=\"-164.3\" font-family=\"Helvetica,sans-Serif\" font-size=\"14.00\">gini = 0.44</text>\r\n",
       "<text text-anchor=\"start\" x=\"256.5\" y=\"-149.3\" font-family=\"Helvetica,sans-Serif\" font-size=\"14.00\">samples = 55</text>\r\n",
       "<text text-anchor=\"start\" x=\"251.5\" y=\"-134.3\" font-family=\"Helvetica,sans-Serif\" font-size=\"14.00\">value = [18, 37]</text>\r\n",
       "<text text-anchor=\"start\" x=\"271\" y=\"-119.3\" font-family=\"Helvetica,sans-Serif\" font-size=\"14.00\">class = 1</text>\r\n",
       "</g>\r\n",
       "<!-- 3&#45;&gt;7 -->\r\n",
       "<g id=\"edge7\" class=\"edge\"><title>3&#45;&gt;7</title>\r\n",
       "<path fill=\"none\" stroke=\"black\" d=\"M248.409,-222.907C256.008,-211.652 264.269,-199.418 271.907,-188.106\"/>\r\n",
       "<polygon fill=\"black\" stroke=\"black\" points=\"274.91,-189.913 277.605,-179.667 269.109,-185.996 274.91,-189.913\"/>\r\n",
       "</g>\r\n",
       "<!-- 5 -->\r\n",
       "<g id=\"node6\" class=\"node\"><title>5</title>\r\n",
       "<path fill=\"#e58139\" fill-opacity=\"0.952941\" stroke=\"black\" d=\"M126,-68C126,-68 12,-68 12,-68 6,-68 0,-62 0,-56 0,-56 0,-12 0,-12 0,-6 6,-0 12,-0 12,-0 126,-0 126,-0 132,-0 138,-6 138,-12 138,-12 138,-56 138,-56 138,-62 132,-68 126,-68\"/>\r\n",
       "<text text-anchor=\"start\" x=\"31.5\" y=\"-52.8\" font-family=\"Helvetica,sans-Serif\" font-size=\"14.00\">gini = 0.083</text>\r\n",
       "<text text-anchor=\"start\" x=\"17.5\" y=\"-37.8\" font-family=\"Helvetica,sans-Serif\" font-size=\"14.00\">samples = 3887</text>\r\n",
       "<text text-anchor=\"start\" x=\"8\" y=\"-22.8\" font-family=\"Helvetica,sans-Serif\" font-size=\"14.00\">value = [3719, 168]</text>\r\n",
       "<text text-anchor=\"start\" x=\"40\" y=\"-7.8\" font-family=\"Helvetica,sans-Serif\" font-size=\"14.00\">class = 0</text>\r\n",
       "</g>\r\n",
       "<!-- 4&#45;&gt;5 -->\r\n",
       "<g id=\"edge5\" class=\"edge\"><title>4&#45;&gt;5</title>\r\n",
       "<path fill=\"none\" stroke=\"black\" d=\"M115.445,-103.726C109.466,-94.879 103.135,-85.51 97.1337,-76.6303\"/>\r\n",
       "<polygon fill=\"black\" stroke=\"black\" points=\"100.003,-74.6253 91.5038,-68.2996 94.2033,-78.5448 100.003,-74.6253\"/>\r\n",
       "</g>\r\n",
       "<!-- 6 -->\r\n",
       "<g id=\"node7\" class=\"node\"><title>6</title>\r\n",
       "<path fill=\"#e58139\" fill-opacity=\"0.486275\" stroke=\"black\" d=\"M266,-68C266,-68 168,-68 168,-68 162,-68 156,-62 156,-56 156,-56 156,-12 156,-12 156,-6 162,-0 168,-0 168,-0 266,-0 266,-0 272,-0 278,-6 278,-12 278,-12 278,-56 278,-56 278,-62 272,-68 266,-68\"/>\r\n",
       "<text text-anchor=\"start\" x=\"179.5\" y=\"-52.8\" font-family=\"Helvetica,sans-Serif\" font-size=\"14.00\">gini = 0.448</text>\r\n",
       "<text text-anchor=\"start\" x=\"169.5\" y=\"-37.8\" font-family=\"Helvetica,sans-Serif\" font-size=\"14.00\">samples = 224</text>\r\n",
       "<text text-anchor=\"start\" x=\"164\" y=\"-22.8\" font-family=\"Helvetica,sans-Serif\" font-size=\"14.00\">value = [148, 76]</text>\r\n",
       "<text text-anchor=\"start\" x=\"188\" y=\"-7.8\" font-family=\"Helvetica,sans-Serif\" font-size=\"14.00\">class = 0</text>\r\n",
       "</g>\r\n",
       "<!-- 4&#45;&gt;6 -->\r\n",
       "<g id=\"edge6\" class=\"edge\"><title>4&#45;&gt;6</title>\r\n",
       "<path fill=\"none\" stroke=\"black\" d=\"M170.555,-103.726C176.534,-94.879 182.865,-85.51 188.866,-76.6303\"/>\r\n",
       "<polygon fill=\"black\" stroke=\"black\" points=\"191.797,-78.5448 194.496,-68.2996 185.997,-74.6253 191.797,-78.5448\"/>\r\n",
       "</g>\r\n",
       "<!-- 9 -->\r\n",
       "<g id=\"node10\" class=\"node\"><title>9</title>\r\n",
       "<path fill=\"#e58139\" fill-opacity=\"0.160784\" stroke=\"black\" d=\"M434,-298.5C434,-298.5 328,-298.5 328,-298.5 322,-298.5 316,-292.5 316,-286.5 316,-286.5 316,-242.5 316,-242.5 316,-236.5 322,-230.5 328,-230.5 328,-230.5 434,-230.5 434,-230.5 440,-230.5 446,-236.5 446,-242.5 446,-242.5 446,-286.5 446,-286.5 446,-292.5 440,-298.5 434,-298.5\"/>\r\n",
       "<text text-anchor=\"start\" x=\"343.5\" y=\"-283.3\" font-family=\"Helvetica,sans-Serif\" font-size=\"14.00\">gini = 0.496</text>\r\n",
       "<text text-anchor=\"start\" x=\"333.5\" y=\"-268.3\" font-family=\"Helvetica,sans-Serif\" font-size=\"14.00\">samples = 414</text>\r\n",
       "<text text-anchor=\"start\" x=\"324\" y=\"-253.3\" font-family=\"Helvetica,sans-Serif\" font-size=\"14.00\">value = [225, 189]</text>\r\n",
       "<text text-anchor=\"start\" x=\"352\" y=\"-238.3\" font-family=\"Helvetica,sans-Serif\" font-size=\"14.00\">class = 0</text>\r\n",
       "</g>\r\n",
       "<!-- 8&#45;&gt;9 -->\r\n",
       "<g id=\"edge9\" class=\"edge\"><title>8&#45;&gt;9</title>\r\n",
       "<path fill=\"none\" stroke=\"black\" d=\"M381,-341.907C381,-331.204 381,-319.615 381,-308.776\"/>\r\n",
       "<polygon fill=\"black\" stroke=\"black\" points=\"384.5,-308.667 381,-298.667 377.5,-308.667 384.5,-308.667\"/>\r\n",
       "</g>\r\n",
       "<!-- 10 -->\r\n",
       "<g id=\"node11\" class=\"node\"><title>10</title>\r\n",
       "<path fill=\"#399de5\" fill-opacity=\"0.878431\" stroke=\"black\" d=\"M574,-298.5C574,-298.5 476,-298.5 476,-298.5 470,-298.5 464,-292.5 464,-286.5 464,-286.5 464,-242.5 464,-242.5 464,-236.5 470,-230.5 476,-230.5 476,-230.5 574,-230.5 574,-230.5 580,-230.5 586,-236.5 586,-242.5 586,-242.5 586,-286.5 586,-286.5 586,-292.5 580,-298.5 574,-298.5\"/>\r\n",
       "<text text-anchor=\"start\" x=\"487.5\" y=\"-283.3\" font-family=\"Helvetica,sans-Serif\" font-size=\"14.00\">gini = 0.193</text>\r\n",
       "<text text-anchor=\"start\" x=\"477.5\" y=\"-268.3\" font-family=\"Helvetica,sans-Serif\" font-size=\"14.00\">samples = 388</text>\r\n",
       "<text text-anchor=\"start\" x=\"472\" y=\"-253.3\" font-family=\"Helvetica,sans-Serif\" font-size=\"14.00\">value = [42, 346]</text>\r\n",
       "<text text-anchor=\"start\" x=\"496\" y=\"-238.3\" font-family=\"Helvetica,sans-Serif\" font-size=\"14.00\">class = 1</text>\r\n",
       "</g>\r\n",
       "<!-- 8&#45;&gt;10 -->\r\n",
       "<g id=\"edge10\" class=\"edge\"><title>8&#45;&gt;10</title>\r\n",
       "<path fill=\"none\" stroke=\"black\" d=\"M430.96,-341.907C445.627,-329.99 461.645,-316.976 476.237,-305.12\"/>\r\n",
       "<polygon fill=\"black\" stroke=\"black\" points=\"478.625,-307.689 484.179,-298.667 474.211,-302.256 478.625,-307.689\"/>\r\n",
       "</g>\r\n",
       "</g>\r\n",
       "</svg>\r\n"
      ],
      "text/plain": [
       "<graphviz.files.Source at 0x1d658443358>"
      ]
     },
     "execution_count": 20,
     "metadata": {},
     "output_type": "execute_result"
    }
   ],
   "source": [
    "#membuat tampilan pohon klasifikasi\n",
    "dot_data = tree.export_graphviz(pohon.fit(x_train,y_train),\n",
    "                               feature_names=fitur,\n",
    "                               class_names=pd.Series(y_baru).astype(str).unique(),\n",
    "                               filled=True, rounded=True,\n",
    "                               special_characters=True,\n",
    "                               out_file=None)\n",
    "grafik=graphviz.Source(dot_data)\n",
    "grafik.render(\"Kyphosis tree\")\n",
    "grafik"
   ]
  },
  {
   "cell_type": "markdown",
   "metadata": {},
   "source": [
    "\n",
    "## Tahap 5: Evaluasi model"
   ]
  },
  {
   "cell_type": "code",
   "execution_count": 21,
   "metadata": {},
   "outputs": [
    {
     "data": {
      "text/html": [
       "<div>\n",
       "<style scoped>\n",
       "    .dataframe tbody tr th:only-of-type {\n",
       "        vertical-align: middle;\n",
       "    }\n",
       "\n",
       "    .dataframe tbody tr th {\n",
       "        vertical-align: top;\n",
       "    }\n",
       "\n",
       "    .dataframe thead th {\n",
       "        text-align: right;\n",
       "    }\n",
       "</style>\n",
       "<table border=\"1\" class=\"dataframe\">\n",
       "  <thead>\n",
       "    <tr style=\"text-align: right;\">\n",
       "      <th></th>\n",
       "      <th>Saldo</th>\n",
       "      <th>Frek ATM</th>\n",
       "      <th>jk</th>\n",
       "      <th>dtempat</th>\n",
       "      <th>Frek Supermarket</th>\n",
       "      <th>Frek Dept Store</th>\n",
       "      <th>Usia</th>\n",
       "    </tr>\n",
       "  </thead>\n",
       "  <tbody>\n",
       "    <tr>\n",
       "      <th>7288</th>\n",
       "      <td>6.926</td>\n",
       "      <td>6</td>\n",
       "      <td>1</td>\n",
       "      <td>0</td>\n",
       "      <td>5</td>\n",
       "      <td>2</td>\n",
       "      <td>25</td>\n",
       "    </tr>\n",
       "    <tr>\n",
       "      <th>2685</th>\n",
       "      <td>12.467</td>\n",
       "      <td>1</td>\n",
       "      <td>1</td>\n",
       "      <td>1</td>\n",
       "      <td>4</td>\n",
       "      <td>2</td>\n",
       "      <td>41</td>\n",
       "    </tr>\n",
       "    <tr>\n",
       "      <th>5745</th>\n",
       "      <td>1.426</td>\n",
       "      <td>1</td>\n",
       "      <td>1</td>\n",
       "      <td>0</td>\n",
       "      <td>3</td>\n",
       "      <td>10</td>\n",
       "      <td>30</td>\n",
       "    </tr>\n",
       "    <tr>\n",
       "      <th>6433</th>\n",
       "      <td>7.057</td>\n",
       "      <td>4</td>\n",
       "      <td>1</td>\n",
       "      <td>1</td>\n",
       "      <td>1</td>\n",
       "      <td>1</td>\n",
       "      <td>31</td>\n",
       "    </tr>\n",
       "    <tr>\n",
       "      <th>870</th>\n",
       "      <td>2.641</td>\n",
       "      <td>7</td>\n",
       "      <td>0</td>\n",
       "      <td>0</td>\n",
       "      <td>5</td>\n",
       "      <td>1</td>\n",
       "      <td>38</td>\n",
       "    </tr>\n",
       "  </tbody>\n",
       "</table>\n",
       "</div>"
      ],
      "text/plain": [
       "       Saldo  Frek ATM  jk  dtempat  Frek Supermarket  Frek Dept Store  Usia\n",
       "7288   6.926         6   1        0                 5                2    25\n",
       "2685  12.467         1   1        1                 4                2    41\n",
       "5745   1.426         1   1        0                 3               10    30\n",
       "6433   7.057         4   1        1                 1                1    31\n",
       "870    2.641         7   0        0                 5                1    38"
      ]
     },
     "execution_count": 21,
     "metadata": {},
     "output_type": "execute_result"
    }
   ],
   "source": [
    "x_train.head()"
   ]
  },
  {
   "cell_type": "code",
   "execution_count": 22,
   "metadata": {},
   "outputs": [
    {
     "data": {
      "text/plain": [
       "((5250,), (5250,))"
      ]
     },
     "execution_count": 22,
     "metadata": {},
     "output_type": "execute_result"
    }
   ],
   "source": [
    "prediksi=pohon.predict(x_train)\n",
    "prediksi.shape,y_train.shape"
   ]
  },
  {
   "cell_type": "code",
   "execution_count": 23,
   "metadata": {
    "scrolled": true
   },
   "outputs": [
    {
     "name": "stdout",
     "output_type": "stream",
     "text": [
      "             precision    recall  f1-score   support\n",
      "\n",
      "          0       0.90      0.97      0.94      4206\n",
      "          1       0.84      0.59      0.69      1044\n",
      "\n",
      "avg / total       0.89      0.90      0.89      5250\n",
      "\n"
     ]
    }
   ],
   "source": [
    "#classification report\n",
    "from sklearn.metrics import classification_report\n",
    "print (classification_report(y_train,prediksi))"
   ]
  },
  {
   "cell_type": "code",
   "execution_count": 24,
   "metadata": {},
   "outputs": [
    {
     "name": "stdout",
     "output_type": "stream",
     "text": [
      "Accuracy: 0.8958095238095238\n",
      "Precision: 0.8427586206896551\n",
      "Recall: 0.5852490421455939\n",
      "Specificity: 0.5852490421455939\n"
     ]
    }
   ],
   "source": [
    "#melihat nilai akurasi, presisi, sensitifiti dan Specificity data training\n",
    "from sklearn import metrics\n",
    "print(\"Accuracy:\",metrics.accuracy_score(y_train, prediksi))\n",
    "print(\"Precision:\",metrics.precision_score(y_train, prediksi))\n",
    "print(\"Recall:\",metrics.recall_score(y_train, prediksi))\n",
    "print(\"Specificity:\",metrics.recall_score(y_train, prediksi))"
   ]
  },
  {
   "cell_type": "markdown",
   "metadata": {},
   "source": [
    "### Tugas 1: "
   ]
  },
  {
   "cell_type": "markdown",
   "metadata": {},
   "source": [
    "1. Hitunglah nilai akurasi, presisi, dan recall dari tree yang sudah dihasilkan dengan dasar data testing.\n",
    "2. Buatlah pohon klasifikasi, dengan minimum sample split sebesar 300 dan maxdepth = 4. Adakah perbedaan hasil pohon klasifikasi yang diperoleh?  Jika ada, hitung nilai akurasi, presisi, dan recall pohon yang baru. Beri penjelasan terhadap hasil yang diperoleh.\n",
    "2. Buatlah pohon klasifikasi, dengan minimum sample split sebesar 300 dan maxdepth = 5. Adakah perbedaan hasil pohon klasifikasi yang diperoleh?  Jika ada, hitung nilai akurasi, presisi, dan recall pohon yang baru. Beri penjelasan terhadap hasil yang diperoleh."
   ]
  },
  {
   "cell_type": "markdown",
   "metadata": {},
   "source": [
    "## Tahap 6: Prediksi data pelanggan lain yang menjadi target"
   ]
  },
  {
   "cell_type": "code",
   "execution_count": 26,
   "metadata": {},
   "outputs": [
    {
     "data": {
      "text/html": [
       "<div>\n",
       "<style scoped>\n",
       "    .dataframe tbody tr th:only-of-type {\n",
       "        vertical-align: middle;\n",
       "    }\n",
       "\n",
       "    .dataframe tbody tr th {\n",
       "        vertical-align: top;\n",
       "    }\n",
       "\n",
       "    .dataframe thead th {\n",
       "        text-align: right;\n",
       "    }\n",
       "</style>\n",
       "<table border=\"1\" class=\"dataframe\">\n",
       "  <thead>\n",
       "    <tr style=\"text-align: right;\">\n",
       "      <th></th>\n",
       "      <th>No</th>\n",
       "      <th>Saldo</th>\n",
       "      <th>Frek ATM</th>\n",
       "      <th>Jenis Kelamin</th>\n",
       "      <th>tempat tinggal</th>\n",
       "      <th>Frek Supermarket</th>\n",
       "      <th>Frek Dept Store</th>\n",
       "      <th>Usia</th>\n",
       "    </tr>\n",
       "  </thead>\n",
       "  <tbody>\n",
       "    <tr>\n",
       "      <th>0</th>\n",
       "      <td>7501</td>\n",
       "      <td>10.173</td>\n",
       "      <td>6</td>\n",
       "      <td>Laki-Laki</td>\n",
       "      <td>urban</td>\n",
       "      <td>3</td>\n",
       "      <td>7</td>\n",
       "      <td>33</td>\n",
       "    </tr>\n",
       "    <tr>\n",
       "      <th>1</th>\n",
       "      <td>7502</td>\n",
       "      <td>19.558</td>\n",
       "      <td>10</td>\n",
       "      <td>Laki-Laki</td>\n",
       "      <td>urban</td>\n",
       "      <td>3</td>\n",
       "      <td>6</td>\n",
       "      <td>37</td>\n",
       "    </tr>\n",
       "    <tr>\n",
       "      <th>2</th>\n",
       "      <td>7503</td>\n",
       "      <td>31.807</td>\n",
       "      <td>15</td>\n",
       "      <td>Laki-Laki</td>\n",
       "      <td>rural</td>\n",
       "      <td>6</td>\n",
       "      <td>7</td>\n",
       "      <td>40</td>\n",
       "    </tr>\n",
       "    <tr>\n",
       "      <th>3</th>\n",
       "      <td>7504</td>\n",
       "      <td>12.924</td>\n",
       "      <td>13</td>\n",
       "      <td>Laki-Laki</td>\n",
       "      <td>urban</td>\n",
       "      <td>5</td>\n",
       "      <td>1</td>\n",
       "      <td>38</td>\n",
       "    </tr>\n",
       "    <tr>\n",
       "      <th>4</th>\n",
       "      <td>7505</td>\n",
       "      <td>0.115</td>\n",
       "      <td>0</td>\n",
       "      <td>Laki-Laki</td>\n",
       "      <td>rural</td>\n",
       "      <td>3</td>\n",
       "      <td>0</td>\n",
       "      <td>45</td>\n",
       "    </tr>\n",
       "  </tbody>\n",
       "</table>\n",
       "</div>"
      ],
      "text/plain": [
       "     No   Saldo  Frek ATM Jenis Kelamin tempat tinggal  Frek Supermarket  \\\n",
       "0  7501  10.173         6     Laki-Laki          urban                 3   \n",
       "1  7502  19.558        10     Laki-Laki          urban                 3   \n",
       "2  7503  31.807        15     Laki-Laki          rural                 6   \n",
       "3  7504  12.924        13     Laki-Laki          urban                 5   \n",
       "4  7505   0.115         0     Laki-Laki          rural                 3   \n",
       "\n",
       "   Frek Dept Store  Usia  \n",
       "0                7    33  \n",
       "1                6    37  \n",
       "2                7    40  \n",
       "3                1    38  \n",
       "4                0    45  "
      ]
     },
     "execution_count": 26,
     "metadata": {},
     "output_type": "execute_result"
    }
   ],
   "source": [
    "#import data\n",
    "datalain = pd.read_csv('D:\\ingin diprediksi.csv',delimiter=',') \n",
    "datalain.head()"
   ]
  },
  {
   "cell_type": "code",
   "execution_count": 27,
   "metadata": {},
   "outputs": [],
   "source": [
    "#membuat dummy variable dari variabel yang memiliki type string\n",
    "datalain['jk']=datalain['Jenis Kelamin'].astype('category').cat.codes\n",
    "datalain['dtempat']=datalain['tempat tinggal'].astype('category').cat.codes\n",
    "\n",
    "#Pemilihan variabel X yang akan digunakan\n",
    "x_lain=datalain[['Saldo','Frek ATM', 'jk','dtempat','Frek Supermarket','Frek Dept Store','Usia']]"
   ]
  },
  {
   "cell_type": "code",
   "execution_count": 28,
   "metadata": {},
   "outputs": [
    {
     "data": {
      "text/plain": [
       "array([0, 1, 1, ..., 0, 0, 1], dtype=int64)"
      ]
     },
     "execution_count": 28,
     "metadata": {},
     "output_type": "execute_result"
    }
   ],
   "source": [
    "#menghasikan nilai prediksi peluang ketertarikan bagi setiap pelanggan baru\n",
    "y_prediksilain = pohon.predict(x_lain)\n",
    "y_prediksilain"
   ]
  },
  {
   "cell_type": "code",
   "execution_count": 29,
   "metadata": {},
   "outputs": [
    {
     "data": {
      "text/html": [
       "<div>\n",
       "<style scoped>\n",
       "    .dataframe tbody tr th:only-of-type {\n",
       "        vertical-align: middle;\n",
       "    }\n",
       "\n",
       "    .dataframe tbody tr th {\n",
       "        vertical-align: top;\n",
       "    }\n",
       "\n",
       "    .dataframe thead th {\n",
       "        text-align: right;\n",
       "    }\n",
       "</style>\n",
       "<table border=\"1\" class=\"dataframe\">\n",
       "  <thead>\n",
       "    <tr style=\"text-align: right;\">\n",
       "      <th></th>\n",
       "      <th>prediksi_pohon</th>\n",
       "    </tr>\n",
       "  </thead>\n",
       "  <tbody>\n",
       "    <tr>\n",
       "      <th>0</th>\n",
       "      <td>0</td>\n",
       "    </tr>\n",
       "    <tr>\n",
       "      <th>1</th>\n",
       "      <td>1</td>\n",
       "    </tr>\n",
       "    <tr>\n",
       "      <th>2</th>\n",
       "      <td>1</td>\n",
       "    </tr>\n",
       "    <tr>\n",
       "      <th>3</th>\n",
       "      <td>1</td>\n",
       "    </tr>\n",
       "    <tr>\n",
       "      <th>4</th>\n",
       "      <td>0</td>\n",
       "    </tr>\n",
       "  </tbody>\n",
       "</table>\n",
       "</div>"
      ],
      "text/plain": [
       "   prediksi_pohon\n",
       "0               0\n",
       "1               1\n",
       "2               1\n",
       "3               1\n",
       "4               0"
      ]
     },
     "execution_count": 29,
     "metadata": {},
     "output_type": "execute_result"
    }
   ],
   "source": [
    "#convert vektor menjadi data frame\n",
    "y_prediksilain=pd.DataFrame(y_prediksilain,columns=['prediksi_pohon'])\n",
    "y_prediksilain.head()"
   ]
  },
  {
   "cell_type": "code",
   "execution_count": 30,
   "metadata": {},
   "outputs": [
    {
     "data": {
      "text/plain": [
       "0    5236\n",
       "1     930\n",
       "Name: prediksi_pohon, dtype: int64"
      ]
     },
     "execution_count": 30,
     "metadata": {},
     "output_type": "execute_result"
    }
   ],
   "source": [
    "y_prediksilain['prediksi_pohon'].value_counts()"
   ]
  },
  {
   "cell_type": "code",
   "execution_count": 31,
   "metadata": {},
   "outputs": [
    {
     "data": {
      "text/html": [
       "<div>\n",
       "<style scoped>\n",
       "    .dataframe tbody tr th:only-of-type {\n",
       "        vertical-align: middle;\n",
       "    }\n",
       "\n",
       "    .dataframe tbody tr th {\n",
       "        vertical-align: top;\n",
       "    }\n",
       "\n",
       "    .dataframe thead th {\n",
       "        text-align: right;\n",
       "    }\n",
       "</style>\n",
       "<table border=\"1\" class=\"dataframe\">\n",
       "  <thead>\n",
       "    <tr style=\"text-align: right;\">\n",
       "      <th></th>\n",
       "      <th>No</th>\n",
       "      <th>Saldo</th>\n",
       "      <th>Frek ATM</th>\n",
       "      <th>Jenis Kelamin</th>\n",
       "      <th>tempat tinggal</th>\n",
       "      <th>Frek Supermarket</th>\n",
       "      <th>Frek Dept Store</th>\n",
       "      <th>Usia</th>\n",
       "      <th>jk</th>\n",
       "      <th>dtempat</th>\n",
       "      <th>prediksi_pohon</th>\n",
       "    </tr>\n",
       "  </thead>\n",
       "  <tbody>\n",
       "    <tr>\n",
       "      <th>0</th>\n",
       "      <td>7501</td>\n",
       "      <td>10.173</td>\n",
       "      <td>6</td>\n",
       "      <td>Laki-Laki</td>\n",
       "      <td>urban</td>\n",
       "      <td>3</td>\n",
       "      <td>7</td>\n",
       "      <td>33</td>\n",
       "      <td>0</td>\n",
       "      <td>1</td>\n",
       "      <td>0</td>\n",
       "    </tr>\n",
       "    <tr>\n",
       "      <th>1</th>\n",
       "      <td>7502</td>\n",
       "      <td>19.558</td>\n",
       "      <td>10</td>\n",
       "      <td>Laki-Laki</td>\n",
       "      <td>urban</td>\n",
       "      <td>3</td>\n",
       "      <td>6</td>\n",
       "      <td>37</td>\n",
       "      <td>0</td>\n",
       "      <td>1</td>\n",
       "      <td>1</td>\n",
       "    </tr>\n",
       "    <tr>\n",
       "      <th>2</th>\n",
       "      <td>7503</td>\n",
       "      <td>31.807</td>\n",
       "      <td>15</td>\n",
       "      <td>Laki-Laki</td>\n",
       "      <td>rural</td>\n",
       "      <td>6</td>\n",
       "      <td>7</td>\n",
       "      <td>40</td>\n",
       "      <td>0</td>\n",
       "      <td>0</td>\n",
       "      <td>1</td>\n",
       "    </tr>\n",
       "    <tr>\n",
       "      <th>3</th>\n",
       "      <td>7504</td>\n",
       "      <td>12.924</td>\n",
       "      <td>13</td>\n",
       "      <td>Laki-Laki</td>\n",
       "      <td>urban</td>\n",
       "      <td>5</td>\n",
       "      <td>1</td>\n",
       "      <td>38</td>\n",
       "      <td>0</td>\n",
       "      <td>1</td>\n",
       "      <td>1</td>\n",
       "    </tr>\n",
       "    <tr>\n",
       "      <th>4</th>\n",
       "      <td>7505</td>\n",
       "      <td>0.115</td>\n",
       "      <td>0</td>\n",
       "      <td>Laki-Laki</td>\n",
       "      <td>rural</td>\n",
       "      <td>3</td>\n",
       "      <td>0</td>\n",
       "      <td>45</td>\n",
       "      <td>0</td>\n",
       "      <td>0</td>\n",
       "      <td>0</td>\n",
       "    </tr>\n",
       "  </tbody>\n",
       "</table>\n",
       "</div>"
      ],
      "text/plain": [
       "     No   Saldo  Frek ATM Jenis Kelamin tempat tinggal  Frek Supermarket  \\\n",
       "0  7501  10.173         6     Laki-Laki          urban                 3   \n",
       "1  7502  19.558        10     Laki-Laki          urban                 3   \n",
       "2  7503  31.807        15     Laki-Laki          rural                 6   \n",
       "3  7504  12.924        13     Laki-Laki          urban                 5   \n",
       "4  7505   0.115         0     Laki-Laki          rural                 3   \n",
       "\n",
       "   Frek Dept Store  Usia  jk  dtempat  prediksi_pohon  \n",
       "0                7    33   0        1               0  \n",
       "1                6    37   0        1               1  \n",
       "2                7    40   0        0               1  \n",
       "3                1    38   0        1               1  \n",
       "4                0    45   0        0               0  "
      ]
     },
     "execution_count": 31,
     "metadata": {},
     "output_type": "execute_result"
    }
   ],
   "source": [
    "data_lengkap_pohon=datalain.join(y_prediksilain, how='outer')\n",
    "data_lengkap_pohon.head()"
   ]
  },
  {
   "cell_type": "markdown",
   "metadata": {},
   "source": [
    "# Random Forests\n",
    "\n",
    "Mari kita bandingkan antara decission tree dengan random forest."
   ]
  },
  {
   "cell_type": "markdown",
   "metadata": {},
   "source": [
    "## Tahap 1: Membuat model random forest"
   ]
  },
  {
   "cell_type": "code",
   "execution_count": 32,
   "metadata": {},
   "outputs": [
    {
     "name": "stderr",
     "output_type": "stream",
     "text": [
      "C:\\Users\\bagusco\\Anaconda3\\lib\\site-packages\\sklearn\\ensemble\\weight_boosting.py:29: DeprecationWarning: numpy.core.umath_tests is an internal NumPy module and should not be imported. It will be removed in a future NumPy release.\n",
      "  from numpy.core.umath_tests import inner1d\n"
     ]
    }
   ],
   "source": [
    "from sklearn.ensemble import RandomForestClassifier"
   ]
  },
  {
   "cell_type": "code",
   "execution_count": 33,
   "metadata": {},
   "outputs": [
    {
     "data": {
      "text/plain": [
       "RandomForestClassifier(bootstrap=True, class_weight=None, criterion='gini',\n",
       "            max_depth=None, max_features='auto', max_leaf_nodes=None,\n",
       "            min_impurity_decrease=0.0, min_impurity_split=None,\n",
       "            min_samples_leaf=1, min_samples_split=2,\n",
       "            min_weight_fraction_leaf=0.0, n_estimators=100, n_jobs=1,\n",
       "            oob_score=False, random_state=None, verbose=0,\n",
       "            warm_start=False)"
      ]
     },
     "execution_count": 33,
     "metadata": {},
     "output_type": "execute_result"
    }
   ],
   "source": [
    "rft = RandomForestClassifier(n_estimators=100)\n",
    "rft.fit(x_train, y_train)"
   ]
  },
  {
   "cell_type": "markdown",
   "metadata": {},
   "source": [
    "## Tahap 2: Prediksi dan Evaluasi"
   ]
  },
  {
   "cell_type": "code",
   "execution_count": 34,
   "metadata": {},
   "outputs": [
    {
     "data": {
      "text/plain": [
       "array([1, 0, 1, ..., 1, 0, 0], dtype=int64)"
      ]
     },
     "execution_count": 34,
     "metadata": {},
     "output_type": "execute_result"
    }
   ],
   "source": [
    "#prediksi\n",
    "rft_pred = rft.predict(x_train)\n",
    "rft_pred"
   ]
  },
  {
   "cell_type": "code",
   "execution_count": 35,
   "metadata": {},
   "outputs": [
    {
     "name": "stdout",
     "output_type": "stream",
     "text": [
      "             precision    recall  f1-score   support\n",
      "\n",
      "          0       1.00      1.00      1.00      4206\n",
      "          1       1.00      1.00      1.00      1044\n",
      "\n",
      "avg / total       1.00      1.00      1.00      5250\n",
      "\n"
     ]
    }
   ],
   "source": [
    "#Evaluasi klasifikasi report \n",
    "from sklearn.metrics import classification_report\n",
    "print(classification_report(y_train,rft_pred))\n"
   ]
  },
  {
   "cell_type": "code",
   "execution_count": 36,
   "metadata": {},
   "outputs": [
    {
     "name": "stdout",
     "output_type": "stream",
     "text": [
      "Accuracy: 1.0\n",
      "Precision: 1.0\n",
      "Recall: 1.0\n",
      "Specificity: 1.0\n"
     ]
    }
   ],
   "source": [
    "#melihat nilai akurasi, presisi, sensitifiti dan Specificity data training\n",
    "prediksi_test=pohon.predict(x_train)\n",
    "from sklearn import metrics\n",
    "print(\"Accuracy:\",metrics.accuracy_score(y_train, rft_pred))\n",
    "print(\"Precision:\",metrics.precision_score(y_train, rft_pred))\n",
    "print(\"Recall:\",metrics.recall_score(y_train, rft_pred))\n",
    "print(\"Specificity:\",metrics.recall_score(y_train, rft_pred))"
   ]
  },
  {
   "cell_type": "code",
   "execution_count": 37,
   "metadata": {},
   "outputs": [
    {
     "data": {
      "text/html": [
       "<div>\n",
       "<style scoped>\n",
       "    .dataframe tbody tr th:only-of-type {\n",
       "        vertical-align: middle;\n",
       "    }\n",
       "\n",
       "    .dataframe tbody tr th {\n",
       "        vertical-align: top;\n",
       "    }\n",
       "\n",
       "    .dataframe thead th {\n",
       "        text-align: right;\n",
       "    }\n",
       "</style>\n",
       "<table border=\"1\" class=\"dataframe\">\n",
       "  <thead>\n",
       "    <tr style=\"text-align: right;\">\n",
       "      <th>col_0</th>\n",
       "      <th>0</th>\n",
       "      <th>1</th>\n",
       "      <th>total</th>\n",
       "    </tr>\n",
       "    <tr>\n",
       "      <th>Tertarik</th>\n",
       "      <th></th>\n",
       "      <th></th>\n",
       "      <th></th>\n",
       "    </tr>\n",
       "  </thead>\n",
       "  <tbody>\n",
       "    <tr>\n",
       "      <th>0</th>\n",
       "      <td>4206</td>\n",
       "      <td>0</td>\n",
       "      <td>4206</td>\n",
       "    </tr>\n",
       "    <tr>\n",
       "      <th>1</th>\n",
       "      <td>0</td>\n",
       "      <td>1044</td>\n",
       "      <td>1044</td>\n",
       "    </tr>\n",
       "  </tbody>\n",
       "</table>\n",
       "</div>"
      ],
      "text/plain": [
       "col_0        0     1  total\n",
       "Tertarik                   \n",
       "0         4206     0   4206\n",
       "1            0  1044   1044"
      ]
     },
     "execution_count": 37,
     "metadata": {},
     "output_type": "execute_result"
    }
   ],
   "source": [
    "tabTest=pd.crosstab(y_train,rft_pred)\n",
    "tabTest['total']=tabTest.sum(axis=1)\n",
    "tabTest"
   ]
  },
  {
   "cell_type": "markdown",
   "metadata": {},
   "source": [
    "### Tugas"
   ]
  },
  {
   "cell_type": "markdown",
   "metadata": {},
   "source": [
    "1. Hitunglah akurasi, presisi, dan recall dari forest yang sudah diperoleh, menggunakan data testing."
   ]
  },
  {
   "cell_type": "markdown",
   "metadata": {},
   "source": [
    "## Tahap 3: Prediksi untuk data baru pada RANDOM FOREST"
   ]
  },
  {
   "cell_type": "code",
   "execution_count": 38,
   "metadata": {
    "scrolled": true
   },
   "outputs": [
    {
     "data": {
      "text/plain": [
       "array([1, 1, 1, ..., 0, 0, 1], dtype=int64)"
      ]
     },
     "execution_count": 38,
     "metadata": {},
     "output_type": "execute_result"
    }
   ],
   "source": [
    "#menghasilkan y dengan prediksi dari sekumpulan x yang ada pada data \n",
    "pred_randForest=rft.predict(x_lain)\n",
    "pred_randForest"
   ]
  },
  {
   "cell_type": "code",
   "execution_count": 39,
   "metadata": {},
   "outputs": [
    {
     "data": {
      "text/html": [
       "<div>\n",
       "<style scoped>\n",
       "    .dataframe tbody tr th:only-of-type {\n",
       "        vertical-align: middle;\n",
       "    }\n",
       "\n",
       "    .dataframe tbody tr th {\n",
       "        vertical-align: top;\n",
       "    }\n",
       "\n",
       "    .dataframe thead th {\n",
       "        text-align: right;\n",
       "    }\n",
       "</style>\n",
       "<table border=\"1\" class=\"dataframe\">\n",
       "  <thead>\n",
       "    <tr style=\"text-align: right;\">\n",
       "      <th></th>\n",
       "      <th>Prediksi_randForest</th>\n",
       "    </tr>\n",
       "  </thead>\n",
       "  <tbody>\n",
       "    <tr>\n",
       "      <th>0</th>\n",
       "      <td>1</td>\n",
       "    </tr>\n",
       "    <tr>\n",
       "      <th>1</th>\n",
       "      <td>1</td>\n",
       "    </tr>\n",
       "    <tr>\n",
       "      <th>2</th>\n",
       "      <td>1</td>\n",
       "    </tr>\n",
       "    <tr>\n",
       "      <th>3</th>\n",
       "      <td>1</td>\n",
       "    </tr>\n",
       "    <tr>\n",
       "      <th>4</th>\n",
       "      <td>0</td>\n",
       "    </tr>\n",
       "  </tbody>\n",
       "</table>\n",
       "</div>"
      ],
      "text/plain": [
       "   Prediksi_randForest\n",
       "0                    1\n",
       "1                    1\n",
       "2                    1\n",
       "3                    1\n",
       "4                    0"
      ]
     },
     "execution_count": 39,
     "metadata": {},
     "output_type": "execute_result"
    }
   ],
   "source": [
    "#mengubah menjadi dataframe\n",
    "pred_randForest=pd.DataFrame(pred_randForest,columns=['Prediksi_randForest'])\n",
    "pred_randForest.head()"
   ]
  },
  {
   "cell_type": "code",
   "execution_count": 40,
   "metadata": {},
   "outputs": [
    {
     "data": {
      "text/plain": [
       "0    4964\n",
       "1    1202\n",
       "Name: Prediksi_randForest, dtype: int64"
      ]
     },
     "execution_count": 40,
     "metadata": {},
     "output_type": "execute_result"
    }
   ],
   "source": [
    "pred_randForest['Prediksi_randForest'].value_counts()"
   ]
  },
  {
   "cell_type": "code",
   "execution_count": 41,
   "metadata": {},
   "outputs": [
    {
     "data": {
      "text/html": [
       "<div>\n",
       "<style scoped>\n",
       "    .dataframe tbody tr th:only-of-type {\n",
       "        vertical-align: middle;\n",
       "    }\n",
       "\n",
       "    .dataframe tbody tr th {\n",
       "        vertical-align: top;\n",
       "    }\n",
       "\n",
       "    .dataframe thead th {\n",
       "        text-align: right;\n",
       "    }\n",
       "</style>\n",
       "<table border=\"1\" class=\"dataframe\">\n",
       "  <thead>\n",
       "    <tr style=\"text-align: right;\">\n",
       "      <th></th>\n",
       "      <th>Saldo</th>\n",
       "      <th>Frek ATM</th>\n",
       "      <th>jk</th>\n",
       "      <th>dtempat</th>\n",
       "      <th>Frek Supermarket</th>\n",
       "      <th>Frek Dept Store</th>\n",
       "      <th>Usia</th>\n",
       "      <th>Prediksi_randForest</th>\n",
       "    </tr>\n",
       "  </thead>\n",
       "  <tbody>\n",
       "    <tr>\n",
       "      <th>0</th>\n",
       "      <td>10.173</td>\n",
       "      <td>6</td>\n",
       "      <td>0</td>\n",
       "      <td>1</td>\n",
       "      <td>3</td>\n",
       "      <td>7</td>\n",
       "      <td>33</td>\n",
       "      <td>1</td>\n",
       "    </tr>\n",
       "    <tr>\n",
       "      <th>1</th>\n",
       "      <td>19.558</td>\n",
       "      <td>10</td>\n",
       "      <td>0</td>\n",
       "      <td>1</td>\n",
       "      <td>3</td>\n",
       "      <td>6</td>\n",
       "      <td>37</td>\n",
       "      <td>1</td>\n",
       "    </tr>\n",
       "    <tr>\n",
       "      <th>2</th>\n",
       "      <td>31.807</td>\n",
       "      <td>15</td>\n",
       "      <td>0</td>\n",
       "      <td>0</td>\n",
       "      <td>6</td>\n",
       "      <td>7</td>\n",
       "      <td>40</td>\n",
       "      <td>1</td>\n",
       "    </tr>\n",
       "    <tr>\n",
       "      <th>3</th>\n",
       "      <td>12.924</td>\n",
       "      <td>13</td>\n",
       "      <td>0</td>\n",
       "      <td>1</td>\n",
       "      <td>5</td>\n",
       "      <td>1</td>\n",
       "      <td>38</td>\n",
       "      <td>1</td>\n",
       "    </tr>\n",
       "    <tr>\n",
       "      <th>4</th>\n",
       "      <td>0.115</td>\n",
       "      <td>0</td>\n",
       "      <td>0</td>\n",
       "      <td>0</td>\n",
       "      <td>3</td>\n",
       "      <td>0</td>\n",
       "      <td>45</td>\n",
       "      <td>0</td>\n",
       "    </tr>\n",
       "  </tbody>\n",
       "</table>\n",
       "</div>"
      ],
      "text/plain": [
       "    Saldo  Frek ATM  jk  dtempat  Frek Supermarket  Frek Dept Store  Usia  \\\n",
       "0  10.173         6   0        1                 3                7    33   \n",
       "1  19.558        10   0        1                 3                6    37   \n",
       "2  31.807        15   0        0                 6                7    40   \n",
       "3  12.924        13   0        1                 5                1    38   \n",
       "4   0.115         0   0        0                 3                0    45   \n",
       "\n",
       "   Prediksi_randForest  \n",
       "0                    1  \n",
       "1                    1  \n",
       "2                    1  \n",
       "3                    1  \n",
       "4                    0  "
      ]
     },
     "execution_count": 41,
     "metadata": {},
     "output_type": "execute_result"
    }
   ],
   "source": [
    "data_lengkap_randForest=x_lain.join(pred_randForest, how='outer')\n",
    "data_lengkap_randForest.head()"
   ]
  },
  {
   "cell_type": "markdown",
   "metadata": {},
   "source": [
    "### Tugas"
   ]
  },
  {
   "cell_type": "markdown",
   "metadata": {},
   "source": [
    "1. Buat forest dengan banyaknya pohon yang terbentuk sebanyak 50. Lakukan evaluasi model yang Anda peroleh dan bandingkan dengan model sebelumnya"
   ]
  },
  {
   "cell_type": "code",
   "execution_count": null,
   "metadata": {},
   "outputs": [],
   "source": []
  }
 ],
 "metadata": {
  "kernelspec": {
   "display_name": "Python 3",
   "language": "python",
   "name": "python3"
  },
  "language_info": {
   "codemirror_mode": {
    "name": "ipython",
    "version": 3
   },
   "file_extension": ".py",
   "mimetype": "text/x-python",
   "name": "python",
   "nbconvert_exporter": "python",
   "pygments_lexer": "ipython3",
   "version": "3.7.0"
  }
 },
 "nbformat": 4,
 "nbformat_minor": 2
}
