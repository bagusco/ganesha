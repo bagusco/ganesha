{
 "cells": [
  {
   "cell_type": "markdown",
   "metadata": {},
   "source": [
    "# DECISSION TREE IN PYTHON"
   ]
  },
  {
   "cell_type": "markdown",
   "metadata": {},
   "source": [
    "## Tahap 1: Membaca Data"
   ]
  },
  {
   "cell_type": "code",
   "execution_count": 2,
   "metadata": {},
   "outputs": [],
   "source": [
    "#import library\n",
    "import pandas as pd"
   ]
  },
  {
   "cell_type": "code",
   "execution_count": 18,
   "metadata": {},
   "outputs": [
    {
     "data": {
      "text/html": [
       "<div>\n",
       "<style scoped>\n",
       "    .dataframe tbody tr th:only-of-type {\n",
       "        vertical-align: middle;\n",
       "    }\n",
       "\n",
       "    .dataframe tbody tr th {\n",
       "        vertical-align: top;\n",
       "    }\n",
       "\n",
       "    .dataframe thead th {\n",
       "        text-align: right;\n",
       "    }\n",
       "</style>\n",
       "<table border=\"1\" class=\"dataframe\">\n",
       "  <thead>\n",
       "    <tr style=\"text-align: right;\">\n",
       "      <th></th>\n",
       "      <th>Status</th>\n",
       "      <th>Account Balance</th>\n",
       "      <th>Duration of Credit (month)</th>\n",
       "      <th>Payment Status of Previous Credit</th>\n",
       "      <th>Purpose</th>\n",
       "      <th>Credit Amount</th>\n",
       "      <th>Value Savings/Stocks</th>\n",
       "      <th>Length of current employment</th>\n",
       "      <th>Instalment per cent</th>\n",
       "      <th>Sex &amp; Marital Status</th>\n",
       "      <th>...</th>\n",
       "      <th>Duration in Current address</th>\n",
       "      <th>Property</th>\n",
       "      <th>Age (years)</th>\n",
       "      <th>Concurrent Credits</th>\n",
       "      <th>Type of apartment</th>\n",
       "      <th>No of Credits at this Bank</th>\n",
       "      <th>Occupation</th>\n",
       "      <th>No of dependents</th>\n",
       "      <th>Telephone</th>\n",
       "      <th>Foreign Worker</th>\n",
       "    </tr>\n",
       "  </thead>\n",
       "  <tbody>\n",
       "    <tr>\n",
       "      <th>0</th>\n",
       "      <td>1</td>\n",
       "      <td>account &lt; 0</td>\n",
       "      <td>18</td>\n",
       "      <td>critical account</td>\n",
       "      <td>funiture</td>\n",
       "      <td>1049</td>\n",
       "      <td>100 &lt;= savings &lt; 500</td>\n",
       "      <td>employed &lt; 1 year</td>\n",
       "      <td>4</td>\n",
       "      <td>female-divorced/married</td>\n",
       "      <td>...</td>\n",
       "      <td>4</td>\n",
       "      <td>building society</td>\n",
       "      <td>21</td>\n",
       "      <td>none</td>\n",
       "      <td>rent</td>\n",
       "      <td>1</td>\n",
       "      <td>skilled employee</td>\n",
       "      <td>1</td>\n",
       "      <td>none</td>\n",
       "      <td>yes</td>\n",
       "    </tr>\n",
       "    <tr>\n",
       "      <th>1</th>\n",
       "      <td>1</td>\n",
       "      <td>account &lt; 0</td>\n",
       "      <td>9</td>\n",
       "      <td>critical account</td>\n",
       "      <td>car-new</td>\n",
       "      <td>2799</td>\n",
       "      <td>500 &lt;= savings &lt; 1000</td>\n",
       "      <td>1 &lt;= employed &lt; 4 years</td>\n",
       "      <td>2</td>\n",
       "      <td>male-single</td>\n",
       "      <td>...</td>\n",
       "      <td>2</td>\n",
       "      <td>real estate</td>\n",
       "      <td>36</td>\n",
       "      <td>none</td>\n",
       "      <td>rent</td>\n",
       "      <td>2</td>\n",
       "      <td>skilled employee</td>\n",
       "      <td>2</td>\n",
       "      <td>none</td>\n",
       "      <td>yes</td>\n",
       "    </tr>\n",
       "    <tr>\n",
       "      <th>2</th>\n",
       "      <td>1</td>\n",
       "      <td>0 &lt;= account &lt; 200</td>\n",
       "      <td>12</td>\n",
       "      <td>existing credits</td>\n",
       "      <td>business</td>\n",
       "      <td>841</td>\n",
       "      <td>savings &gt;= 1000</td>\n",
       "      <td>4 &lt;= employed &lt; 7 years</td>\n",
       "      <td>2</td>\n",
       "      <td>female-divorced/married</td>\n",
       "      <td>...</td>\n",
       "      <td>4</td>\n",
       "      <td>real estate</td>\n",
       "      <td>23</td>\n",
       "      <td>none</td>\n",
       "      <td>rent</td>\n",
       "      <td>1</td>\n",
       "      <td>unskilled-resident</td>\n",
       "      <td>1</td>\n",
       "      <td>none</td>\n",
       "      <td>yes</td>\n",
       "    </tr>\n",
       "    <tr>\n",
       "      <th>3</th>\n",
       "      <td>1</td>\n",
       "      <td>account &lt; 0</td>\n",
       "      <td>12</td>\n",
       "      <td>critical account</td>\n",
       "      <td>car-new</td>\n",
       "      <td>2122</td>\n",
       "      <td>500 &lt;= savings &lt; 1000</td>\n",
       "      <td>1 &lt;= employed &lt; 4 years</td>\n",
       "      <td>3</td>\n",
       "      <td>male-single</td>\n",
       "      <td>...</td>\n",
       "      <td>2</td>\n",
       "      <td>real estate</td>\n",
       "      <td>39</td>\n",
       "      <td>none</td>\n",
       "      <td>rent</td>\n",
       "      <td>2</td>\n",
       "      <td>unskilled-resident</td>\n",
       "      <td>2</td>\n",
       "      <td>none</td>\n",
       "      <td>no</td>\n",
       "    </tr>\n",
       "    <tr>\n",
       "      <th>4</th>\n",
       "      <td>1</td>\n",
       "      <td>account &lt; 0</td>\n",
       "      <td>12</td>\n",
       "      <td>critical account</td>\n",
       "      <td>car-new</td>\n",
       "      <td>2171</td>\n",
       "      <td>500 &lt;= savings &lt; 1000</td>\n",
       "      <td>1 &lt;= employed &lt; 4 years</td>\n",
       "      <td>4</td>\n",
       "      <td>male-single</td>\n",
       "      <td>...</td>\n",
       "      <td>4</td>\n",
       "      <td>building society</td>\n",
       "      <td>38</td>\n",
       "      <td>bank</td>\n",
       "      <td>own</td>\n",
       "      <td>2</td>\n",
       "      <td>unskilled-resident</td>\n",
       "      <td>1</td>\n",
       "      <td>none</td>\n",
       "      <td>no</td>\n",
       "    </tr>\n",
       "  </tbody>\n",
       "</table>\n",
       "<p>5 rows × 21 columns</p>\n",
       "</div>"
      ],
      "text/plain": [
       "   Status     Account Balance  Duration of Credit (month)  \\\n",
       "0       1        account < 0                           18   \n",
       "1       1        account < 0                            9   \n",
       "2       1  0 <= account < 200                          12   \n",
       "3       1        account < 0                           12   \n",
       "4       1        account < 0                           12   \n",
       "\n",
       "  Payment Status of Previous Credit   Purpose  Credit Amount  \\\n",
       "0                  critical account  funiture           1049   \n",
       "1                  critical account   car-new           2799   \n",
       "2                  existing credits  business            841   \n",
       "3                  critical account   car-new           2122   \n",
       "4                  critical account   car-new           2171   \n",
       "\n",
       "    Value Savings/Stocks Length of current employment  Instalment per cent  \\\n",
       "0   100 <= savings < 500            employed < 1 year                    4   \n",
       "1  500 <= savings < 1000      1 <= employed < 4 years                    2   \n",
       "2        savings >= 1000      4 <= employed < 7 years                    2   \n",
       "3  500 <= savings < 1000      1 <= employed < 4 years                    3   \n",
       "4  500 <= savings < 1000      1 <= employed < 4 years                    4   \n",
       "\n",
       "      Sex & Marital Status      ...       Duration in Current address  \\\n",
       "0  female-divorced/married      ...                                 4   \n",
       "1              male-single      ...                                 2   \n",
       "2  female-divorced/married      ...                                 4   \n",
       "3              male-single      ...                                 2   \n",
       "4              male-single      ...                                 4   \n",
       "\n",
       "           Property Age (years)  Concurrent Credits Type of apartment  \\\n",
       "0  building society          21                none              rent   \n",
       "1       real estate          36                none              rent   \n",
       "2       real estate          23                none              rent   \n",
       "3       real estate          39                none              rent   \n",
       "4  building society          38                bank               own   \n",
       "\n",
       "  No of Credits at this Bank          Occupation No of dependents  Telephone  \\\n",
       "0                          1    skilled employee                1       none   \n",
       "1                          2    skilled employee                2       none   \n",
       "2                          1  unskilled-resident                1       none   \n",
       "3                          2  unskilled-resident                2       none   \n",
       "4                          2  unskilled-resident                1       none   \n",
       "\n",
       "  Foreign Worker  \n",
       "0            yes  \n",
       "1            yes  \n",
       "2            yes  \n",
       "3             no  \n",
       "4             no  \n",
       "\n",
       "[5 rows x 21 columns]"
      ]
     },
     "execution_count": 18,
     "metadata": {},
     "output_type": "execute_result"
    }
   ],
   "source": [
    "#import data\n",
    "datapilot = pd.read_csv('D:\\german_credit.csv',delimiter=',') \n",
    "\n",
    "#rename kolom Creditability jadi status\n",
    "datapilot=datapilot.rename(columns=({\"Creditability\":\"Status\"}))\n",
    "\n",
    "#menampilkan beberapa baris pertama datapilot\n",
    "datapilot.head()"
   ]
  },
  {
   "cell_type": "markdown",
   "metadata": {},
   "source": [
    "## Tahap 2: Melihat hubungan antara prediktor dengan variabel target"
   ]
  },
  {
   "cell_type": "code",
   "execution_count": 4,
   "metadata": {},
   "outputs": [
    {
     "data": {
      "text/html": [
       "<div>\n",
       "<style scoped>\n",
       "    .dataframe tbody tr th:only-of-type {\n",
       "        vertical-align: middle;\n",
       "    }\n",
       "\n",
       "    .dataframe tbody tr th {\n",
       "        vertical-align: top;\n",
       "    }\n",
       "\n",
       "    .dataframe thead th {\n",
       "        text-align: right;\n",
       "    }\n",
       "</style>\n",
       "<table border=\"1\" class=\"dataframe\">\n",
       "  <thead>\n",
       "    <tr style=\"text-align: right;\">\n",
       "      <th>Foreign Worker</th>\n",
       "      <th>no</th>\n",
       "      <th>yes</th>\n",
       "    </tr>\n",
       "    <tr>\n",
       "      <th>Status</th>\n",
       "      <th></th>\n",
       "      <th></th>\n",
       "    </tr>\n",
       "  </thead>\n",
       "  <tbody>\n",
       "    <tr>\n",
       "      <th>0</th>\n",
       "      <td>4</td>\n",
       "      <td>296</td>\n",
       "    </tr>\n",
       "    <tr>\n",
       "      <th>1</th>\n",
       "      <td>33</td>\n",
       "      <td>667</td>\n",
       "    </tr>\n",
       "  </tbody>\n",
       "</table>\n",
       "</div>"
      ],
      "text/plain": [
       "Foreign Worker  no  yes\n",
       "Status                 \n",
       "0                4  296\n",
       "1               33  667"
      ]
     },
     "execution_count": 4,
     "metadata": {},
     "output_type": "execute_result"
    }
   ],
   "source": [
    "#crosstab antara Jenis Kelamin dengan variabel Status\n",
    "pd.crosstab(datapilot['Status'],datapilot['Foreign Worker'])"
   ]
  },
  {
   "cell_type": "code",
   "execution_count": 16,
   "metadata": {},
   "outputs": [
    {
     "data": {
      "text/html": [
       "<div>\n",
       "<style scoped>\n",
       "    .dataframe tbody tr th:only-of-type {\n",
       "        vertical-align: middle;\n",
       "    }\n",
       "\n",
       "    .dataframe tbody tr th {\n",
       "        vertical-align: top;\n",
       "    }\n",
       "\n",
       "    .dataframe thead th {\n",
       "        text-align: right;\n",
       "    }\n",
       "</style>\n",
       "<table border=\"1\" class=\"dataframe\">\n",
       "  <thead>\n",
       "    <tr style=\"text-align: right;\">\n",
       "      <th>Foreign Worker</th>\n",
       "      <th>1</th>\n",
       "      <th>2</th>\n",
       "    </tr>\n",
       "    <tr>\n",
       "      <th>Status</th>\n",
       "      <th></th>\n",
       "      <th></th>\n",
       "    </tr>\n",
       "  </thead>\n",
       "  <tbody>\n",
       "    <tr>\n",
       "      <th>0</th>\n",
       "      <td>0.986667</td>\n",
       "      <td>0.013333</td>\n",
       "    </tr>\n",
       "    <tr>\n",
       "      <th>1</th>\n",
       "      <td>0.952857</td>\n",
       "      <td>0.047143</td>\n",
       "    </tr>\n",
       "  </tbody>\n",
       "</table>\n",
       "</div>"
      ],
      "text/plain": [
       "Foreign Worker         1         2\n",
       "Status                            \n",
       "0               0.986667  0.013333\n",
       "1               0.952857  0.047143"
      ]
     },
     "execution_count": 16,
     "metadata": {},
     "output_type": "execute_result"
    }
   ],
   "source": [
    "#crosstab antara Jenis Kelamin dengan variabel Tertarik  (persen baris)\n",
    "pd.crosstab(datapilot['Status'],datapilot['Foreign Worker'],normalize='index')"
   ]
  },
  {
   "cell_type": "code",
   "execution_count": 5,
   "metadata": {
    "scrolled": true
   },
   "outputs": [
    {
     "data": {
      "text/plain": [
       "Status                                int64\n",
       "Account Balance                      object\n",
       "Duration of Credit (month)            int64\n",
       "Payment Status of Previous Credit    object\n",
       "Purpose                              object\n",
       "Credit Amount                         int64\n",
       "Value Savings/Stocks                 object\n",
       "Length of current employment         object\n",
       "Instalment per cent                   int64\n",
       "Sex & Marital Status                 object\n",
       "Guarantors                           object\n",
       "Duration in Current address           int64\n",
       "Property                             object\n",
       "Age (years)                           int64\n",
       "Concurrent Credits                   object\n",
       "Type of apartment                    object\n",
       "No of Credits at this Bank            int64\n",
       "Occupation                           object\n",
       "No of dependents                      int64\n",
       "Telephone                            object\n",
       "Foreign Worker                       object\n",
       "dtype: object"
      ]
     },
     "execution_count": 5,
     "metadata": {},
     "output_type": "execute_result"
    }
   ],
   "source": [
    "datapilot.dtypes"
   ]
  },
  {
   "cell_type": "code",
   "execution_count": 20,
   "metadata": {},
   "outputs": [
    {
     "data": {
      "text/plain": [
       "Status                                                     int64\n",
       "Duration of Credit (month)                                 int64\n",
       "Credit Amount                                              int64\n",
       "Instalment per cent                                        int64\n",
       "Duration in Current address                                int64\n",
       "Age (years)                                                int64\n",
       "No of Credits at this Bank                                 int64\n",
       "No of dependents                                           int64\n",
       "Account Balance_0 <= account < 200                         uint8\n",
       "Account Balance_account < 0                                uint8\n",
       "Account Balance_account >= 200                             uint8\n",
       "Account Balance_no cheking account                         uint8\n",
       "Payment Status of Previous Credit_all credits paid back    uint8\n",
       "Payment Status of Previous Credit_critical account         uint8\n",
       "Payment Status of Previous Credit_delay paying in past     uint8\n",
       "Payment Status of Previous Credit_existing credits         uint8\n",
       "Payment Status of Previous Credit_no credits taken         uint8\n",
       "Purpose_business                                           uint8\n",
       "Purpose_car-new                                            uint8\n",
       "Purpose_car-used                                           uint8\n",
       "Purpose_domestic appliances                                uint8\n",
       "Purpose_education                                          uint8\n",
       "Purpose_funiture                                           uint8\n",
       "Purpose_others                                             uint8\n",
       "Purpose_radio/TV                                           uint8\n",
       "Purpose_repairs                                            uint8\n",
       "Purpose_retraining                                         uint8\n",
       "Value Savings/Stocks_100 <= savings < 500                  uint8\n",
       "Value Savings/Stocks_500 <= savings < 1000                 uint8\n",
       "Value Savings/Stocks_no savings                            uint8\n",
       "                                                           ...  \n",
       "Length of current employment_1 <= employed < 4 years       uint8\n",
       "Length of current employment_4 <= employed < 7 years       uint8\n",
       "Length of current employment_employed < 1 year             uint8\n",
       "Length of current employment_employed >= 7 years           uint8\n",
       "Length of current employment_unemployed                    uint8\n",
       "Sex & Marital Status_female-divorced/married               uint8\n",
       "Sex & Marital Status_male-divorced                         uint8\n",
       "Sex & Marital Status_male-married                          uint8\n",
       "Sex & Marital Status_male-single                           uint8\n",
       "Guarantors_co-applicant                                    uint8\n",
       "Guarantors_guarantor                                       uint8\n",
       "Guarantors_none                                            uint8\n",
       "Property_building society                                  uint8\n",
       "Property_car or other                                      uint8\n",
       "Property_no property                                       uint8\n",
       "Property_real estate                                       uint8\n",
       "Concurrent Credits_bank                                    uint8\n",
       "Concurrent Credits_none                                    uint8\n",
       "Concurrent Credits_stores                                  uint8\n",
       "Type of apartment_for free                                 uint8\n",
       "Type of apartment_own                                      uint8\n",
       "Type of apartment_rent                                     uint8\n",
       "Occupation_high qualified employee                         uint8\n",
       "Occupation_skilled employee                                uint8\n",
       "Occupation_unemployed                                      uint8\n",
       "Occupation_unskilled-resident                              uint8\n",
       "Telephone_none                                             uint8\n",
       "Telephone_yes                                              uint8\n",
       "Foreign Worker_no                                          uint8\n",
       "Foreign Worker_yes                                         uint8\n",
       "Length: 62, dtype: object"
      ]
     },
     "execution_count": 20,
     "metadata": {},
     "output_type": "execute_result"
    }
   ],
   "source": [
    "#membuat variabel dummy dari variabel yang memiliki type string\n",
    "datapilot = pd.get_dummies(datapilot, columns=['Payment Status of Previous Credit',\"Purpose\",\"Value Savings/Stocks\",\n",
    "                                               \"Length of current employment\",\"Sex & Marital Status\",\"Guarantors\",\n",
    "                                              \"Property\",\"Concurrent Credits\",\"Type of apartment\",\"Occupation\",\"Telephone\",\"Foreign Worker\"])\n",
    "\n",
    "#datapilot['dtempat']=datapilot['tempat tinggal'].astype('category').cat.codes\n",
    "datapilot.dtypes"
   ]
  },
  {
   "cell_type": "markdown",
   "metadata": {},
   "source": [
    "## Tahap 3: Membuat data training dan data testing"
   ]
  },
  {
   "cell_type": "code",
   "execution_count": 21,
   "metadata": {},
   "outputs": [
    {
     "data": {
      "text/html": [
       "<div>\n",
       "<style scoped>\n",
       "    .dataframe tbody tr th:only-of-type {\n",
       "        vertical-align: middle;\n",
       "    }\n",
       "\n",
       "    .dataframe tbody tr th {\n",
       "        vertical-align: top;\n",
       "    }\n",
       "\n",
       "    .dataframe thead th {\n",
       "        text-align: right;\n",
       "    }\n",
       "</style>\n",
       "<table border=\"1\" class=\"dataframe\">\n",
       "  <thead>\n",
       "    <tr style=\"text-align: right;\">\n",
       "      <th></th>\n",
       "      <th>Duration of Credit (month)</th>\n",
       "      <th>Credit Amount</th>\n",
       "      <th>Instalment per cent</th>\n",
       "      <th>Duration in Current address</th>\n",
       "      <th>Age (years)</th>\n",
       "      <th>No of Credits at this Bank</th>\n",
       "      <th>No of dependents</th>\n",
       "      <th>Account Balance_0 &lt;= account &lt; 200</th>\n",
       "      <th>Account Balance_account &lt; 0</th>\n",
       "      <th>Account Balance_account &gt;= 200</th>\n",
       "      <th>...</th>\n",
       "      <th>Type of apartment_own</th>\n",
       "      <th>Type of apartment_rent</th>\n",
       "      <th>Occupation_high qualified employee</th>\n",
       "      <th>Occupation_skilled employee</th>\n",
       "      <th>Occupation_unemployed</th>\n",
       "      <th>Occupation_unskilled-resident</th>\n",
       "      <th>Telephone_none</th>\n",
       "      <th>Telephone_yes</th>\n",
       "      <th>Foreign Worker_no</th>\n",
       "      <th>Foreign Worker_yes</th>\n",
       "    </tr>\n",
       "  </thead>\n",
       "  <tbody>\n",
       "    <tr>\n",
       "      <th>0</th>\n",
       "      <td>18</td>\n",
       "      <td>1049</td>\n",
       "      <td>4</td>\n",
       "      <td>4</td>\n",
       "      <td>21</td>\n",
       "      <td>1</td>\n",
       "      <td>1</td>\n",
       "      <td>0</td>\n",
       "      <td>1</td>\n",
       "      <td>0</td>\n",
       "      <td>...</td>\n",
       "      <td>0</td>\n",
       "      <td>1</td>\n",
       "      <td>0</td>\n",
       "      <td>1</td>\n",
       "      <td>0</td>\n",
       "      <td>0</td>\n",
       "      <td>1</td>\n",
       "      <td>0</td>\n",
       "      <td>0</td>\n",
       "      <td>1</td>\n",
       "    </tr>\n",
       "    <tr>\n",
       "      <th>1</th>\n",
       "      <td>9</td>\n",
       "      <td>2799</td>\n",
       "      <td>2</td>\n",
       "      <td>2</td>\n",
       "      <td>36</td>\n",
       "      <td>2</td>\n",
       "      <td>2</td>\n",
       "      <td>0</td>\n",
       "      <td>1</td>\n",
       "      <td>0</td>\n",
       "      <td>...</td>\n",
       "      <td>0</td>\n",
       "      <td>1</td>\n",
       "      <td>0</td>\n",
       "      <td>1</td>\n",
       "      <td>0</td>\n",
       "      <td>0</td>\n",
       "      <td>1</td>\n",
       "      <td>0</td>\n",
       "      <td>0</td>\n",
       "      <td>1</td>\n",
       "    </tr>\n",
       "    <tr>\n",
       "      <th>2</th>\n",
       "      <td>12</td>\n",
       "      <td>841</td>\n",
       "      <td>2</td>\n",
       "      <td>4</td>\n",
       "      <td>23</td>\n",
       "      <td>1</td>\n",
       "      <td>1</td>\n",
       "      <td>1</td>\n",
       "      <td>0</td>\n",
       "      <td>0</td>\n",
       "      <td>...</td>\n",
       "      <td>0</td>\n",
       "      <td>1</td>\n",
       "      <td>0</td>\n",
       "      <td>0</td>\n",
       "      <td>0</td>\n",
       "      <td>1</td>\n",
       "      <td>1</td>\n",
       "      <td>0</td>\n",
       "      <td>0</td>\n",
       "      <td>1</td>\n",
       "    </tr>\n",
       "    <tr>\n",
       "      <th>3</th>\n",
       "      <td>12</td>\n",
       "      <td>2122</td>\n",
       "      <td>3</td>\n",
       "      <td>2</td>\n",
       "      <td>39</td>\n",
       "      <td>2</td>\n",
       "      <td>2</td>\n",
       "      <td>0</td>\n",
       "      <td>1</td>\n",
       "      <td>0</td>\n",
       "      <td>...</td>\n",
       "      <td>0</td>\n",
       "      <td>1</td>\n",
       "      <td>0</td>\n",
       "      <td>0</td>\n",
       "      <td>0</td>\n",
       "      <td>1</td>\n",
       "      <td>1</td>\n",
       "      <td>0</td>\n",
       "      <td>1</td>\n",
       "      <td>0</td>\n",
       "    </tr>\n",
       "    <tr>\n",
       "      <th>4</th>\n",
       "      <td>12</td>\n",
       "      <td>2171</td>\n",
       "      <td>4</td>\n",
       "      <td>4</td>\n",
       "      <td>38</td>\n",
       "      <td>2</td>\n",
       "      <td>1</td>\n",
       "      <td>0</td>\n",
       "      <td>1</td>\n",
       "      <td>0</td>\n",
       "      <td>...</td>\n",
       "      <td>1</td>\n",
       "      <td>0</td>\n",
       "      <td>0</td>\n",
       "      <td>0</td>\n",
       "      <td>0</td>\n",
       "      <td>1</td>\n",
       "      <td>1</td>\n",
       "      <td>0</td>\n",
       "      <td>1</td>\n",
       "      <td>0</td>\n",
       "    </tr>\n",
       "  </tbody>\n",
       "</table>\n",
       "<p>5 rows × 61 columns</p>\n",
       "</div>"
      ],
      "text/plain": [
       "   Duration of Credit (month)  Credit Amount  Instalment per cent  \\\n",
       "0                          18           1049                    4   \n",
       "1                           9           2799                    2   \n",
       "2                          12            841                    2   \n",
       "3                          12           2122                    3   \n",
       "4                          12           2171                    4   \n",
       "\n",
       "   Duration in Current address  Age (years)  No of Credits at this Bank  \\\n",
       "0                            4           21                           1   \n",
       "1                            2           36                           2   \n",
       "2                            4           23                           1   \n",
       "3                            2           39                           2   \n",
       "4                            4           38                           2   \n",
       "\n",
       "   No of dependents  Account Balance_0 <= account < 200  \\\n",
       "0                 1                                   0   \n",
       "1                 2                                   0   \n",
       "2                 1                                   1   \n",
       "3                 2                                   0   \n",
       "4                 1                                   0   \n",
       "\n",
       "   Account Balance_account < 0   Account Balance_account >= 200  \\\n",
       "0                             1                               0   \n",
       "1                             1                               0   \n",
       "2                             0                               0   \n",
       "3                             1                               0   \n",
       "4                             1                               0   \n",
       "\n",
       "          ...          Type of apartment_own  Type of apartment_rent  \\\n",
       "0         ...                              0                       1   \n",
       "1         ...                              0                       1   \n",
       "2         ...                              0                       1   \n",
       "3         ...                              0                       1   \n",
       "4         ...                              1                       0   \n",
       "\n",
       "   Occupation_high qualified employee  Occupation_skilled employee  \\\n",
       "0                                   0                            1   \n",
       "1                                   0                            1   \n",
       "2                                   0                            0   \n",
       "3                                   0                            0   \n",
       "4                                   0                            0   \n",
       "\n",
       "   Occupation_unemployed  Occupation_unskilled-resident  Telephone_none  \\\n",
       "0                      0                              0               1   \n",
       "1                      0                              0               1   \n",
       "2                      0                              1               1   \n",
       "3                      0                              1               1   \n",
       "4                      0                              1               1   \n",
       "\n",
       "   Telephone_yes  Foreign Worker_no  Foreign Worker_yes  \n",
       "0              0                  0                   1  \n",
       "1              0                  0                   1  \n",
       "2              0                  0                   1  \n",
       "3              0                  1                   0  \n",
       "4              0                  1                   0  \n",
       "\n",
       "[5 rows x 61 columns]"
      ]
     },
     "execution_count": 21,
     "metadata": {},
     "output_type": "execute_result"
    }
   ],
   "source": [
    "\n",
    "#memisahkan data variabel X dan variabel Y\n",
    "x=datapilot.drop(\"Status\",axis=1)\n",
    "y=datapilot['Status']\n",
    "x.head()"
   ]
  },
  {
   "cell_type": "code",
   "execution_count": 22,
   "metadata": {},
   "outputs": [],
   "source": [
    "#membagi data menjadi gugus data training (70%) dan testing (30%) secara random\n",
    "from sklearn.model_selection import train_test_split\n",
    "x_train, x_test, y_train, y_test = train_test_split(x,y,test_size=0.3,random_state=101)"
   ]
  },
  {
   "cell_type": "markdown",
   "metadata": {},
   "source": [
    "## Tahap 4: Membuat pohon klasifikasi berdasarkan data training"
   ]
  },
  {
   "cell_type": "code",
   "execution_count": 64,
   "metadata": {},
   "outputs": [],
   "source": [
    "#pembuatan model berdasarkan data training\n",
    "from sklearn.tree import DecisionTreeClassifier\n",
    "pohon = DecisionTreeClassifier(min_samples_split=200, max_depth=5) #min split dan max depthnya tidak default"
   ]
  },
  {
   "cell_type": "code",
   "execution_count": 65,
   "metadata": {},
   "outputs": [
    {
     "data": {
      "text/plain": [
       "DecisionTreeClassifier(class_weight=None, criterion='gini', max_depth=5,\n",
       "            max_features=None, max_leaf_nodes=None,\n",
       "            min_impurity_decrease=0.0, min_impurity_split=None,\n",
       "            min_samples_leaf=1, min_samples_split=200,\n",
       "            min_weight_fraction_leaf=0.0, presort=False, random_state=None,\n",
       "            splitter='best')"
      ]
     },
     "execution_count": 65,
     "metadata": {},
     "output_type": "execute_result"
    }
   ],
   "source": [
    "#model data training\n",
    "pohon.fit(x_train,y_train)"
   ]
  },
  {
   "cell_type": "code",
   "execution_count": 25,
   "metadata": {},
   "outputs": [],
   "source": [
    "#import library untuk menggambar/visualisasi pohon klasifikasi\n",
    "from sklearn import tree\n",
    "from sklearn.tree import export_graphviz\n",
    "import graphviz\n"
   ]
  },
  {
   "cell_type": "code",
   "execution_count": 40,
   "metadata": {},
   "outputs": [
    {
     "data": {
      "text/plain": [
       "(Status                                                     int64\n",
       " Duration of Credit (month)                                 int64\n",
       " Credit Amount                                              int64\n",
       " Instalment per cent                                        int64\n",
       " Duration in Current address                                int64\n",
       " Age (years)                                                int64\n",
       " No of Credits at this Bank                                 int64\n",
       " No of dependents                                           int64\n",
       " Account Balance_0 <= account < 200                         uint8\n",
       " Account Balance_account < 0                                uint8\n",
       " Account Balance_account >= 200                             uint8\n",
       " Account Balance_no cheking account                         uint8\n",
       " Payment Status of Previous Credit_all credits paid back    uint8\n",
       " Payment Status of Previous Credit_critical account         uint8\n",
       " Payment Status of Previous Credit_delay paying in past     uint8\n",
       " Payment Status of Previous Credit_existing credits         uint8\n",
       " Payment Status of Previous Credit_no credits taken         uint8\n",
       " Purpose_business                                           uint8\n",
       " Purpose_car-new                                            uint8\n",
       " Purpose_car-used                                           uint8\n",
       " Purpose_domestic appliances                                uint8\n",
       " Purpose_education                                          uint8\n",
       " Purpose_funiture                                           uint8\n",
       " Purpose_others                                             uint8\n",
       " Purpose_radio/TV                                           uint8\n",
       " Purpose_repairs                                            uint8\n",
       " Purpose_retraining                                         uint8\n",
       " Value Savings/Stocks_100 <= savings < 500                  uint8\n",
       " Value Savings/Stocks_500 <= savings < 1000                 uint8\n",
       " Value Savings/Stocks_no savings                            uint8\n",
       "                                                            ...  \n",
       " Length of current employment_1 <= employed < 4 years       uint8\n",
       " Length of current employment_4 <= employed < 7 years       uint8\n",
       " Length of current employment_employed < 1 year             uint8\n",
       " Length of current employment_employed >= 7 years           uint8\n",
       " Length of current employment_unemployed                    uint8\n",
       " Sex & Marital Status_female-divorced/married               uint8\n",
       " Sex & Marital Status_male-divorced                         uint8\n",
       " Sex & Marital Status_male-married                          uint8\n",
       " Sex & Marital Status_male-single                           uint8\n",
       " Guarantors_co-applicant                                    uint8\n",
       " Guarantors_guarantor                                       uint8\n",
       " Guarantors_none                                            uint8\n",
       " Property_building society                                  uint8\n",
       " Property_car or other                                      uint8\n",
       " Property_no property                                       uint8\n",
       " Property_real estate                                       uint8\n",
       " Concurrent Credits_bank                                    uint8\n",
       " Concurrent Credits_none                                    uint8\n",
       " Concurrent Credits_stores                                  uint8\n",
       " Type of apartment_for free                                 uint8\n",
       " Type of apartment_own                                      uint8\n",
       " Type of apartment_rent                                     uint8\n",
       " Occupation_high qualified employee                         uint8\n",
       " Occupation_skilled employee                                uint8\n",
       " Occupation_unemployed                                      uint8\n",
       " Occupation_unskilled-resident                              uint8\n",
       " Telephone_none                                             uint8\n",
       " Telephone_yes                                              uint8\n",
       " Foreign Worker_no                                          uint8\n",
       " Foreign Worker_yes                                         uint8\n",
       " Length: 62, dtype: object, (700, 61))"
      ]
     },
     "execution_count": 40,
     "metadata": {},
     "output_type": "execute_result"
    }
   ],
   "source": [
    "#melihat type data dari masing-masing variabel\n",
    "datapilot.dtypes,x_train.shape"
   ]
  },
  {
   "cell_type": "code",
   "execution_count": 66,
   "metadata": {},
   "outputs": [
    {
     "data": {
      "text/plain": [
       "0    1\n",
       "1    1\n",
       "2    1\n",
       "3    1\n",
       "4    1\n",
       "Name: Status, dtype: object"
      ]
     },
     "execution_count": 66,
     "metadata": {},
     "output_type": "execute_result"
    }
   ],
   "source": [
    "#mengubah type data Int menjadi string\n",
    "y_baru=datapilot['Status'].apply(str)\n",
    "y_baru.head()"
   ]
  },
  {
   "cell_type": "code",
   "execution_count": 67,
   "metadata": {},
   "outputs": [
    {
     "data": {
      "text/plain": [
       "dtype('O')"
      ]
     },
     "execution_count": 67,
     "metadata": {},
     "output_type": "execute_result"
    }
   ],
   "source": [
    "#melihat type data dari sebuah variabel\n",
    "y_baru.dtypes\n"
   ]
  },
  {
   "cell_type": "code",
   "execution_count": 68,
   "metadata": {},
   "outputs": [
    {
     "data": {
      "text/plain": [
       "['Duration of Credit (month)',\n",
       " 'Credit Amount',\n",
       " 'Instalment per cent',\n",
       " 'Duration in Current address',\n",
       " 'Age (years)',\n",
       " 'No of Credits at this Bank',\n",
       " 'No of dependents',\n",
       " 'Account Balance_0 <= account < 200',\n",
       " 'Account Balance_account < 0 ',\n",
       " 'Account Balance_account >= 200',\n",
       " 'Account Balance_no cheking account',\n",
       " 'Payment Status of Previous Credit_all credits paid back',\n",
       " 'Payment Status of Previous Credit_critical account',\n",
       " 'Payment Status of Previous Credit_delay paying in past',\n",
       " 'Payment Status of Previous Credit_existing credits',\n",
       " 'Payment Status of Previous Credit_no credits taken',\n",
       " 'Purpose_business',\n",
       " 'Purpose_car-new',\n",
       " 'Purpose_car-used',\n",
       " 'Purpose_domestic appliances',\n",
       " 'Purpose_education',\n",
       " 'Purpose_funiture',\n",
       " 'Purpose_others',\n",
       " 'Purpose_radio/TV',\n",
       " 'Purpose_repairs',\n",
       " 'Purpose_retraining',\n",
       " 'Value Savings/Stocks_100 <= savings < 500',\n",
       " 'Value Savings/Stocks_500 <= savings < 1000',\n",
       " 'Value Savings/Stocks_no savings',\n",
       " 'Value Savings/Stocks_savings < 100',\n",
       " 'Value Savings/Stocks_savings >= 1000',\n",
       " 'Length of current employment_1 <= employed < 4 years',\n",
       " 'Length of current employment_4 <= employed < 7 years',\n",
       " 'Length of current employment_employed < 1 year',\n",
       " 'Length of current employment_employed >= 7 years',\n",
       " 'Length of current employment_unemployed',\n",
       " 'Sex & Marital Status_female-divorced/married',\n",
       " 'Sex & Marital Status_male-divorced',\n",
       " 'Sex & Marital Status_male-married',\n",
       " 'Sex & Marital Status_male-single',\n",
       " 'Guarantors_co-applicant',\n",
       " 'Guarantors_guarantor',\n",
       " 'Guarantors_none',\n",
       " 'Property_building society',\n",
       " 'Property_car or other',\n",
       " 'Property_no property',\n",
       " 'Property_real estate',\n",
       " 'Concurrent Credits_bank',\n",
       " 'Concurrent Credits_none',\n",
       " 'Concurrent Credits_stores',\n",
       " 'Type of apartment_for free',\n",
       " 'Type of apartment_own',\n",
       " 'Type of apartment_rent',\n",
       " 'Occupation_high qualified employee',\n",
       " 'Occupation_skilled employee',\n",
       " 'Occupation_unemployed',\n",
       " 'Occupation_unskilled-resident',\n",
       " 'Telephone_none',\n",
       " 'Telephone_yes',\n",
       " 'Foreign Worker_no',\n",
       " 'Foreign Worker_yes']"
      ]
     },
     "execution_count": 68,
     "metadata": {},
     "output_type": "execute_result"
    }
   ],
   "source": [
    "#setting features name yang akan digunakan pada pembuatan pohon klasifikasi\n",
    "fitur = list(datapilot.columns[1:62])\n",
    "#fitur = datapilot.drop(\"Status\",axis=1)\n",
    "fitur"
   ]
  },
  {
   "cell_type": "code",
   "execution_count": 124,
   "metadata": {},
   "outputs": [
    {
     "data": {
      "image/svg+xml": [
       "<?xml version=\"1.0\" encoding=\"UTF-8\" standalone=\"no\"?>\r\n",
       "<!DOCTYPE svg PUBLIC \"-//W3C//DTD SVG 1.1//EN\"\r\n",
       " \"http://www.w3.org/Graphics/SVG/1.1/DTD/svg11.dtd\">\r\n",
       "<!-- Generated by graphviz version 2.38.0 (20140413.2041)\r\n",
       " -->\r\n",
       "<!-- Title: Tree Pages: 1 -->\r\n",
       "<svg width=\"754pt\" height=\"552pt\"\r\n",
       " viewBox=\"0.00 0.00 753.50 552.00\" xmlns=\"http://www.w3.org/2000/svg\" xmlns:xlink=\"http://www.w3.org/1999/xlink\">\r\n",
       "<g id=\"graph0\" class=\"graph\" transform=\"scale(1 1) rotate(0) translate(4 548)\">\r\n",
       "<title>Tree</title>\r\n",
       "<polygon fill=\"white\" stroke=\"none\" points=\"-4,4 -4,-548 749.5,-548 749.5,4 -4,4\"/>\r\n",
       "<!-- 0 -->\r\n",
       "<g id=\"node1\" class=\"node\"><title>0</title>\r\n",
       "<path fill=\"#399de5\" fill-opacity=\"0.572549\" stroke=\"black\" d=\"M494.5,-544C494.5,-544 230.5,-544 230.5,-544 224.5,-544 218.5,-538 218.5,-532 218.5,-532 218.5,-473 218.5,-473 218.5,-467 224.5,-461 230.5,-461 230.5,-461 494.5,-461 494.5,-461 500.5,-461 506.5,-467 506.5,-473 506.5,-473 506.5,-532 506.5,-532 506.5,-538 500.5,-544 494.5,-544\"/>\r\n",
       "<text text-anchor=\"start\" x=\"226.5\" y=\"-528.8\" font-family=\"Helvetica,sans-Serif\" font-size=\"14.00\">Account Balance_no cheking account ≤ 0.5</text>\r\n",
       "<text text-anchor=\"start\" x=\"329\" y=\"-513.8\" font-family=\"Helvetica,sans-Serif\" font-size=\"14.00\">gini = 0.42</text>\r\n",
       "<text text-anchor=\"start\" x=\"315\" y=\"-498.8\" font-family=\"Helvetica,sans-Serif\" font-size=\"14.00\">samples = 700</text>\r\n",
       "<text text-anchor=\"start\" x=\"305.5\" y=\"-483.8\" font-family=\"Helvetica,sans-Serif\" font-size=\"14.00\">value = [210, 490]</text>\r\n",
       "<text text-anchor=\"start\" x=\"333.5\" y=\"-468.8\" font-family=\"Helvetica,sans-Serif\" font-size=\"14.00\">class = 0</text>\r\n",
       "</g>\r\n",
       "<!-- 1 -->\r\n",
       "<g id=\"node2\" class=\"node\"><title>1</title>\r\n",
       "<path fill=\"#399de5\" fill-opacity=\"0.317647\" stroke=\"black\" d=\"M356,-425C356,-425 157,-425 157,-425 151,-425 145,-419 145,-413 145,-413 145,-354 145,-354 145,-348 151,-342 157,-342 157,-342 356,-342 356,-342 362,-342 368,-348 368,-354 368,-354 368,-413 368,-413 368,-419 362,-425 356,-425\"/>\r\n",
       "<text text-anchor=\"start\" x=\"153\" y=\"-409.8\" font-family=\"Helvetica,sans-Serif\" font-size=\"14.00\">Duration of Credit (month) ≤ 11.5</text>\r\n",
       "<text text-anchor=\"start\" x=\"219\" y=\"-394.8\" font-family=\"Helvetica,sans-Serif\" font-size=\"14.00\">gini = 0.482</text>\r\n",
       "<text text-anchor=\"start\" x=\"209\" y=\"-379.8\" font-family=\"Helvetica,sans-Serif\" font-size=\"14.00\">samples = 424</text>\r\n",
       "<text text-anchor=\"start\" x=\"199.5\" y=\"-364.8\" font-family=\"Helvetica,sans-Serif\" font-size=\"14.00\">value = [172, 252]</text>\r\n",
       "<text text-anchor=\"start\" x=\"227.5\" y=\"-349.8\" font-family=\"Helvetica,sans-Serif\" font-size=\"14.00\">class = 0</text>\r\n",
       "</g>\r\n",
       "<!-- 0&#45;&gt;1 -->\r\n",
       "<g id=\"edge1\" class=\"edge\"><title>0&#45;&gt;1</title>\r\n",
       "<path fill=\"none\" stroke=\"black\" d=\"M325.724,-460.907C317.42,-451.742 308.528,-441.927 299.977,-432.489\"/>\r\n",
       "<polygon fill=\"black\" stroke=\"black\" points=\"302.519,-430.082 293.211,-425.021 297.331,-434.782 302.519,-430.082\"/>\r\n",
       "<text text-anchor=\"middle\" x=\"291.979\" y=\"-446.29\" font-family=\"Helvetica,sans-Serif\" font-size=\"14.00\">True</text>\r\n",
       "</g>\r\n",
       "<!-- 8 -->\r\n",
       "<g id=\"node9\" class=\"node\"><title>8</title>\r\n",
       "<path fill=\"#399de5\" fill-opacity=\"0.839216\" stroke=\"black\" d=\"M541,-425C541,-425 398,-425 398,-425 392,-425 386,-419 386,-413 386,-413 386,-354 386,-354 386,-348 392,-342 398,-342 398,-342 541,-342 541,-342 547,-342 553,-348 553,-354 553,-354 553,-413 553,-413 553,-419 547,-425 541,-425\"/>\r\n",
       "<text text-anchor=\"start\" x=\"394\" y=\"-409.8\" font-family=\"Helvetica,sans-Serif\" font-size=\"14.00\">Credit Amount ≤ 4458.5</text>\r\n",
       "<text text-anchor=\"start\" x=\"432\" y=\"-394.8\" font-family=\"Helvetica,sans-Serif\" font-size=\"14.00\">gini = 0.237</text>\r\n",
       "<text text-anchor=\"start\" x=\"422\" y=\"-379.8\" font-family=\"Helvetica,sans-Serif\" font-size=\"14.00\">samples = 276</text>\r\n",
       "<text text-anchor=\"start\" x=\"416.5\" y=\"-364.8\" font-family=\"Helvetica,sans-Serif\" font-size=\"14.00\">value = [38, 238]</text>\r\n",
       "<text text-anchor=\"start\" x=\"440.5\" y=\"-349.8\" font-family=\"Helvetica,sans-Serif\" font-size=\"14.00\">class = 0</text>\r\n",
       "</g>\r\n",
       "<!-- 0&#45;&gt;8 -->\r\n",
       "<g id=\"edge8\" class=\"edge\"><title>0&#45;&gt;8</title>\r\n",
       "<path fill=\"none\" stroke=\"black\" d=\"M399.623,-460.907C408.006,-451.742 416.982,-441.927 425.613,-432.489\"/>\r\n",
       "<polygon fill=\"black\" stroke=\"black\" points=\"428.277,-434.762 432.443,-425.021 423.111,-430.038 428.277,-434.762\"/>\r\n",
       "<text text-anchor=\"middle\" x=\"433.557\" y=\"-446.296\" font-family=\"Helvetica,sans-Serif\" font-size=\"14.00\">False</text>\r\n",
       "</g>\r\n",
       "<!-- 2 -->\r\n",
       "<g id=\"node3\" class=\"node\"><title>2</title>\r\n",
       "<path fill=\"#399de5\" fill-opacity=\"0.784314\" stroke=\"black\" d=\"M119,-298.5C119,-298.5 30,-298.5 30,-298.5 24,-298.5 18,-292.5 18,-286.5 18,-286.5 18,-242.5 18,-242.5 18,-236.5 24,-230.5 30,-230.5 30,-230.5 119,-230.5 119,-230.5 125,-230.5 131,-236.5 131,-242.5 131,-242.5 131,-286.5 131,-286.5 131,-292.5 125,-298.5 119,-298.5\"/>\r\n",
       "<text text-anchor=\"start\" x=\"37\" y=\"-283.3\" font-family=\"Helvetica,sans-Serif\" font-size=\"14.00\">gini = 0.293</text>\r\n",
       "<text text-anchor=\"start\" x=\"31\" y=\"-268.3\" font-family=\"Helvetica,sans-Serif\" font-size=\"14.00\">samples = 73</text>\r\n",
       "<text text-anchor=\"start\" x=\"26\" y=\"-253.3\" font-family=\"Helvetica,sans-Serif\" font-size=\"14.00\">value = [13, 60]</text>\r\n",
       "<text text-anchor=\"start\" x=\"45.5\" y=\"-238.3\" font-family=\"Helvetica,sans-Serif\" font-size=\"14.00\">class = 0</text>\r\n",
       "</g>\r\n",
       "<!-- 1&#45;&gt;2 -->\r\n",
       "<g id=\"edge2\" class=\"edge\"><title>1&#45;&gt;2</title>\r\n",
       "<path fill=\"none\" stroke=\"black\" d=\"M193.356,-341.907C174.303,-329.659 153.447,-316.252 134.598,-304.135\"/>\r\n",
       "<polygon fill=\"black\" stroke=\"black\" points=\"136.397,-301.13 126.093,-298.667 132.612,-307.019 136.397,-301.13\"/>\r\n",
       "</g>\r\n",
       "<!-- 3 -->\r\n",
       "<g id=\"node4\" class=\"node\"><title>3</title>\r\n",
       "<path fill=\"#399de5\" fill-opacity=\"0.172549\" stroke=\"black\" d=\"M360,-306C360,-306 161,-306 161,-306 155,-306 149,-300 149,-294 149,-294 149,-235 149,-235 149,-229 155,-223 161,-223 161,-223 360,-223 360,-223 366,-223 372,-229 372,-235 372,-235 372,-294 372,-294 372,-300 366,-306 360,-306\"/>\r\n",
       "<text text-anchor=\"start\" x=\"157\" y=\"-290.8\" font-family=\"Helvetica,sans-Serif\" font-size=\"14.00\">Duration of Credit (month) ≤ 27.5</text>\r\n",
       "<text text-anchor=\"start\" x=\"223\" y=\"-275.8\" font-family=\"Helvetica,sans-Serif\" font-size=\"14.00\">gini = 0.496</text>\r\n",
       "<text text-anchor=\"start\" x=\"213\" y=\"-260.8\" font-family=\"Helvetica,sans-Serif\" font-size=\"14.00\">samples = 351</text>\r\n",
       "<text text-anchor=\"start\" x=\"203.5\" y=\"-245.8\" font-family=\"Helvetica,sans-Serif\" font-size=\"14.00\">value = [159, 192]</text>\r\n",
       "<text text-anchor=\"start\" x=\"231.5\" y=\"-230.8\" font-family=\"Helvetica,sans-Serif\" font-size=\"14.00\">class = 0</text>\r\n",
       "</g>\r\n",
       "<!-- 1&#45;&gt;3 -->\r\n",
       "<g id=\"edge3\" class=\"edge\"><title>1&#45;&gt;3</title>\r\n",
       "<path fill=\"none\" stroke=\"black\" d=\"M257.888,-341.907C258.173,-333.558 258.477,-324.671 258.773,-316.02\"/>\r\n",
       "<polygon fill=\"black\" stroke=\"black\" points=\"262.271,-316.135 259.115,-306.021 255.275,-315.895 262.271,-316.135\"/>\r\n",
       "</g>\r\n",
       "<!-- 4 -->\r\n",
       "<g id=\"node5\" class=\"node\"><title>4</title>\r\n",
       "<path fill=\"#399de5\" fill-opacity=\"0.341176\" stroke=\"black\" d=\"M196,-187C196,-187 53,-187 53,-187 47,-187 41,-181 41,-175 41,-175 41,-116 41,-116 41,-110 47,-104 53,-104 53,-104 196,-104 196,-104 202,-104 208,-110 208,-116 208,-116 208,-175 208,-175 208,-181 202,-187 196,-187\"/>\r\n",
       "<text text-anchor=\"start\" x=\"49\" y=\"-171.8\" font-family=\"Helvetica,sans-Serif\" font-size=\"14.00\">Credit Amount ≤ 1285.5</text>\r\n",
       "<text text-anchor=\"start\" x=\"87\" y=\"-156.8\" font-family=\"Helvetica,sans-Serif\" font-size=\"14.00\">gini = 0.479</text>\r\n",
       "<text text-anchor=\"start\" x=\"77\" y=\"-141.8\" font-family=\"Helvetica,sans-Serif\" font-size=\"14.00\">samples = 247</text>\r\n",
       "<text text-anchor=\"start\" x=\"71.5\" y=\"-126.8\" font-family=\"Helvetica,sans-Serif\" font-size=\"14.00\">value = [98, 149]</text>\r\n",
       "<text text-anchor=\"start\" x=\"95.5\" y=\"-111.8\" font-family=\"Helvetica,sans-Serif\" font-size=\"14.00\">class = 0</text>\r\n",
       "</g>\r\n",
       "<!-- 3&#45;&gt;4 -->\r\n",
       "<g id=\"edge4\" class=\"edge\"><title>3&#45;&gt;4</title>\r\n",
       "<path fill=\"none\" stroke=\"black\" d=\"M213.315,-222.907C202.345,-213.469 190.574,-203.343 179.306,-193.649\"/>\r\n",
       "<polygon fill=\"black\" stroke=\"black\" points=\"181.464,-190.889 171.601,-187.021 176.899,-196.196 181.464,-190.889\"/>\r\n",
       "</g>\r\n",
       "<!-- 7 -->\r\n",
       "<g id=\"node8\" class=\"node\"><title>7</title>\r\n",
       "<path fill=\"#e58139\" fill-opacity=\"0.294118\" stroke=\"black\" d=\"M327,-179.5C327,-179.5 238,-179.5 238,-179.5 232,-179.5 226,-173.5 226,-167.5 226,-167.5 226,-123.5 226,-123.5 226,-117.5 232,-111.5 238,-111.5 238,-111.5 327,-111.5 327,-111.5 333,-111.5 339,-117.5 339,-123.5 339,-123.5 339,-167.5 339,-167.5 339,-173.5 333,-179.5 327,-179.5\"/>\r\n",
       "<text text-anchor=\"start\" x=\"245\" y=\"-164.3\" font-family=\"Helvetica,sans-Serif\" font-size=\"14.00\">gini = 0.485</text>\r\n",
       "<text text-anchor=\"start\" x=\"235\" y=\"-149.3\" font-family=\"Helvetica,sans-Serif\" font-size=\"14.00\">samples = 104</text>\r\n",
       "<text text-anchor=\"start\" x=\"234\" y=\"-134.3\" font-family=\"Helvetica,sans-Serif\" font-size=\"14.00\">value = [61, 43]</text>\r\n",
       "<text text-anchor=\"start\" x=\"253.5\" y=\"-119.3\" font-family=\"Helvetica,sans-Serif\" font-size=\"14.00\">class = 1</text>\r\n",
       "</g>\r\n",
       "<!-- 3&#45;&gt;7 -->\r\n",
       "<g id=\"edge7\" class=\"edge\"><title>3&#45;&gt;7</title>\r\n",
       "<path fill=\"none\" stroke=\"black\" d=\"M268.133,-222.907C270.145,-212.204 272.324,-200.615 274.363,-189.776\"/>\r\n",
       "<polygon fill=\"black\" stroke=\"black\" points=\"277.855,-190.142 276.263,-179.667 270.976,-188.848 277.855,-190.142\"/>\r\n",
       "</g>\r\n",
       "<!-- 5 -->\r\n",
       "<g id=\"node6\" class=\"node\"><title>5</title>\r\n",
       "<path fill=\"#e58139\" fill-opacity=\"0.388235\" stroke=\"black\" d=\"M101,-68C101,-68 12,-68 12,-68 6,-68 0,-62 0,-56 0,-56 0,-12 0,-12 0,-6 6,-0 12,-0 12,-0 101,-0 101,-0 107,-0 113,-6 113,-12 113,-12 113,-56 113,-56 113,-62 107,-68 101,-68\"/>\r\n",
       "<text text-anchor=\"start\" x=\"19\" y=\"-52.8\" font-family=\"Helvetica,sans-Serif\" font-size=\"14.00\">gini = 0.471</text>\r\n",
       "<text text-anchor=\"start\" x=\"13\" y=\"-37.8\" font-family=\"Helvetica,sans-Serif\" font-size=\"14.00\">samples = 58</text>\r\n",
       "<text text-anchor=\"start\" x=\"8\" y=\"-22.8\" font-family=\"Helvetica,sans-Serif\" font-size=\"14.00\">value = [36, 22]</text>\r\n",
       "<text text-anchor=\"start\" x=\"27.5\" y=\"-7.8\" font-family=\"Helvetica,sans-Serif\" font-size=\"14.00\">class = 1</text>\r\n",
       "</g>\r\n",
       "<!-- 4&#45;&gt;5 -->\r\n",
       "<g id=\"edge5\" class=\"edge\"><title>4&#45;&gt;5</title>\r\n",
       "<path fill=\"none\" stroke=\"black\" d=\"M99.1793,-103.726C93.7418,-94.9703 87.9869,-85.7032 82.5232,-76.9051\"/>\r\n",
       "<polygon fill=\"black\" stroke=\"black\" points=\"85.4281,-74.9484 77.1792,-68.2996 79.4815,-78.6413 85.4281,-74.9484\"/>\r\n",
       "</g>\r\n",
       "<!-- 6 -->\r\n",
       "<g id=\"node7\" class=\"node\"><title>6</title>\r\n",
       "<path fill=\"#399de5\" fill-opacity=\"0.513725\" stroke=\"black\" d=\"M241.5,-68C241.5,-68 143.5,-68 143.5,-68 137.5,-68 131.5,-62 131.5,-56 131.5,-56 131.5,-12 131.5,-12 131.5,-6 137.5,-0 143.5,-0 143.5,-0 241.5,-0 241.5,-0 247.5,-0 253.5,-6 253.5,-12 253.5,-12 253.5,-56 253.5,-56 253.5,-62 247.5,-68 241.5,-68\"/>\r\n",
       "<text text-anchor=\"start\" x=\"155\" y=\"-52.8\" font-family=\"Helvetica,sans-Serif\" font-size=\"14.00\">gini = 0.441</text>\r\n",
       "<text text-anchor=\"start\" x=\"145\" y=\"-37.8\" font-family=\"Helvetica,sans-Serif\" font-size=\"14.00\">samples = 189</text>\r\n",
       "<text text-anchor=\"start\" x=\"139.5\" y=\"-22.8\" font-family=\"Helvetica,sans-Serif\" font-size=\"14.00\">value = [62, 127]</text>\r\n",
       "<text text-anchor=\"start\" x=\"163.5\" y=\"-7.8\" font-family=\"Helvetica,sans-Serif\" font-size=\"14.00\">class = 0</text>\r\n",
       "</g>\r\n",
       "<!-- 4&#45;&gt;6 -->\r\n",
       "<g id=\"edge6\" class=\"edge\"><title>4&#45;&gt;6</title>\r\n",
       "<path fill=\"none\" stroke=\"black\" d=\"M149.821,-103.726C155.258,-94.9703 161.013,-85.7032 166.477,-76.9051\"/>\r\n",
       "<polygon fill=\"black\" stroke=\"black\" points=\"169.519,-78.6413 171.821,-68.2996 163.572,-74.9484 169.519,-78.6413\"/>\r\n",
       "</g>\r\n",
       "<!-- 9 -->\r\n",
       "<g id=\"node10\" class=\"node\"><title>9</title>\r\n",
       "<path fill=\"#399de5\" fill-opacity=\"0.890196\" stroke=\"black\" d=\"M520.5,-306C520.5,-306 410.5,-306 410.5,-306 404.5,-306 398.5,-300 398.5,-294 398.5,-294 398.5,-235 398.5,-235 398.5,-229 404.5,-223 410.5,-223 410.5,-223 520.5,-223 520.5,-223 526.5,-223 532.5,-229 532.5,-235 532.5,-235 532.5,-294 532.5,-294 532.5,-300 526.5,-306 520.5,-306\"/>\r\n",
       "<text text-anchor=\"start\" x=\"406.5\" y=\"-290.8\" font-family=\"Helvetica,sans-Serif\" font-size=\"14.00\">Age (years) ≤ 22.5</text>\r\n",
       "<text text-anchor=\"start\" x=\"428\" y=\"-275.8\" font-family=\"Helvetica,sans-Serif\" font-size=\"14.00\">gini = 0.176</text>\r\n",
       "<text text-anchor=\"start\" x=\"418\" y=\"-260.8\" font-family=\"Helvetica,sans-Serif\" font-size=\"14.00\">samples = 215</text>\r\n",
       "<text text-anchor=\"start\" x=\"412.5\" y=\"-245.8\" font-family=\"Helvetica,sans-Serif\" font-size=\"14.00\">value = [21, 194]</text>\r\n",
       "<text text-anchor=\"start\" x=\"436.5\" y=\"-230.8\" font-family=\"Helvetica,sans-Serif\" font-size=\"14.00\">class = 0</text>\r\n",
       "</g>\r\n",
       "<!-- 8&#45;&gt;9 -->\r\n",
       "<g id=\"edge9\" class=\"edge\"><title>8&#45;&gt;9</title>\r\n",
       "<path fill=\"none\" stroke=\"black\" d=\"M468.112,-341.907C467.827,-333.558 467.523,-324.671 467.227,-316.02\"/>\r\n",
       "<polygon fill=\"black\" stroke=\"black\" points=\"470.725,-315.895 466.885,-306.021 463.729,-316.135 470.725,-315.895\"/>\r\n",
       "</g>\r\n",
       "<!-- 14 -->\r\n",
       "<g id=\"node15\" class=\"node\"><title>14</title>\r\n",
       "<path fill=\"#399de5\" fill-opacity=\"0.611765\" stroke=\"black\" d=\"M652,-298.5C652,-298.5 563,-298.5 563,-298.5 557,-298.5 551,-292.5 551,-286.5 551,-286.5 551,-242.5 551,-242.5 551,-236.5 557,-230.5 563,-230.5 563,-230.5 652,-230.5 652,-230.5 658,-230.5 664,-236.5 664,-242.5 664,-242.5 664,-286.5 664,-286.5 664,-292.5 658,-298.5 652,-298.5\"/>\r\n",
       "<text text-anchor=\"start\" x=\"570\" y=\"-283.3\" font-family=\"Helvetica,sans-Serif\" font-size=\"14.00\">gini = 0.402</text>\r\n",
       "<text text-anchor=\"start\" x=\"564\" y=\"-268.3\" font-family=\"Helvetica,sans-Serif\" font-size=\"14.00\">samples = 61</text>\r\n",
       "<text text-anchor=\"start\" x=\"559\" y=\"-253.3\" font-family=\"Helvetica,sans-Serif\" font-size=\"14.00\">value = [17, 44]</text>\r\n",
       "<text text-anchor=\"start\" x=\"578.5\" y=\"-238.3\" font-family=\"Helvetica,sans-Serif\" font-size=\"14.00\">class = 0</text>\r\n",
       "</g>\r\n",
       "<!-- 8&#45;&gt;14 -->\r\n",
       "<g id=\"edge14\" class=\"edge\"><title>8&#45;&gt;14</title>\r\n",
       "<path fill=\"none\" stroke=\"black\" d=\"M517.378,-341.907C531.305,-330.101 546.501,-317.217 560.38,-305.45\"/>\r\n",
       "<polygon fill=\"black\" stroke=\"black\" points=\"563.016,-307.803 568.38,-298.667 558.489,-302.464 563.016,-307.803\"/>\r\n",
       "</g>\r\n",
       "<!-- 10 -->\r\n",
       "<g id=\"node11\" class=\"node\"><title>10</title>\r\n",
       "<path fill=\"#399de5\" fill-opacity=\"0.333333\" stroke=\"black\" d=\"M483,-179.5C483,-179.5 404,-179.5 404,-179.5 398,-179.5 392,-173.5 392,-167.5 392,-167.5 392,-123.5 392,-123.5 392,-117.5 398,-111.5 404,-111.5 404,-111.5 483,-111.5 483,-111.5 489,-111.5 495,-117.5 495,-123.5 495,-123.5 495,-167.5 495,-167.5 495,-173.5 489,-179.5 483,-179.5\"/>\r\n",
       "<text text-anchor=\"start\" x=\"410\" y=\"-164.3\" font-family=\"Helvetica,sans-Serif\" font-size=\"14.00\">gini = 0.48</text>\r\n",
       "<text text-anchor=\"start\" x=\"400\" y=\"-149.3\" font-family=\"Helvetica,sans-Serif\" font-size=\"14.00\">samples = 10</text>\r\n",
       "<text text-anchor=\"start\" x=\"403\" y=\"-134.3\" font-family=\"Helvetica,sans-Serif\" font-size=\"14.00\">value = [4, 6]</text>\r\n",
       "<text text-anchor=\"start\" x=\"414.5\" y=\"-119.3\" font-family=\"Helvetica,sans-Serif\" font-size=\"14.00\">class = 0</text>\r\n",
       "</g>\r\n",
       "<!-- 9&#45;&gt;10 -->\r\n",
       "<g id=\"edge10\" class=\"edge\"><title>9&#45;&gt;10</title>\r\n",
       "<path fill=\"none\" stroke=\"black\" d=\"M457.867,-222.907C455.855,-212.204 453.676,-200.615 451.637,-189.776\"/>\r\n",
       "<polygon fill=\"black\" stroke=\"black\" points=\"455.024,-188.848 449.737,-179.667 448.145,-190.142 455.024,-188.848\"/>\r\n",
       "</g>\r\n",
       "<!-- 11 -->\r\n",
       "<g id=\"node12\" class=\"node\"><title>11</title>\r\n",
       "<path fill=\"#399de5\" fill-opacity=\"0.909804\" stroke=\"black\" d=\"M712,-187C712,-187 525,-187 525,-187 519,-187 513,-181 513,-175 513,-175 513,-116 513,-116 513,-110 519,-104 525,-104 525,-104 712,-104 712,-104 718,-104 724,-110 724,-116 724,-116 724,-175 724,-175 724,-181 718,-187 712,-187\"/>\r\n",
       "<text text-anchor=\"start\" x=\"521\" y=\"-171.8\" font-family=\"Helvetica,sans-Serif\" font-size=\"14.00\">Concurrent Credits_none ≤ 0.5</text>\r\n",
       "<text text-anchor=\"start\" x=\"581\" y=\"-156.8\" font-family=\"Helvetica,sans-Serif\" font-size=\"14.00\">gini = 0.152</text>\r\n",
       "<text text-anchor=\"start\" x=\"571\" y=\"-141.8\" font-family=\"Helvetica,sans-Serif\" font-size=\"14.00\">samples = 205</text>\r\n",
       "<text text-anchor=\"start\" x=\"565.5\" y=\"-126.8\" font-family=\"Helvetica,sans-Serif\" font-size=\"14.00\">value = [17, 188]</text>\r\n",
       "<text text-anchor=\"start\" x=\"589.5\" y=\"-111.8\" font-family=\"Helvetica,sans-Serif\" font-size=\"14.00\">class = 0</text>\r\n",
       "</g>\r\n",
       "<!-- 9&#45;&gt;11 -->\r\n",
       "<g id=\"edge11\" class=\"edge\"><title>9&#45;&gt;11</title>\r\n",
       "<path fill=\"none\" stroke=\"black\" d=\"M518.583,-222.907C531.043,-213.379 544.422,-203.148 557.209,-193.37\"/>\r\n",
       "<polygon fill=\"black\" stroke=\"black\" points=\"559.694,-195.876 565.511,-187.021 555.442,-190.315 559.694,-195.876\"/>\r\n",
       "</g>\r\n",
       "<!-- 12 -->\r\n",
       "<g id=\"node13\" class=\"node\"><title>12</title>\r\n",
       "<path fill=\"#399de5\" fill-opacity=\"0.713725\" stroke=\"black\" d=\"M593,-68C593,-68 512,-68 512,-68 506,-68 500,-62 500,-56 500,-56 500,-12 500,-12 500,-6 506,-0 512,-0 512,-0 593,-0 593,-0 599,-0 605,-6 605,-12 605,-12 605,-56 605,-56 605,-62 599,-68 593,-68\"/>\r\n",
       "<text text-anchor=\"start\" x=\"515\" y=\"-52.8\" font-family=\"Helvetica,sans-Serif\" font-size=\"14.00\">gini = 0.346</text>\r\n",
       "<text text-anchor=\"start\" x=\"509\" y=\"-37.8\" font-family=\"Helvetica,sans-Serif\" font-size=\"14.00\">samples = 27</text>\r\n",
       "<text text-anchor=\"start\" x=\"508\" y=\"-22.8\" font-family=\"Helvetica,sans-Serif\" font-size=\"14.00\">value = [6, 21]</text>\r\n",
       "<text text-anchor=\"start\" x=\"523.5\" y=\"-7.8\" font-family=\"Helvetica,sans-Serif\" font-size=\"14.00\">class = 0</text>\r\n",
       "</g>\r\n",
       "<!-- 11&#45;&gt;12 -->\r\n",
       "<g id=\"edge12\" class=\"edge\"><title>11&#45;&gt;12</title>\r\n",
       "<path fill=\"none\" stroke=\"black\" d=\"M593.924,-103.726C588.646,-94.9703 583.061,-85.7032 577.758,-76.9051\"/>\r\n",
       "<polygon fill=\"black\" stroke=\"black\" points=\"580.731,-75.0574 572.571,-68.2996 574.736,-78.671 580.731,-75.0574\"/>\r\n",
       "</g>\r\n",
       "<!-- 13 -->\r\n",
       "<g id=\"node14\" class=\"node\"><title>13</title>\r\n",
       "<path fill=\"#399de5\" fill-opacity=\"0.933333\" stroke=\"black\" d=\"M733.5,-68C733.5,-68 635.5,-68 635.5,-68 629.5,-68 623.5,-62 623.5,-56 623.5,-56 623.5,-12 623.5,-12 623.5,-6 629.5,-0 635.5,-0 635.5,-0 733.5,-0 733.5,-0 739.5,-0 745.5,-6 745.5,-12 745.5,-12 745.5,-56 745.5,-56 745.5,-62 739.5,-68 733.5,-68\"/>\r\n",
       "<text text-anchor=\"start\" x=\"647\" y=\"-52.8\" font-family=\"Helvetica,sans-Serif\" font-size=\"14.00\">gini = 0.116</text>\r\n",
       "<text text-anchor=\"start\" x=\"637\" y=\"-37.8\" font-family=\"Helvetica,sans-Serif\" font-size=\"14.00\">samples = 178</text>\r\n",
       "<text text-anchor=\"start\" x=\"631.5\" y=\"-22.8\" font-family=\"Helvetica,sans-Serif\" font-size=\"14.00\">value = [11, 167]</text>\r\n",
       "<text text-anchor=\"start\" x=\"655.5\" y=\"-7.8\" font-family=\"Helvetica,sans-Serif\" font-size=\"14.00\">class = 0</text>\r\n",
       "</g>\r\n",
       "<!-- 11&#45;&gt;13 -->\r\n",
       "<g id=\"edge13\" class=\"edge\"><title>11&#45;&gt;13</title>\r\n",
       "<path fill=\"none\" stroke=\"black\" d=\"M643.076,-103.726C648.354,-94.9703 653.939,-85.7032 659.242,-76.9051\"/>\r\n",
       "<polygon fill=\"black\" stroke=\"black\" points=\"662.264,-78.671 664.429,-68.2996 656.269,-75.0574 662.264,-78.671\"/>\r\n",
       "</g>\r\n",
       "</g>\r\n",
       "</svg>\r\n"
      ],
      "text/plain": [
       "<graphviz.files.Source at 0x2691b82a898>"
      ]
     },
     "execution_count": 124,
     "metadata": {},
     "output_type": "execute_result"
    }
   ],
   "source": [
    "#membuat tampilan pohon klasifikasi\n",
    "dot_data = tree.export_graphviz(pohon.fit(x_train,y_train),\n",
    "                               feature_names=fitur,\n",
    "                               class_names=y_baru.unique(),\n",
    "                               filled=True, rounded=True,\n",
    "                               special_characters=True,\n",
    "                               out_file=None)\n",
    "grafik=graphviz.Source(dot_data)\n",
    "grafik"
   ]
  },
  {
   "cell_type": "markdown",
   "metadata": {},
   "source": [
    "\n",
    "## Tahap 5: Evaluasi model"
   ]
  },
  {
   "cell_type": "code",
   "execution_count": 79,
   "metadata": {},
   "outputs": [
    {
     "data": {
      "text/html": [
       "<div>\n",
       "<style scoped>\n",
       "    .dataframe tbody tr th:only-of-type {\n",
       "        vertical-align: middle;\n",
       "    }\n",
       "\n",
       "    .dataframe tbody tr th {\n",
       "        vertical-align: top;\n",
       "    }\n",
       "\n",
       "    .dataframe thead th {\n",
       "        text-align: right;\n",
       "    }\n",
       "</style>\n",
       "<table border=\"1\" class=\"dataframe\">\n",
       "  <thead>\n",
       "    <tr style=\"text-align: right;\">\n",
       "      <th></th>\n",
       "      <th>Account Balance</th>\n",
       "      <th>Duration of Credit (month)</th>\n",
       "      <th>Payment Status of Previous Credit</th>\n",
       "      <th>Purpose</th>\n",
       "      <th>Credit Amount</th>\n",
       "      <th>Value Savings/Stocks</th>\n",
       "      <th>Length of current employment</th>\n",
       "      <th>Instalment per cent</th>\n",
       "      <th>Sex &amp; Marital Status</th>\n",
       "      <th>Guarantors</th>\n",
       "      <th>Duration in Current address</th>\n",
       "      <th>Most valuable available asset</th>\n",
       "      <th>Age (years)</th>\n",
       "      <th>Concurrent Credits</th>\n",
       "      <th>Type of apartment</th>\n",
       "      <th>No of Credits at this Bank</th>\n",
       "      <th>Occupation</th>\n",
       "      <th>No of dependents</th>\n",
       "      <th>Telephone</th>\n",
       "      <th>Foreign Worker</th>\n",
       "    </tr>\n",
       "  </thead>\n",
       "  <tbody>\n",
       "    <tr>\n",
       "      <th>290</th>\n",
       "      <td>4</td>\n",
       "      <td>12</td>\n",
       "      <td>4</td>\n",
       "      <td>6</td>\n",
       "      <td>3565</td>\n",
       "      <td>5</td>\n",
       "      <td>2</td>\n",
       "      <td>2</td>\n",
       "      <td>3</td>\n",
       "      <td>1</td>\n",
       "      <td>1</td>\n",
       "      <td>2</td>\n",
       "      <td>37</td>\n",
       "      <td>3</td>\n",
       "      <td>2</td>\n",
       "      <td>2</td>\n",
       "      <td>2</td>\n",
       "      <td>2</td>\n",
       "      <td>1</td>\n",
       "      <td>1</td>\n",
       "    </tr>\n",
       "    <tr>\n",
       "      <th>167</th>\n",
       "      <td>4</td>\n",
       "      <td>24</td>\n",
       "      <td>4</td>\n",
       "      <td>9</td>\n",
       "      <td>4526</td>\n",
       "      <td>1</td>\n",
       "      <td>3</td>\n",
       "      <td>3</td>\n",
       "      <td>3</td>\n",
       "      <td>1</td>\n",
       "      <td>2</td>\n",
       "      <td>1</td>\n",
       "      <td>74</td>\n",
       "      <td>3</td>\n",
       "      <td>2</td>\n",
       "      <td>1</td>\n",
       "      <td>4</td>\n",
       "      <td>1</td>\n",
       "      <td>2</td>\n",
       "      <td>1</td>\n",
       "    </tr>\n",
       "    <tr>\n",
       "      <th>486</th>\n",
       "      <td>4</td>\n",
       "      <td>18</td>\n",
       "      <td>4</td>\n",
       "      <td>2</td>\n",
       "      <td>3780</td>\n",
       "      <td>1</td>\n",
       "      <td>2</td>\n",
       "      <td>3</td>\n",
       "      <td>1</td>\n",
       "      <td>1</td>\n",
       "      <td>2</td>\n",
       "      <td>3</td>\n",
       "      <td>35</td>\n",
       "      <td>3</td>\n",
       "      <td>2</td>\n",
       "      <td>2</td>\n",
       "      <td>4</td>\n",
       "      <td>1</td>\n",
       "      <td>2</td>\n",
       "      <td>1</td>\n",
       "    </tr>\n",
       "    <tr>\n",
       "      <th>683</th>\n",
       "      <td>2</td>\n",
       "      <td>15</td>\n",
       "      <td>4</td>\n",
       "      <td>3</td>\n",
       "      <td>1537</td>\n",
       "      <td>5</td>\n",
       "      <td>5</td>\n",
       "      <td>4</td>\n",
       "      <td>3</td>\n",
       "      <td>3</td>\n",
       "      <td>4</td>\n",
       "      <td>1</td>\n",
       "      <td>50</td>\n",
       "      <td>3</td>\n",
       "      <td>2</td>\n",
       "      <td>2</td>\n",
       "      <td>3</td>\n",
       "      <td>1</td>\n",
       "      <td>2</td>\n",
       "      <td>1</td>\n",
       "    </tr>\n",
       "    <tr>\n",
       "      <th>876</th>\n",
       "      <td>2</td>\n",
       "      <td>30</td>\n",
       "      <td>4</td>\n",
       "      <td>0</td>\n",
       "      <td>5234</td>\n",
       "      <td>1</td>\n",
       "      <td>1</td>\n",
       "      <td>4</td>\n",
       "      <td>4</td>\n",
       "      <td>1</td>\n",
       "      <td>2</td>\n",
       "      <td>3</td>\n",
       "      <td>28</td>\n",
       "      <td>3</td>\n",
       "      <td>2</td>\n",
       "      <td>2</td>\n",
       "      <td>4</td>\n",
       "      <td>1</td>\n",
       "      <td>1</td>\n",
       "      <td>1</td>\n",
       "    </tr>\n",
       "  </tbody>\n",
       "</table>\n",
       "</div>"
      ],
      "text/plain": [
       "     Account Balance  Duration of Credit (month)  \\\n",
       "290                4                          12   \n",
       "167                4                          24   \n",
       "486                4                          18   \n",
       "683                2                          15   \n",
       "876                2                          30   \n",
       "\n",
       "     Payment Status of Previous Credit  Purpose  Credit Amount  \\\n",
       "290                                  4        6           3565   \n",
       "167                                  4        9           4526   \n",
       "486                                  4        2           3780   \n",
       "683                                  4        3           1537   \n",
       "876                                  4        0           5234   \n",
       "\n",
       "     Value Savings/Stocks  Length of current employment  Instalment per cent  \\\n",
       "290                     5                             2                    2   \n",
       "167                     1                             3                    3   \n",
       "486                     1                             2                    3   \n",
       "683                     5                             5                    4   \n",
       "876                     1                             1                    4   \n",
       "\n",
       "     Sex & Marital Status  Guarantors  Duration in Current address  \\\n",
       "290                     3           1                            1   \n",
       "167                     3           1                            2   \n",
       "486                     1           1                            2   \n",
       "683                     3           3                            4   \n",
       "876                     4           1                            2   \n",
       "\n",
       "     Most valuable available asset  Age (years)  Concurrent Credits  \\\n",
       "290                              2           37                   3   \n",
       "167                              1           74                   3   \n",
       "486                              3           35                   3   \n",
       "683                              1           50                   3   \n",
       "876                              3           28                   3   \n",
       "\n",
       "     Type of apartment  No of Credits at this Bank  Occupation  \\\n",
       "290                  2                           2           2   \n",
       "167                  2                           1           4   \n",
       "486                  2                           2           4   \n",
       "683                  2                           2           3   \n",
       "876                  2                           2           4   \n",
       "\n",
       "     No of dependents  Telephone  Foreign Worker  \n",
       "290                 2          1               1  \n",
       "167                 1          2               1  \n",
       "486                 1          2               1  \n",
       "683                 1          2               1  \n",
       "876                 1          1               1  "
      ]
     },
     "execution_count": 79,
     "metadata": {},
     "output_type": "execute_result"
    }
   ],
   "source": [
    "x_train.head()"
   ]
  },
  {
   "cell_type": "code",
   "execution_count": 69,
   "metadata": {},
   "outputs": [],
   "source": [
    "prediksi=pohon.predict(x_train)"
   ]
  },
  {
   "cell_type": "code",
   "execution_count": 70,
   "metadata": {},
   "outputs": [
    {
     "name": "stdout",
     "output_type": "stream",
     "text": [
      "Accuracy: 0.7457142857142857\n",
      "Precision: 0.7899628252788105\n",
      "Recall: 0.8673469387755102\n",
      "Specificity: 0.8673469387755102\n"
     ]
    }
   ],
   "source": [
    "#melihat nilai akurasi, presisi, sensitifiti dan Specificity data training\n",
    "from sklearn import metrics\n",
    "print(\"Accuracy:\",metrics.accuracy_score(y_train, prediksi))\n",
    "print(\"Precision:\",metrics.precision_score(y_train, prediksi))\n",
    "print(\"Recall:\",metrics.recall_score(y_train, prediksi))\n",
    "print(\"Specificity:\",metrics.recall_score(y_train, prediksi))"
   ]
  },
  {
   "cell_type": "markdown",
   "metadata": {},
   "source": [
    "### Tugas 1: "
   ]
  },
  {
   "cell_type": "markdown",
   "metadata": {},
   "source": [
    "1. Hitunglah akurasi, presisi, dan recall dari forest yang sudah diperoleh, menggunakan data testing."
   ]
  },
  {
   "cell_type": "code",
   "execution_count": 71,
   "metadata": {},
   "outputs": [],
   "source": [
    "## Tugas\n",
    "#prediksi data testing\n",
    "prediksi=pohon.predict(x_test)"
   ]
  },
  {
   "cell_type": "code",
   "execution_count": 72,
   "metadata": {},
   "outputs": [
    {
     "name": "stdout",
     "output_type": "stream",
     "text": [
      "Accuracy: 0.7233333333333334\n",
      "Precision: 0.777292576419214\n",
      "Recall: 0.8476190476190476\n",
      "Specificity: 0.8476190476190476\n"
     ]
    }
   ],
   "source": [
    "#melihat nilai akurasi, presisi, sensitifiti dan Specificity data training\n",
    "from sklearn import metrics\n",
    "print(\"Accuracy:\",metrics.accuracy_score(y_test, prediksi))\n",
    "print(\"Precision:\",metrics.precision_score(y_test, prediksi))\n",
    "print(\"Recall:\",metrics.recall_score(y_test, prediksi))\n",
    "print(\"Specificity:\",metrics.recall_score(y_test, prediksi))"
   ]
  },
  {
   "cell_type": "markdown",
   "metadata": {},
   "source": [
    "# Random Forests\n",
    "\n",
    "Mari kita bandingkan antara decission tree dengan random forest."
   ]
  },
  {
   "cell_type": "markdown",
   "metadata": {},
   "source": [
    "## Tahap 1: Membuat model random forest"
   ]
  },
  {
   "cell_type": "code",
   "execution_count": 49,
   "metadata": {},
   "outputs": [
    {
     "name": "stderr",
     "output_type": "stream",
     "text": [
      "C:\\Users\\bagusco\\Anaconda3\\lib\\site-packages\\sklearn\\ensemble\\weight_boosting.py:29: DeprecationWarning: numpy.core.umath_tests is an internal NumPy module and should not be imported. It will be removed in a future NumPy release.\n",
      "  from numpy.core.umath_tests import inner1d\n"
     ]
    }
   ],
   "source": [
    "from sklearn.ensemble import RandomForestClassifier"
   ]
  },
  {
   "cell_type": "code",
   "execution_count": 73,
   "metadata": {},
   "outputs": [
    {
     "data": {
      "text/plain": [
       "RandomForestClassifier(bootstrap=True, class_weight=None, criterion='gini',\n",
       "            max_depth=None, max_features='auto', max_leaf_nodes=None,\n",
       "            min_impurity_decrease=0.0, min_impurity_split=None,\n",
       "            min_samples_leaf=1, min_samples_split=2,\n",
       "            min_weight_fraction_leaf=0.0, n_estimators=100, n_jobs=1,\n",
       "            oob_score=False, random_state=None, verbose=0,\n",
       "            warm_start=False)"
      ]
     },
     "execution_count": 73,
     "metadata": {},
     "output_type": "execute_result"
    }
   ],
   "source": [
    "rft = RandomForestClassifier(n_estimators=100)\n",
    "rft.fit(x_train, y_train)"
   ]
  },
  {
   "cell_type": "markdown",
   "metadata": {},
   "source": [
    "## Tahap 2: Prediksi dan Evaluasi"
   ]
  },
  {
   "cell_type": "code",
   "execution_count": 74,
   "metadata": {},
   "outputs": [
    {
     "data": {
      "text/plain": [
       "array([1, 1, 1, 1, 0, 0, 0, 1, 1, 1, 1, 1, 1, 0, 0, 1, 0, 1, 1, 1, 1, 0,\n",
       "       0, 1, 1, 0, 0, 1, 1, 0, 1, 1, 1, 1, 0, 1, 1, 0, 1, 1, 0, 1, 0, 1,\n",
       "       1, 1, 1, 0, 0, 1, 1, 0, 1, 0, 1, 1, 0, 0, 1, 1, 1, 1, 1, 1, 0, 1,\n",
       "       1, 1, 1, 0, 1, 1, 1, 1, 0, 1, 0, 0, 1, 0, 1, 0, 1, 1, 1, 1, 1, 1,\n",
       "       1, 1, 1, 1, 1, 0, 1, 0, 1, 0, 1, 0, 1, 1, 1, 0, 1, 0, 1, 1, 1, 0,\n",
       "       0, 1, 1, 1, 0, 0, 1, 0, 1, 1, 0, 1, 0, 1, 1, 1, 0, 1, 0, 0, 1, 1,\n",
       "       1, 1, 1, 1, 1, 1, 0, 1, 0, 1, 1, 1, 0, 1, 1, 0, 1, 1, 1, 1, 1, 1,\n",
       "       1, 1, 0, 1, 1, 1, 1, 1, 1, 1, 1, 1, 0, 1, 1, 0, 1, 1, 1, 1, 1, 1,\n",
       "       0, 1, 1, 1, 0, 1, 1, 1, 1, 0, 0, 1, 1, 0, 0, 1, 1, 1, 1, 1, 0, 1,\n",
       "       1, 1, 1, 0, 1, 1, 1, 1, 1, 1, 0, 1, 1, 0, 0, 1, 1, 0, 1, 1, 1, 0,\n",
       "       0, 1, 0, 1, 0, 0, 1, 0, 1, 1, 0, 1, 1, 1, 1, 1, 1, 1, 1, 1, 1, 1,\n",
       "       1, 1, 0, 1, 0, 1, 1, 1, 1, 0, 1, 0, 1, 1, 1, 1, 1, 1, 1, 1, 1, 1,\n",
       "       1, 0, 1, 1, 1, 0, 1, 0, 0, 1, 0, 1, 1, 1, 1, 1, 1, 0, 1, 1, 1, 0,\n",
       "       1, 0, 1, 1, 0, 1, 1, 0, 1, 1, 1, 1, 1, 1, 1, 1, 0, 1, 0, 0, 1, 1,\n",
       "       0, 0, 1, 1, 0, 1, 1, 0, 1, 1, 1, 1, 1, 1, 1, 0, 0, 0, 1, 1, 1, 0,\n",
       "       0, 1, 1, 0, 0, 1, 0, 1, 1, 0, 1, 0, 0, 0, 1, 0, 1, 1, 1, 1, 0, 1,\n",
       "       1, 1, 0, 1, 0, 1, 0, 0, 0, 1, 1, 0, 1, 0, 1, 1, 1, 1, 1, 1, 0, 1,\n",
       "       1, 1, 1, 0, 1, 1, 0, 1, 1, 1, 1, 1, 1, 1, 1, 0, 1, 1, 0, 1, 1, 1,\n",
       "       1, 0, 0, 1, 0, 1, 1, 0, 1, 1, 1, 1, 1, 0, 1, 1, 1, 0, 1, 0, 1, 1,\n",
       "       1, 1, 0, 1, 0, 1, 1, 1, 1, 0, 1, 1, 1, 1, 1, 1, 1, 1, 1, 1, 1, 1,\n",
       "       1, 0, 1, 1, 1, 1, 0, 1, 1, 0, 1, 1, 1, 0, 0, 1, 0, 1, 1, 0, 1, 1,\n",
       "       1, 0, 0, 0, 0, 0, 1, 0, 1, 1, 0, 0, 1, 1, 1, 0, 0, 0, 1, 1, 1, 1,\n",
       "       0, 0, 1, 1, 0, 1, 1, 1, 0, 1, 1, 1, 0, 1, 1, 1, 0, 0, 1, 1, 1, 1,\n",
       "       1, 1, 0, 0, 1, 1, 0, 1, 1, 1, 1, 1, 0, 1, 0, 1, 0, 1, 1, 1, 1, 0,\n",
       "       1, 1, 1, 1, 1, 1, 1, 0, 1, 1, 0, 1, 1, 1, 0, 1, 1, 0, 1, 0, 1, 1,\n",
       "       1, 1, 1, 1, 1, 1, 1, 0, 1, 1, 0, 1, 1, 0, 1, 1, 0, 1, 1, 1, 1, 1,\n",
       "       1, 1, 1, 1, 1, 1, 1, 1, 1, 1, 1, 1, 1, 1, 0, 1, 0, 0, 1, 1, 1, 1,\n",
       "       1, 0, 1, 0, 0, 1, 1, 1, 1, 0, 1, 0, 0, 0, 1, 0, 0, 1, 0, 1, 1, 0,\n",
       "       1, 1, 0, 1, 0, 0, 1, 0, 0, 1, 0, 1, 1, 1, 1, 1, 1, 0, 0, 1, 0, 1,\n",
       "       0, 1, 1, 1, 1, 1, 1, 0, 0, 0, 1, 1, 1, 1, 1, 1, 1, 1, 1, 0, 1, 1,\n",
       "       1, 1, 0, 1, 1, 1, 0, 1, 1, 1, 0, 0, 1, 1, 1, 1, 0, 1, 1, 1, 0, 1,\n",
       "       0, 1, 1, 1, 0, 0, 0, 1, 1, 0, 1, 1, 0, 1, 0, 1, 1, 0], dtype=int64)"
      ]
     },
     "execution_count": 74,
     "metadata": {},
     "output_type": "execute_result"
    }
   ],
   "source": [
    "#prediksi\n",
    "rft_pred = rft.predict(x_train)\n",
    "rft_pred"
   ]
  },
  {
   "cell_type": "code",
   "execution_count": 75,
   "metadata": {},
   "outputs": [
    {
     "name": "stdout",
     "output_type": "stream",
     "text": [
      "Accuracy: 1.0\n",
      "Precision: 1.0\n",
      "Recall: 1.0\n",
      "Specificity: 1.0\n"
     ]
    }
   ],
   "source": [
    "#melihat nilai akurasi, presisi, sensitifiti dan Specificity data training\n",
    "\n",
    "from sklearn import metrics\n",
    "print(\"Accuracy:\",metrics.accuracy_score(y_train, rft_pred))\n",
    "print(\"Precision:\",metrics.precision_score(y_train, rft_pred))\n",
    "print(\"Recall:\",metrics.recall_score(y_train, rft_pred))\n",
    "print(\"Specificity:\",metrics.recall_score(y_train, rft_pred))"
   ]
  },
  {
   "cell_type": "code",
   "execution_count": 76,
   "metadata": {},
   "outputs": [
    {
     "data": {
      "text/html": [
       "<div>\n",
       "<style scoped>\n",
       "    .dataframe tbody tr th:only-of-type {\n",
       "        vertical-align: middle;\n",
       "    }\n",
       "\n",
       "    .dataframe tbody tr th {\n",
       "        vertical-align: top;\n",
       "    }\n",
       "\n",
       "    .dataframe thead th {\n",
       "        text-align: right;\n",
       "    }\n",
       "</style>\n",
       "<table border=\"1\" class=\"dataframe\">\n",
       "  <thead>\n",
       "    <tr style=\"text-align: right;\">\n",
       "      <th>col_0</th>\n",
       "      <th>0</th>\n",
       "      <th>1</th>\n",
       "      <th>total</th>\n",
       "    </tr>\n",
       "    <tr>\n",
       "      <th>Status</th>\n",
       "      <th></th>\n",
       "      <th></th>\n",
       "      <th></th>\n",
       "    </tr>\n",
       "  </thead>\n",
       "  <tbody>\n",
       "    <tr>\n",
       "      <th>0</th>\n",
       "      <td>210</td>\n",
       "      <td>0</td>\n",
       "      <td>210</td>\n",
       "    </tr>\n",
       "    <tr>\n",
       "      <th>1</th>\n",
       "      <td>0</td>\n",
       "      <td>490</td>\n",
       "      <td>490</td>\n",
       "    </tr>\n",
       "  </tbody>\n",
       "</table>\n",
       "</div>"
      ],
      "text/plain": [
       "col_0     0    1  total\n",
       "Status                 \n",
       "0       210    0    210\n",
       "1         0  490    490"
      ]
     },
     "execution_count": 76,
     "metadata": {},
     "output_type": "execute_result"
    }
   ],
   "source": [
    "tabTest=pd.crosstab(y_train,rft_pred)\n",
    "tabTest['total']=tabTest.sum(axis=1)\n",
    "tabTest"
   ]
  },
  {
   "cell_type": "markdown",
   "metadata": {},
   "source": [
    "### Tugas"
   ]
  },
  {
   "cell_type": "markdown",
   "metadata": {},
   "source": [
    "1. Hitunglah akurasi, presisi, dan recall dari forest yang sudah diperoleh, menggunakan data testing."
   ]
  },
  {
   "cell_type": "code",
   "execution_count": 77,
   "metadata": {},
   "outputs": [
    {
     "data": {
      "text/plain": [
       "RandomForestClassifier(bootstrap=True, class_weight=None, criterion='gini',\n",
       "            max_depth=None, max_features='auto', max_leaf_nodes=None,\n",
       "            min_impurity_decrease=0.0, min_impurity_split=None,\n",
       "            min_samples_leaf=1, min_samples_split=2,\n",
       "            min_weight_fraction_leaf=0.0, n_estimators=100, n_jobs=1,\n",
       "            oob_score=False, random_state=None, verbose=0,\n",
       "            warm_start=False)"
      ]
     },
     "execution_count": 77,
     "metadata": {},
     "output_type": "execute_result"
    }
   ],
   "source": [
    "rft = RandomForestClassifier(n_estimators=100)\n",
    "rft.fit(x_train, y_train)"
   ]
  },
  {
   "cell_type": "code",
   "execution_count": 78,
   "metadata": {},
   "outputs": [
    {
     "data": {
      "text/plain": [
       "array([1, 1, 1, 1, 1, 1, 1, 1, 0, 1, 1, 0, 1, 0, 1, 1, 1, 1, 1, 1, 0, 1,\n",
       "       1, 1, 1, 1, 1, 1, 1, 0, 1, 1, 1, 1, 1, 0, 1, 1, 1, 1, 1, 1, 1, 1,\n",
       "       1, 1, 1, 1, 1, 0, 0, 0, 1, 1, 1, 1, 1, 1, 1, 1, 1, 1, 1, 1, 1, 0,\n",
       "       1, 1, 1, 0, 0, 1, 0, 1, 1, 1, 0, 1, 0, 0, 0, 1, 1, 1, 1, 1, 1, 0,\n",
       "       1, 1, 1, 1, 1, 1, 1, 0, 1, 1, 1, 1, 1, 1, 1, 0, 1, 1, 0, 1, 1, 1,\n",
       "       1, 1, 1, 1, 1, 1, 1, 0, 1, 1, 0, 1, 1, 1, 1, 1, 1, 1, 1, 1, 1, 1,\n",
       "       1, 1, 1, 1, 1, 0, 0, 1, 1, 1, 1, 1, 1, 0, 0, 1, 1, 1, 1, 1, 1, 1,\n",
       "       0, 1, 1, 1, 1, 1, 1, 1, 0, 1, 1, 1, 1, 1, 1, 0, 0, 1, 1, 1, 1, 1,\n",
       "       1, 0, 0, 1, 1, 1, 1, 1, 1, 1, 1, 1, 1, 1, 1, 0, 1, 1, 1, 1, 1, 1,\n",
       "       0, 1, 1, 1, 0, 1, 0, 1, 0, 1, 0, 1, 1, 0, 1, 1, 1, 1, 0, 1, 1, 1,\n",
       "       0, 1, 1, 0, 1, 1, 1, 1, 1, 0, 1, 1, 1, 1, 1, 1, 1, 1, 1, 1, 1, 1,\n",
       "       1, 1, 1, 0, 1, 1, 1, 1, 0, 1, 1, 1, 1, 0, 1, 0, 1, 0, 1, 1, 1, 1,\n",
       "       1, 1, 1, 1, 1, 1, 1, 0, 1, 0, 1, 1, 1, 1, 1, 1, 0, 1, 0, 1, 0, 1,\n",
       "       1, 1, 0, 1, 1, 1, 1, 1, 1, 0, 1, 1, 1, 1], dtype=int64)"
      ]
     },
     "execution_count": 78,
     "metadata": {},
     "output_type": "execute_result"
    }
   ],
   "source": [
    "#prediksi\n",
    "rft_pred = rft.predict(x_test)\n",
    "rft_pred"
   ]
  },
  {
   "cell_type": "code",
   "execution_count": 79,
   "metadata": {},
   "outputs": [
    {
     "name": "stdout",
     "output_type": "stream",
     "text": [
      "Accuracy: 0.7666666666666667\n",
      "Precision: 0.7868852459016393\n",
      "Recall: 0.9142857142857143\n",
      "Specificity: 0.4222222222222222\n"
     ]
    }
   ],
   "source": [
    "#melihat nilai akurasi, presisi, sensitifiti dan Specificity data testing\n",
    "\n",
    "from sklearn import metrics\n",
    "print(\"Accuracy:\",metrics.accuracy_score(y_test, rft_pred))\n",
    "print(\"Precision:\",metrics.precision_score(y_test, rft_pred))\n",
    "print(\"Recall:\",metrics.recall_score(y_test, rft_pred))\n",
    "print(\"Specificity:\",metrics.recall_score(1-y_test, 1-rft_pred))"
   ]
  },
  {
   "cell_type": "code",
   "execution_count": 80,
   "metadata": {},
   "outputs": [
    {
     "data": {
      "text/plain": [
       "array([0.08167133, 0.10981309, 0.03277669, 0.03579906, 0.08673185,\n",
       "       0.02172063, 0.01279011, 0.01645181, 0.03519675, 0.00847017,\n",
       "       0.04197628, 0.00745355, 0.01885816, 0.01037302, 0.01421049,\n",
       "       0.01195474, 0.0111436 , 0.01835224, 0.01049661, 0.0013933 ,\n",
       "       0.00861233, 0.01491234, 0.00169015, 0.01566843, 0.00412292,\n",
       "       0.00123814, 0.01141035, 0.01214681, 0.00903129, 0.00734809,\n",
       "       0.00844584, 0.01027992, 0.00838336, 0.01159835, 0.0107846 ,\n",
       "       0.00740412, 0.01429717, 0.00731312, 0.00749566, 0.01670221,\n",
       "       0.00534086, 0.00603346, 0.00834045, 0.01445176, 0.0151442 ,\n",
       "       0.01056227, 0.01546264, 0.01379529, 0.01366194, 0.00578891,\n",
       "       0.00540028, 0.01542499, 0.01273237, 0.01199252, 0.01507688,\n",
       "       0.00186635, 0.01272669, 0.01641521, 0.01599352, 0.00413675,\n",
       "       0.00313398])"
      ]
     },
     "execution_count": 80,
     "metadata": {},
     "output_type": "execute_result"
    }
   ],
   "source": [
    "importances = rft.feature_importances_\n",
    "importances"
   ]
  },
  {
   "cell_type": "code",
   "execution_count": 111,
   "metadata": {},
   "outputs": [
    {
     "data": {
      "text/plain": [
       "array([25, 19, 22, 55, 60, 24, 59, 40, 50, 49, 41, 37, 29, 35, 11, 38, 42,\n",
       "       32, 30,  9, 20, 28, 31, 13, 18, 45, 34, 16, 26, 33, 15, 53, 27, 56,\n",
       "       52,  6, 48, 47, 14, 36, 43, 21, 54, 44, 51, 46, 23, 58, 57,  7, 39,\n",
       "       17, 12,  5,  2,  8,  3, 10,  0,  4,  1], dtype=int64)"
      ]
     },
     "execution_count": 111,
     "metadata": {},
     "output_type": "execute_result"
    }
   ],
   "source": [
    "#sorting\n",
    "import numpy as np\n",
    "indices = np.argsort(importances)\n",
    "indices"
   ]
  },
  {
   "cell_type": "code",
   "execution_count": 114,
   "metadata": {},
   "outputs": [
    {
     "data": {
      "text/plain": [
       "array([39, 17, 12,  5,  2,  8,  3, 10,  0,  4,  1], dtype=int64)"
      ]
     },
     "execution_count": 114,
     "metadata": {},
     "output_type": "execute_result"
    }
   ],
   "source": [
    "indices[50:61,]"
   ]
  },
  {
   "cell_type": "code",
   "execution_count": 115,
   "metadata": {},
   "outputs": [],
   "source": [
    "indices=indices[50:61,]"
   ]
  },
  {
   "cell_type": "code",
   "execution_count": 118,
   "metadata": {},
   "outputs": [
    {
     "name": "stdout",
     "output_type": "stream",
     "text": [
      "Index(['Sex & Marital Status_male-single', 'Purpose_car-new',\n",
      "       'Payment Status of Previous Credit_critical account',\n",
      "       'No of Credits at this Bank', 'Instalment per cent',\n",
      "       'Account Balance_account < 0 ', 'Duration in Current address',\n",
      "       'Account Balance_no cheking account', 'Duration of Credit (month)',\n",
      "       'Age (years)', 'Credit Amount'],\n",
      "      dtype='object')\n"
     ]
    }
   ],
   "source": [
    "features = datapilot.columns[1:62][indices]\n",
    "print(features)"
   ]
  },
  {
   "cell_type": "code",
   "execution_count": 119,
   "metadata": {},
   "outputs": [
    {
     "data": {
      "text/plain": [
       "Text(0.5,0,'Relative Importance')"
      ]
     },
     "execution_count": 119,
     "metadata": {},
     "output_type": "execute_result"
    },
    {
     "data": {
      "image/png": "[encoded data removed]",
      "text/plain": [
       "<Figure size 432x288 with 1 Axes>"
      ]
     },
     "metadata": {
      "needs_background": "light"
     },
     "output_type": "display_data"
    }
   ],
   "source": [
    "import matplotlib.pyplot as plt\n",
    "plt.figure(1)\n",
    "plt.title('Feature Importances')\n",
    "plt.barh(range(len(indices)), importances[indices], color='b', align='center')\n",
    "plt.yticks(range(len(indices)), features)\n",
    "plt.xlabel('Relative Importance')"
   ]
  },
  {
   "cell_type": "code",
   "execution_count": null,
   "metadata": {},
   "outputs": [],
   "source": []
  }
 ],
 "metadata": {
  "kernelspec": {
   "display_name": "Python 3",
   "language": "python",
   "name": "python3"
  },
  "language_info": {
   "codemirror_mode": {
    "name": "ipython",
    "version": 3
   },
   "file_extension": ".py",
   "mimetype": "text/x-python",
   "name": "python",
   "nbconvert_exporter": "python",
   "pygments_lexer": "ipython3",
   "version": "3.7.0"
  }
 },
 "nbformat": 4,
 "nbformat_minor": 2
}
